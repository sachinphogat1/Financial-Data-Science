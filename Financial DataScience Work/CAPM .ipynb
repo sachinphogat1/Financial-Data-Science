{
 "cells": [
  {
   "cell_type": "markdown",
   "metadata": {},
   "source": [
    "# Asset Pricing"
   ]
  },
  {
   "cell_type": "markdown",
   "metadata": {},
   "source": [
    "Financial investment decision is a function of risk and return, which are positively related to each other. Investor tries to obtain highest possible return while mitigating the risk as much as possible. So, in a nutshell, investor tend to invest in an asset with best risk-return combination. But the question is how can we estimate the best risk-return combination?"
   ]
  },
  {
   "cell_type": "markdown",
   "metadata": {},
   "source": [
    "This lesson tries to tackle this question using two celebrated models. In this part of the lesson, we will discuss the two prominent models about asset valuation: \n",
    "* Capital Asset Pricing Model\n",
    "* Arbitrage Pricing Theorem"
   ]
  },
  {
   "cell_type": "markdown",
   "metadata": {},
   "source": [
    "## Capital Asset Pricing Model (CAPM) "
   ]
  },
  {
   "cell_type": "markdown",
   "metadata": {},
   "source": [
    "It is an easy task to measure return of an asset, which is nothing but a change in an asset's value based on previous period. How about risk? It is exactly where `Markowitz's Portfolio Theory`comes into the picture. Markowitz's article titled [\"Portfolio Selection\"](https://www.math.ust.hk/~maykwok/courses/ma362/07F/markowitz_JF.pdf) provides a clear definition of what had hitherto been unambiguous. "
   ]
  },
  {
   "cell_type": "markdown",
   "metadata": {},
   "source": [
    "This trade-off is defined as the selection problem of the portfolio mean and variance of the assets, and given the risk level the theory has suggested that high expected return should be selected. Expected return and risk are given as follows:"
   ]
  },
  {
   "cell_type": "markdown",
   "metadata": {},
   "source": [
    "\\begin{equation} \\text{Expected Return}=\\mathbb{E}(R_i)\\end{equation}\n",
    "\\begin{equation}\\text{Risk}=\\sigma (R_i)\\end{equation}"
   ]
  },
  {
   "cell_type": "markdown",
   "metadata": {},
   "source": [
    "where $R_i$ is the return of ith asset and $\\mathbb{E}$ denotes expectation operator, and $\\sigma$ represents the standard deviation of return. Thus, standard deviation is assumed to be a risk of an asset and this approach paves the way for further analysis."
   ]
  },
  {
   "cell_type": "markdown",
   "metadata": {},
   "source": [
    "Starting with Markowitz's contribution, risk-return relationship of an asset is well-founded as new approaches emerges. Of these approaches. Capital Asset Pricing Model is the one of the most prominents one."
   ]
  },
  {
   "cell_type": "markdown",
   "metadata": {},
   "source": [
    "The CAPM is based on the idea that the individual investor can make a combination between the borrower portfolios and the lender portfolios, to organize his own risk and to create an optimal portfolio among the risky assets. CAPM, suggested by [Sharpe (1964)](http://efinance.org.cn/cn/fm/Capital%20Asset%20Prices%20A%20Theory%20of%20Market%20Equilibrium%20under%20Conditions%20of%20Risk.pdf), [Lintner (1965)](http://www.empirical.net/wp-content/uploads/2014/12/Lintner-The-Valuation-of-Risk-Assets-and-the-Selection-of-Risky-Investments-in-Stock-Portfolios-and-Capital-Budgets.pdf), and [Black (1972)](http://www.stat.ucla.edu/~nchristo/statistics_c183_c283/fischer_black_trace_out.pdf) , is a model investigating the systematic risk and return in a competitive market. "
   ]
  },
  {
   "cell_type": "markdown",
   "metadata": {},
   "source": [
    "As we have discussed, the primary motivation of an investor in forming a best risk-return portfolio is to mitigate the risk while having highest return but it is not possible to make all risks go away. That is to say, there are some risks that an investor can mitigate and some he/she cannot. By diversification, which is simply forming a portfolio with assets having high risk-return relationship and with assets having low risk-return relationship, the risk can be reduced to certain level. But what is this level?"
   ]
  },
  {
   "cell_type": "markdown",
   "metadata": {},
   "source": [
    "In order to better understand and handle the risk in finance, we need to differentiate it:\n",
    "* Systematic Risk: It is the that cannot be disappeared by diversification. Therefore it is also referred to as `non-diversifiable risk`.  More specifically, random fluctuations in the value of an asset can be balanced out by holding diverse assets. Some systematic risks are:\n",
    "    * Interest rate risk\n",
    "    * Inflation risk\n",
    "    * Market risk"
   ]
  },
  {
   "cell_type": "markdown",
   "metadata": {},
   "source": [
    "* Unsystematic Risk: It is the risk that can be mitigated through diversification. That is random fluctuations in the value of the asset can be balanced out by holding many different assets. Therefore, when a portfolio is well-diversified, investments with a strong performance compensate for the negative results from poorly performing investments.  Unsystematic risk arises from stock-specific issues. Some unsystematic risks can be listed as:\n",
    "    * Business risk: Any Internal weakness of a company can jeopardize its profitability\n",
    "    * Financial risk: Change in capital structure allocation of a company\n",
    "    * Entrance of a new competitor"
   ]
  },
  {
   "cell_type": "markdown",
   "metadata": {},
   "source": [
    "CAPM examines the systematic risk ($\\beta$) and expected return in a competitive market. It is a parametric and univariate approach. The ultimate aim of this method is to price an individual security or a portfolio. Let's now talk about the components and the formula of CAPM:"
   ]
  },
  {
   "cell_type": "markdown",
   "metadata": {},
   "source": [
    "\\begin{equation}\\mathbb{E}(R_i)=\\alpha_i+\\beta_i\\mathbb{E}(R_m)\\end{equation}"
   ]
  },
  {
   "cell_type": "markdown",
   "metadata": {},
   "source": [
    "where\n",
    " * $R_i$: Expected excess return of the $i^{th}$ stock\n",
    " * $\\alpha_i$: asset’s return-loss coming from technical analysis\n",
    " * $R_m$: Expected excess market return\n",
    " * $\\beta_{i}$: Slope coefficient\n",
    " "
   ]
  },
  {
   "cell_type": "markdown",
   "metadata": {},
   "source": [
    "Here, excess return represents the portion of an individual stock or market return above the `risk free rate`. Or it can be formulated as:"
   ]
  },
  {
   "cell_type": "markdown",
   "metadata": {},
   "source": [
    "\\begin{equation} \\mathbb{E}(R_i)=\\mathbb{E}(r_i)-r_f \\end{equation}"
   ]
  },
  {
   "cell_type": "markdown",
   "metadata": {},
   "source": [
    "where $r_f$ is risk free rate and $r_i$ is the individual stock return. So, excess return checks if an asset yields  larger return than a safe asset. If so, it is a motivation to invest, otherwise, investor prefer to invest in a safe asset whose return is low but guaranteed."
   ]
  },
  {
   "cell_type": "markdown",
   "metadata": {},
   "source": [
    "The result, denoted as $\\mathbb{E}(R_i)$, is also the required return or discount rate used in valuing an asset or a project that we discuss in NPV lesson:"
   ]
  },
  {
   "cell_type": "markdown",
   "metadata": {},
   "source": [
    "Required Rate of Return = Risk Free Rate of Return + Beta*(Market Return – Risk Free Rate of Return)"
   ]
  },
  {
   "cell_type": "markdown",
   "metadata": {},
   "source": [
    "We need to put special emphasize on $\\beta$, which shows the extent to which an investment adds risk to a portfolio. Put differently, it is a measure of systematic risk of a stock in comparison to the market. It is also indicates the correlation between individual stock and market: \n",
    "\n"
   ]
  },
  {
   "cell_type": "markdown",
   "metadata": {},
   "source": [
    "* If the $\\beta$>1, stock is riskier than the benchmark market\n",
    "* If the $\\beta$=1, stock is as risky as the benchmark market\n",
    "* If the $\\beta$<1, stock is less risky than the benchmark market"
   ]
  },
  {
   "cell_type": "markdown",
   "metadata": {},
   "source": [
    "Hence, beta coefficient indicates the ratio between the covariance of individual stock return and market return and the stock market return variance:"
   ]
  },
  {
   "cell_type": "markdown",
   "metadata": {},
   "source": [
    "\\begin{equation}\\beta_i = \\frac{\\text{Cov}(r_i, r_m)}{\\text{Var}(r_m)}\\end{equation}"
   ]
  },
  {
   "cell_type": "markdown",
   "metadata": {},
   "source": [
    "In econometrical approach, CAPM can be defined as:"
   ]
  },
  {
   "cell_type": "markdown",
   "metadata": {},
   "source": [
    "\\begin{equation}\n",
    "\\mathbb{E}(r_i)-r_f= \\alpha_i + \\beta_{i}(\\mathbb{E}(r_m)-r_f) + \\epsilon_i\n",
    "\\end{equation}"
   ]
  },
  {
   "cell_type": "markdown",
   "metadata": {},
   "source": [
    "where\n",
    " * $\\epsilon_i$: Error term"
   ]
  },
  {
   "cell_type": "markdown",
   "metadata": {},
   "source": [
    "As a final note for this theoretical discussion, I would like to name a few pros and cons of CAPM approach:"
   ]
  },
  {
   "cell_type": "markdown",
   "metadata": {},
   "source": [
    "**Pros**"
   ]
  },
  {
   "cell_type": "markdown",
   "metadata": {},
   "source": [
    "* Ease of use\n",
    "\n",
    "* Diversified Portfolio: The assumption that investors have a diversified portfolio similar to the market portfolio eliminates the non-systematic (specific) risk.\n",
    "\n",
    "* CAPM takes into account systematic risk\n",
    "\n",
    "* CAPM can be used as a model to account for the business and financial risk variability"
   ]
  },
  {
   "cell_type": "markdown",
   "metadata": {},
   "source": [
    "**Cons**"
   ]
  },
  {
   "cell_type": "markdown",
   "metadata": {},
   "source": [
    "* The proxy used for risk free rate  is subject to change and open to discussion.\n",
    "* A risk-free borrowing capability is far from being realistic\n",
    "* Using CAPM to evaluate an investment must find a suitable beta for the project or investment to correctly evaluate it."
   ]
  },
  {
   "cell_type": "markdown",
   "metadata": {},
   "source": [
    "In this part, instead of visiting a website and downloading the data to our local computer, we directly access to `yahoo finance` and retrieve the data as  we have learned in the previous lesson. To compare the performance of the companies, we will run CAPM analyses with three difference companies operating in telecomunication sector. These companies are `Apple`,`Microsoft`, `Intel` and the market these stocks are listed is `S&P-500`. We use tickers to retreive data from yahoo finance:\n",
    " \n",
    " * AAPL: Apple\n",
    " * MSFT: Microsoft\n",
    " * INTC: Intel\n",
    " * ^GSPC: S&P-500"
   ]
  },
  {
   "cell_type": "code",
   "execution_count": 1,
   "metadata": {},
   "outputs": [],
   "source": [
    "import pandas as pd\n",
    "import matplotlib.pyplot as plt\n",
    "import numpy as np\n",
    "import datetime\n",
    "import seaborn as sns\n",
    "import warnings\n",
    "import yfinance as yf\n",
    "import seaborn as sns; sns.set()\n",
    "yf.pdr_override() \n",
    "%matplotlib inline\n",
    "warnings.filterwarnings('ignore')"
   ]
  },
  {
   "cell_type": "markdown",
   "metadata": {},
   "source": [
    "The analysis covers the business day for the period of 01-01-2021 and 04-01-2021 with daily stock price data."
   ]
  },
  {
   "cell_type": "code",
   "execution_count": 2,
   "metadata": {},
   "outputs": [
    {
     "name": "stdout",
     "output_type": "stream",
     "text": [
      "[*********************100%***********************]  4 of 4 completed\n"
     ]
    }
   ],
   "source": [
    "stocks = ['AAPL', 'MSFT', 'INTC', '^GSPC']\n",
    "start = datetime.datetime(2021, 1, 1)\n",
    "end = datetime.datetime(2021, 4, 1)\n",
    "stock_price = yf.download(stocks, start=start, end=end, interval='1d')"
   ]
  },
  {
   "cell_type": "code",
   "execution_count": 3,
   "metadata": {},
   "outputs": [
    {
     "data": {
      "text/html": [
       "<div>\n",
       "<style scoped>\n",
       "    .dataframe tbody tr th:only-of-type {\n",
       "        vertical-align: middle;\n",
       "    }\n",
       "\n",
       "    .dataframe tbody tr th {\n",
       "        vertical-align: top;\n",
       "    }\n",
       "\n",
       "    .dataframe thead tr th {\n",
       "        text-align: left;\n",
       "    }\n",
       "\n",
       "    .dataframe thead tr:last-of-type th {\n",
       "        text-align: right;\n",
       "    }\n",
       "</style>\n",
       "<table border=\"1\" class=\"dataframe\">\n",
       "  <thead>\n",
       "    <tr>\n",
       "      <th></th>\n",
       "      <th colspan=\"4\" halign=\"left\">Adj Close</th>\n",
       "      <th colspan=\"4\" halign=\"left\">Close</th>\n",
       "      <th colspan=\"2\" halign=\"left\">High</th>\n",
       "      <th>...</th>\n",
       "      <th colspan=\"2\" halign=\"left\">Low</th>\n",
       "      <th colspan=\"4\" halign=\"left\">Open</th>\n",
       "      <th colspan=\"4\" halign=\"left\">Volume</th>\n",
       "    </tr>\n",
       "    <tr>\n",
       "      <th></th>\n",
       "      <th>AAPL</th>\n",
       "      <th>INTC</th>\n",
       "      <th>MSFT</th>\n",
       "      <th>^GSPC</th>\n",
       "      <th>AAPL</th>\n",
       "      <th>INTC</th>\n",
       "      <th>MSFT</th>\n",
       "      <th>^GSPC</th>\n",
       "      <th>AAPL</th>\n",
       "      <th>INTC</th>\n",
       "      <th>...</th>\n",
       "      <th>MSFT</th>\n",
       "      <th>^GSPC</th>\n",
       "      <th>AAPL</th>\n",
       "      <th>INTC</th>\n",
       "      <th>MSFT</th>\n",
       "      <th>^GSPC</th>\n",
       "      <th>AAPL</th>\n",
       "      <th>INTC</th>\n",
       "      <th>MSFT</th>\n",
       "      <th>^GSPC</th>\n",
       "    </tr>\n",
       "    <tr>\n",
       "      <th>Date</th>\n",
       "      <th></th>\n",
       "      <th></th>\n",
       "      <th></th>\n",
       "      <th></th>\n",
       "      <th></th>\n",
       "      <th></th>\n",
       "      <th></th>\n",
       "      <th></th>\n",
       "      <th></th>\n",
       "      <th></th>\n",
       "      <th></th>\n",
       "      <th></th>\n",
       "      <th></th>\n",
       "      <th></th>\n",
       "      <th></th>\n",
       "      <th></th>\n",
       "      <th></th>\n",
       "      <th></th>\n",
       "      <th></th>\n",
       "      <th></th>\n",
       "      <th></th>\n",
       "    </tr>\n",
       "  </thead>\n",
       "  <tbody>\n",
       "    <tr>\n",
       "      <th>2020-12-31</th>\n",
       "      <td>131.333527</td>\n",
       "      <td>47.337849</td>\n",
       "      <td>219.139343</td>\n",
       "      <td>3756.070068</td>\n",
       "      <td>132.690002</td>\n",
       "      <td>49.820000</td>\n",
       "      <td>222.419998</td>\n",
       "      <td>3756.070068</td>\n",
       "      <td>134.740005</td>\n",
       "      <td>50.189999</td>\n",
       "      <td>...</td>\n",
       "      <td>219.679993</td>\n",
       "      <td>3726.879883</td>\n",
       "      <td>134.080002</td>\n",
       "      <td>48.750000</td>\n",
       "      <td>221.699997</td>\n",
       "      <td>3733.270020</td>\n",
       "      <td>99116600</td>\n",
       "      <td>28576800</td>\n",
       "      <td>20942100</td>\n",
       "      <td>3172510000</td>\n",
       "    </tr>\n",
       "    <tr>\n",
       "      <th>2021-01-04</th>\n",
       "      <td>128.087082</td>\n",
       "      <td>47.195316</td>\n",
       "      <td>214.479111</td>\n",
       "      <td>3700.649902</td>\n",
       "      <td>129.410004</td>\n",
       "      <td>49.669998</td>\n",
       "      <td>217.690002</td>\n",
       "      <td>3700.649902</td>\n",
       "      <td>133.610001</td>\n",
       "      <td>51.389999</td>\n",
       "      <td>...</td>\n",
       "      <td>214.809998</td>\n",
       "      <td>3662.709961</td>\n",
       "      <td>133.520004</td>\n",
       "      <td>49.889999</td>\n",
       "      <td>222.529999</td>\n",
       "      <td>3764.610107</td>\n",
       "      <td>143301900</td>\n",
       "      <td>46102500</td>\n",
       "      <td>37130100</td>\n",
       "      <td>5006680000</td>\n",
       "    </tr>\n",
       "    <tr>\n",
       "      <th>2021-01-05</th>\n",
       "      <td>129.670700</td>\n",
       "      <td>48.088486</td>\n",
       "      <td>214.685989</td>\n",
       "      <td>3726.860107</td>\n",
       "      <td>131.009995</td>\n",
       "      <td>50.610001</td>\n",
       "      <td>217.899994</td>\n",
       "      <td>3726.860107</td>\n",
       "      <td>131.740005</td>\n",
       "      <td>50.830002</td>\n",
       "      <td>...</td>\n",
       "      <td>215.699997</td>\n",
       "      <td>3695.070068</td>\n",
       "      <td>128.889999</td>\n",
       "      <td>49.450001</td>\n",
       "      <td>217.259995</td>\n",
       "      <td>3698.020020</td>\n",
       "      <td>97664900</td>\n",
       "      <td>24866600</td>\n",
       "      <td>23823000</td>\n",
       "      <td>4582620000</td>\n",
       "    </tr>\n",
       "    <tr>\n",
       "      <th>2021-01-06</th>\n",
       "      <td>125.305801</td>\n",
       "      <td>48.554073</td>\n",
       "      <td>209.119339</td>\n",
       "      <td>3748.139893</td>\n",
       "      <td>126.599998</td>\n",
       "      <td>51.099998</td>\n",
       "      <td>212.250000</td>\n",
       "      <td>3748.139893</td>\n",
       "      <td>131.050003</td>\n",
       "      <td>52.150002</td>\n",
       "      <td>...</td>\n",
       "      <td>211.940002</td>\n",
       "      <td>3705.340088</td>\n",
       "      <td>127.720001</td>\n",
       "      <td>50.439999</td>\n",
       "      <td>212.169998</td>\n",
       "      <td>3712.199951</td>\n",
       "      <td>155088000</td>\n",
       "      <td>36809600</td>\n",
       "      <td>35930700</td>\n",
       "      <td>6049970000</td>\n",
       "    </tr>\n",
       "    <tr>\n",
       "      <th>2021-01-07</th>\n",
       "      <td>129.581650</td>\n",
       "      <td>49.589767</td>\n",
       "      <td>215.070267</td>\n",
       "      <td>3803.790039</td>\n",
       "      <td>130.919998</td>\n",
       "      <td>52.189999</td>\n",
       "      <td>218.289993</td>\n",
       "      <td>3803.790039</td>\n",
       "      <td>131.630005</td>\n",
       "      <td>52.689999</td>\n",
       "      <td>...</td>\n",
       "      <td>213.710007</td>\n",
       "      <td>3764.709961</td>\n",
       "      <td>128.360001</td>\n",
       "      <td>51.490002</td>\n",
       "      <td>214.039993</td>\n",
       "      <td>3764.709961</td>\n",
       "      <td>109578200</td>\n",
       "      <td>32092300</td>\n",
       "      <td>27694500</td>\n",
       "      <td>5080870000</td>\n",
       "    </tr>\n",
       "  </tbody>\n",
       "</table>\n",
       "<p>5 rows × 24 columns</p>\n",
       "</div>"
      ],
      "text/plain": [
       "             Adj Close                                           Close  \\\n",
       "                  AAPL       INTC        MSFT        ^GSPC        AAPL   \n",
       "Date                                                                     \n",
       "2020-12-31  131.333527  47.337849  219.139343  3756.070068  132.690002   \n",
       "2021-01-04  128.087082  47.195316  214.479111  3700.649902  129.410004   \n",
       "2021-01-05  129.670700  48.088486  214.685989  3726.860107  131.009995   \n",
       "2021-01-06  125.305801  48.554073  209.119339  3748.139893  126.599998   \n",
       "2021-01-07  129.581650  49.589767  215.070267  3803.790039  130.919998   \n",
       "\n",
       "                                                      High             ...  \\\n",
       "                 INTC        MSFT        ^GSPC        AAPL       INTC  ...   \n",
       "Date                                                                   ...   \n",
       "2020-12-31  49.820000  222.419998  3756.070068  134.740005  50.189999  ...   \n",
       "2021-01-04  49.669998  217.690002  3700.649902  133.610001  51.389999  ...   \n",
       "2021-01-05  50.610001  217.899994  3726.860107  131.740005  50.830002  ...   \n",
       "2021-01-06  51.099998  212.250000  3748.139893  131.050003  52.150002  ...   \n",
       "2021-01-07  52.189999  218.289993  3803.790039  131.630005  52.689999  ...   \n",
       "\n",
       "                   Low                     Open                         \\\n",
       "                  MSFT        ^GSPC        AAPL       INTC        MSFT   \n",
       "Date                                                                     \n",
       "2020-12-31  219.679993  3726.879883  134.080002  48.750000  221.699997   \n",
       "2021-01-04  214.809998  3662.709961  133.520004  49.889999  222.529999   \n",
       "2021-01-05  215.699997  3695.070068  128.889999  49.450001  217.259995   \n",
       "2021-01-06  211.940002  3705.340088  127.720001  50.439999  212.169998   \n",
       "2021-01-07  213.710007  3764.709961  128.360001  51.490002  214.039993   \n",
       "\n",
       "                            Volume                                  \n",
       "                  ^GSPC       AAPL      INTC      MSFT       ^GSPC  \n",
       "Date                                                                \n",
       "2020-12-31  3733.270020   99116600  28576800  20942100  3172510000  \n",
       "2021-01-04  3764.610107  143301900  46102500  37130100  5006680000  \n",
       "2021-01-05  3698.020020   97664900  24866600  23823000  4582620000  \n",
       "2021-01-06  3712.199951  155088000  36809600  35930700  6049970000  \n",
       "2021-01-07  3764.709961  109578200  32092300  27694500  5080870000  \n",
       "\n",
       "[5 rows x 24 columns]"
      ]
     },
     "execution_count": 3,
     "metadata": {},
     "output_type": "execute_result"
    }
   ],
   "source": [
    "stock_price.head()"
   ]
  },
  {
   "cell_type": "code",
   "execution_count": 4,
   "metadata": {},
   "outputs": [],
   "source": [
    "stock_price = stock_price['Close']"
   ]
  },
  {
   "cell_type": "code",
   "execution_count": 5,
   "metadata": {},
   "outputs": [
    {
     "data": {
      "text/html": [
       "<div>\n",
       "<style scoped>\n",
       "    .dataframe tbody tr th:only-of-type {\n",
       "        vertical-align: middle;\n",
       "    }\n",
       "\n",
       "    .dataframe tbody tr th {\n",
       "        vertical-align: top;\n",
       "    }\n",
       "\n",
       "    .dataframe thead th {\n",
       "        text-align: right;\n",
       "    }\n",
       "</style>\n",
       "<table border=\"1\" class=\"dataframe\">\n",
       "  <thead>\n",
       "    <tr style=\"text-align: right;\">\n",
       "      <th></th>\n",
       "      <th>AAPL</th>\n",
       "      <th>INTC</th>\n",
       "      <th>MSFT</th>\n",
       "      <th>^GSPC</th>\n",
       "    </tr>\n",
       "  </thead>\n",
       "  <tbody>\n",
       "    <tr>\n",
       "      <th>count</th>\n",
       "      <td>62.000000</td>\n",
       "      <td>62.000000</td>\n",
       "      <td>62.000000</td>\n",
       "      <td>62.000000</td>\n",
       "    </tr>\n",
       "    <tr>\n",
       "      <th>mean</th>\n",
       "      <td>128.427903</td>\n",
       "      <td>59.438226</td>\n",
       "      <td>231.866613</td>\n",
       "      <td>3863.938563</td>\n",
       "    </tr>\n",
       "    <tr>\n",
       "      <th>std</th>\n",
       "      <td>6.726222</td>\n",
       "      <td>4.248762</td>\n",
       "      <td>9.164177</td>\n",
       "      <td>71.994513</td>\n",
       "    </tr>\n",
       "    <tr>\n",
       "      <th>min</th>\n",
       "      <td>116.360001</td>\n",
       "      <td>49.669998</td>\n",
       "      <td>212.250000</td>\n",
       "      <td>3700.649902</td>\n",
       "    </tr>\n",
       "    <tr>\n",
       "      <th>25%</th>\n",
       "      <td>121.984999</td>\n",
       "      <td>57.107501</td>\n",
       "      <td>226.894997</td>\n",
       "      <td>3810.167542</td>\n",
       "    </tr>\n",
       "    <tr>\n",
       "      <th>50%</th>\n",
       "      <td>128.315002</td>\n",
       "      <td>60.530001</td>\n",
       "      <td>233.525002</td>\n",
       "      <td>3873.589966</td>\n",
       "    </tr>\n",
       "    <tr>\n",
       "      <th>75%</th>\n",
       "      <td>133.752502</td>\n",
       "      <td>62.827500</td>\n",
       "      <td>237.677505</td>\n",
       "      <td>3915.557556</td>\n",
       "    </tr>\n",
       "    <tr>\n",
       "      <th>max</th>\n",
       "      <td>143.160004</td>\n",
       "      <td>65.779999</td>\n",
       "      <td>244.990005</td>\n",
       "      <td>3974.540039</td>\n",
       "    </tr>\n",
       "  </tbody>\n",
       "</table>\n",
       "</div>"
      ],
      "text/plain": [
       "             AAPL       INTC        MSFT        ^GSPC\n",
       "count   62.000000  62.000000   62.000000    62.000000\n",
       "mean   128.427903  59.438226  231.866613  3863.938563\n",
       "std      6.726222   4.248762    9.164177    71.994513\n",
       "min    116.360001  49.669998  212.250000  3700.649902\n",
       "25%    121.984999  57.107501  226.894997  3810.167542\n",
       "50%    128.315002  60.530001  233.525002  3873.589966\n",
       "75%    133.752502  62.827500  237.677505  3915.557556\n",
       "max    143.160004  65.779999  244.990005  3974.540039"
      ]
     },
     "execution_count": 5,
     "metadata": {},
     "output_type": "execute_result"
    }
   ],
   "source": [
    "stock_price.describe()"
   ]
  },
  {
   "cell_type": "markdown",
   "metadata": {},
   "source": [
    "Summary statistics is a very first step to explore the dataset. Main statistics such as mean, standard deviation, minimum, maximum etc., can be calculated via `.describe()` in Python. Initial observation tells us that the price level and volatility (represented by standard deviation) of S&P-500 is quite different from the rest of the stocks."
   ]
  },
  {
   "cell_type": "markdown",
   "metadata": {},
   "source": [
    "As the caret sign `^` in the ticker of S&P-500 might cause problem in coding, I prefer rename this column before proceeding:"
   ]
  },
  {
   "cell_type": "code",
   "execution_count": 7,
   "metadata": {},
   "outputs": [],
   "source": [
    "stock_price = stock_price.rename({'^GSPC' :'GSPC'},  axis='columns')"
   ]
  },
  {
   "cell_type": "code",
   "execution_count": 8,
   "metadata": {},
   "outputs": [
    {
     "data": {
      "text/html": [
       "<div>\n",
       "<style scoped>\n",
       "    .dataframe tbody tr th:only-of-type {\n",
       "        vertical-align: middle;\n",
       "    }\n",
       "\n",
       "    .dataframe tbody tr th {\n",
       "        vertical-align: top;\n",
       "    }\n",
       "\n",
       "    .dataframe thead th {\n",
       "        text-align: right;\n",
       "    }\n",
       "</style>\n",
       "<table border=\"1\" class=\"dataframe\">\n",
       "  <thead>\n",
       "    <tr style=\"text-align: right;\">\n",
       "      <th></th>\n",
       "      <th>AAPL</th>\n",
       "      <th>INTC</th>\n",
       "      <th>MSFT</th>\n",
       "      <th>GSPC</th>\n",
       "    </tr>\n",
       "    <tr>\n",
       "      <th>Date</th>\n",
       "      <th></th>\n",
       "      <th></th>\n",
       "      <th></th>\n",
       "      <th></th>\n",
       "    </tr>\n",
       "  </thead>\n",
       "  <tbody>\n",
       "    <tr>\n",
       "      <th>2020-12-31</th>\n",
       "      <td>132.690002</td>\n",
       "      <td>49.820000</td>\n",
       "      <td>222.419998</td>\n",
       "      <td>3756.070068</td>\n",
       "    </tr>\n",
       "    <tr>\n",
       "      <th>2021-01-04</th>\n",
       "      <td>129.410004</td>\n",
       "      <td>49.669998</td>\n",
       "      <td>217.690002</td>\n",
       "      <td>3700.649902</td>\n",
       "    </tr>\n",
       "    <tr>\n",
       "      <th>2021-01-05</th>\n",
       "      <td>131.009995</td>\n",
       "      <td>50.610001</td>\n",
       "      <td>217.899994</td>\n",
       "      <td>3726.860107</td>\n",
       "    </tr>\n",
       "    <tr>\n",
       "      <th>2021-01-06</th>\n",
       "      <td>126.599998</td>\n",
       "      <td>51.099998</td>\n",
       "      <td>212.250000</td>\n",
       "      <td>3748.139893</td>\n",
       "    </tr>\n",
       "    <tr>\n",
       "      <th>2021-01-07</th>\n",
       "      <td>130.919998</td>\n",
       "      <td>52.189999</td>\n",
       "      <td>218.289993</td>\n",
       "      <td>3803.790039</td>\n",
       "    </tr>\n",
       "  </tbody>\n",
       "</table>\n",
       "</div>"
      ],
      "text/plain": [
       "                  AAPL       INTC        MSFT         GSPC\n",
       "Date                                                      \n",
       "2020-12-31  132.690002  49.820000  222.419998  3756.070068\n",
       "2021-01-04  129.410004  49.669998  217.690002  3700.649902\n",
       "2021-01-05  131.009995  50.610001  217.899994  3726.860107\n",
       "2021-01-06  126.599998  51.099998  212.250000  3748.139893\n",
       "2021-01-07  130.919998  52.189999  218.289993  3803.790039"
      ]
     },
     "execution_count": 8,
     "metadata": {},
     "output_type": "execute_result"
    }
   ],
   "source": [
    "stock_price.head()"
   ]
  },
  {
   "cell_type": "markdown",
   "metadata": {},
   "source": [
    "Now, after having the return for three stock and one market index, extracting risk free rate allows us to compute excess return. To access the risk free rate data, we use `Fred API` as we have learned previosly. Please note that there is no single risk free rate, different researchers apply different risk free rate but the common property of these rates is that they are issued by a government, which makes them safe heaven to invest. Here, we select `3-Month Treasury Constant Maturity Rate`, which is short-term T-Bill with relatively low and safe return."
   ]
  },
  {
   "cell_type": "markdown",
   "metadata": {},
   "source": [
    "Practically speaking, risk-free rate is hypothetical term, because even the safest investments carry a very small amount of risk. However, it is not wrong to say that government-issued debt is much safer compared to comporate-issued one. That is being said, the interest rate on a three-month U.S. Treasury bill is useful proxy for the risk-free rate for U.S.-based investors. "
   ]
  },
  {
   "cell_type": "code",
   "execution_count": 9,
   "metadata": {},
   "outputs": [],
   "source": [
    "from fredapi import Fred\n",
    "fred = Fred(api_key='78b14ec6ba46f484b94db43694468bb1')#  my API key"
   ]
  },
  {
   "cell_type": "code",
   "execution_count": 13,
   "metadata": {},
   "outputs": [
    {
     "data": {
      "text/html": [
       "<div>\n",
       "<style scoped>\n",
       "    .dataframe tbody tr th:only-of-type {\n",
       "        vertical-align: middle;\n",
       "    }\n",
       "\n",
       "    .dataframe tbody tr th {\n",
       "        vertical-align: top;\n",
       "    }\n",
       "\n",
       "    .dataframe thead th {\n",
       "        text-align: right;\n",
       "    }\n",
       "</style>\n",
       "<table border=\"1\" class=\"dataframe\">\n",
       "  <thead>\n",
       "    <tr style=\"text-align: right;\">\n",
       "      <th></th>\n",
       "      <th>frequency</th>\n",
       "      <th>frequency_short</th>\n",
       "      <th>id</th>\n",
       "      <th>last_updated</th>\n",
       "      <th>notes</th>\n",
       "      <th>observation_end</th>\n",
       "      <th>observation_start</th>\n",
       "      <th>popularity</th>\n",
       "      <th>realtime_end</th>\n",
       "      <th>realtime_start</th>\n",
       "      <th>seasonal_adjustment</th>\n",
       "      <th>seasonal_adjustment_short</th>\n",
       "      <th>title</th>\n",
       "      <th>units</th>\n",
       "      <th>units_short</th>\n",
       "    </tr>\n",
       "    <tr>\n",
       "      <th>series id</th>\n",
       "      <th></th>\n",
       "      <th></th>\n",
       "      <th></th>\n",
       "      <th></th>\n",
       "      <th></th>\n",
       "      <th></th>\n",
       "      <th></th>\n",
       "      <th></th>\n",
       "      <th></th>\n",
       "      <th></th>\n",
       "      <th></th>\n",
       "      <th></th>\n",
       "      <th></th>\n",
       "      <th></th>\n",
       "      <th></th>\n",
       "    </tr>\n",
       "  </thead>\n",
       "  <tbody>\n",
       "    <tr>\n",
       "      <th>DGS3MO</th>\n",
       "      <td>Daily</td>\n",
       "      <td>D</td>\n",
       "      <td>DGS3MO</td>\n",
       "      <td>2022-09-23 15:19:13-05:00</td>\n",
       "      <td>For further information regarding treasury con...</td>\n",
       "      <td>2022-09-22</td>\n",
       "      <td>1981-09-01</td>\n",
       "      <td>72</td>\n",
       "      <td>2022-09-26</td>\n",
       "      <td>2022-09-26</td>\n",
       "      <td>Not Seasonally Adjusted</td>\n",
       "      <td>NSA</td>\n",
       "      <td>Market Yield on U.S. Treasury Securities at 3-...</td>\n",
       "      <td>Percent</td>\n",
       "      <td>%</td>\n",
       "    </tr>\n",
       "  </tbody>\n",
       "</table>\n",
       "</div>"
      ],
      "text/plain": [
       "          frequency frequency_short      id              last_updated  \\\n",
       "series id                                                               \n",
       "DGS3MO        Daily               D  DGS3MO 2022-09-23 15:19:13-05:00   \n",
       "\n",
       "                                                       notes observation_end  \\\n",
       "series id                                                                      \n",
       "DGS3MO     For further information regarding treasury con...      2022-09-22   \n",
       "\n",
       "          observation_start popularity realtime_end realtime_start  \\\n",
       "series id                                                            \n",
       "DGS3MO           1981-09-01         72   2022-09-26     2022-09-26   \n",
       "\n",
       "               seasonal_adjustment seasonal_adjustment_short  \\\n",
       "series id                                                      \n",
       "DGS3MO     Not Seasonally Adjusted                       NSA   \n",
       "\n",
       "                                                       title    units  \\\n",
       "series id                                                               \n",
       "DGS3MO     Market Yield on U.S. Treasury Securities at 3-...  Percent   \n",
       "\n",
       "          units_short  \n",
       "series id              \n",
       "DGS3MO              %  "
      ]
     },
     "execution_count": 13,
     "metadata": {},
     "output_type": "execute_result"
    }
   ],
   "source": [
    "fred.search('DGS3MO')"
   ]
  },
  {
   "cell_type": "code",
   "execution_count": 14,
   "metadata": {},
   "outputs": [
    {
     "data": {
      "text/plain": [
       "1981-09-01    17.01\n",
       "1981-09-02    16.65\n",
       "1981-09-03    16.96\n",
       "1981-09-04    16.64\n",
       "1981-09-07      NaN\n",
       "              ...  \n",
       "2022-09-16     3.20\n",
       "2022-09-19     3.37\n",
       "2022-09-20     3.35\n",
       "2022-09-21     3.31\n",
       "2022-09-22     3.29\n",
       "Length: 10713, dtype: float64"
      ]
     },
     "execution_count": 14,
     "metadata": {},
     "output_type": "execute_result"
    }
   ],
   "source": [
    "risk_free = fred.get_series('DGS3MO')\n",
    "risk_free"
   ]
  },
  {
   "cell_type": "markdown",
   "metadata": {},
   "source": [
    "Visualization is quite helpful in understanding what the data looks like. So, as a first step, it is encouraged to plot the data and increase the awareness about it. Below, using line plot, trend of the four individual stock and market index are shown. Accordingly, aside from Apple, all others have tended to move upward despite ups and downs along the way."
   ]
  },
  {
   "cell_type": "code",
   "execution_count": 18,
   "metadata": {},
   "outputs": [
    {
     "data": {
      "image/png": "[encoded data removed]",
      "text/plain": [
       "<Figure size 432x288 with 1 Axes>"
      ]
     },
     "metadata": {
      "needs_background": "light"
     },
     "output_type": "display_data"
    }
   ],
   "source": [
    "stock_price.loc[:,['AAPL', 'INTC', 'MSFT']].plot()\n",
    "plt.title('Stock Prices')\n",
    "plt.xlabel('Date')\n",
    "plt.show()"
   ]
  },
  {
   "cell_type": "markdown",
   "metadata": {},
   "source": [
    "Correlation coefficient tells us the extent to which variables are related. `Correlation matrix` is a tool to calculate and visualize the correlation coefficients among the variables of interest. The most striking observation is the correlation coefficient of 76% between Comcast and S&P-500 indicating that there is a high correlation between these two variables. However, it is not the case for AT&T and Verizon whose correlation coefficients with S&P-500 are -52% and 55%, respectively."
   ]
  },
  {
   "cell_type": "code",
   "execution_count": 19,
   "metadata": {},
   "outputs": [
    {
     "data": {
      "text/html": [
       "<div>\n",
       "<style scoped>\n",
       "    .dataframe tbody tr th:only-of-type {\n",
       "        vertical-align: middle;\n",
       "    }\n",
       "\n",
       "    .dataframe tbody tr th {\n",
       "        vertical-align: top;\n",
       "    }\n",
       "\n",
       "    .dataframe thead th {\n",
       "        text-align: right;\n",
       "    }\n",
       "</style>\n",
       "<table border=\"1\" class=\"dataframe\">\n",
       "  <thead>\n",
       "    <tr style=\"text-align: right;\">\n",
       "      <th></th>\n",
       "      <th>AAPL</th>\n",
       "      <th>INTC</th>\n",
       "      <th>MSFT</th>\n",
       "      <th>GSPC</th>\n",
       "    </tr>\n",
       "  </thead>\n",
       "  <tbody>\n",
       "    <tr>\n",
       "      <th>AAPL</th>\n",
       "      <td>1.000000</td>\n",
       "      <td>-0.509901</td>\n",
       "      <td>0.121651</td>\n",
       "      <td>-0.281137</td>\n",
       "    </tr>\n",
       "    <tr>\n",
       "      <th>INTC</th>\n",
       "      <td>-0.509901</td>\n",
       "      <td>1.000000</td>\n",
       "      <td>0.569031</td>\n",
       "      <td>0.841159</td>\n",
       "    </tr>\n",
       "    <tr>\n",
       "      <th>MSFT</th>\n",
       "      <td>0.121651</td>\n",
       "      <td>0.569031</td>\n",
       "      <td>1.000000</td>\n",
       "      <td>0.637067</td>\n",
       "    </tr>\n",
       "    <tr>\n",
       "      <th>GSPC</th>\n",
       "      <td>-0.281137</td>\n",
       "      <td>0.841159</td>\n",
       "      <td>0.637067</td>\n",
       "      <td>1.000000</td>\n",
       "    </tr>\n",
       "  </tbody>\n",
       "</table>\n",
       "</div>"
      ],
      "text/plain": [
       "          AAPL      INTC      MSFT      GSPC\n",
       "AAPL  1.000000 -0.509901  0.121651 -0.281137\n",
       "INTC -0.509901  1.000000  0.569031  0.841159\n",
       "MSFT  0.121651  0.569031  1.000000  0.637067\n",
       "GSPC -0.281137  0.841159  0.637067  1.000000"
      ]
     },
     "execution_count": 19,
     "metadata": {},
     "output_type": "execute_result"
    }
   ],
   "source": [
    "stock_price.corr()"
   ]
  },
  {
   "cell_type": "markdown",
   "metadata": {},
   "source": [
    "As CAPM requires stock returns, there are various ways to calculate return in Python but `.pct_change()` is one of the most easyto-apply function. Once we calculate the return first row becomes `nan` as return for the first entry cannot be computed."
   ]
  },
  {
   "cell_type": "code",
   "execution_count": 20,
   "metadata": {},
   "outputs": [],
   "source": [
    "returns = stock_price.pct_change()\n",
    "returns.dropna(inplace=True)"
   ]
  },
  {
   "cell_type": "markdown",
   "metadata": {},
   "source": [
    "Let us now convert the 3-month risk-free rate into daily rate. It choose the easy way, which is simply dividing it by number of days in 3 months (90)."
   ]
  },
  {
   "cell_type": "code",
   "execution_count": 22,
   "metadata": {},
   "outputs": [],
   "source": [
    "risk_free = risk_free['2021-01-01':'2021-04-01']\n",
    "risk_free = risk_free/90 "
   ]
  },
  {
   "cell_type": "code",
   "execution_count": 24,
   "metadata": {},
   "outputs": [],
   "source": [
    "risk_free.dropna(inplace=True)"
   ]
  },
  {
   "cell_type": "code",
   "execution_count": 26,
   "metadata": {},
   "outputs": [
    {
     "data": {
      "image/png": "[encoded data removed]",
      "text/plain": [
       "<Figure size 432x288 with 1 Axes>"
      ]
     },
     "metadata": {
      "needs_background": "light"
     },
     "output_type": "display_data"
    }
   ],
   "source": [
    "plt.plot(risk_free)\n",
    "plt.title('Risk Free Rate')\n",
    "plt.xlabel('Date')\n",
    "plt.xticks(rotation=90)\n",
    "plt.show()"
   ]
  },
  {
   "cell_type": "markdown",
   "metadata": {},
   "source": [
    "To calculate the excess return, we need to subtract risk free rate from the stock returns. We calculate and stor all excess return in data frame named `returns`."
   ]
  },
  {
   "cell_type": "code",
   "execution_count": 30,
   "metadata": {},
   "outputs": [
    {
     "data": {
      "text/plain": [
       "Index(['AAPL', 'INTC', 'MSFT', 'GSPC'], dtype='object')"
      ]
     },
     "execution_count": 30,
     "metadata": {},
     "output_type": "execute_result"
    }
   ],
   "source": [
    "returns.columns"
   ]
  },
  {
   "cell_type": "code",
   "execution_count": 31,
   "metadata": {},
   "outputs": [],
   "source": [
    "for i in returns.columns:\n",
    "    returns[f'excess_return_{i}'] = returns[i] - risk_free"
   ]
  },
  {
   "cell_type": "code",
   "execution_count": 32,
   "metadata": {},
   "outputs": [
    {
     "data": {
      "text/html": [
       "<div>\n",
       "<style scoped>\n",
       "    .dataframe tbody tr th:only-of-type {\n",
       "        vertical-align: middle;\n",
       "    }\n",
       "\n",
       "    .dataframe tbody tr th {\n",
       "        vertical-align: top;\n",
       "    }\n",
       "\n",
       "    .dataframe thead th {\n",
       "        text-align: right;\n",
       "    }\n",
       "</style>\n",
       "<table border=\"1\" class=\"dataframe\">\n",
       "  <thead>\n",
       "    <tr style=\"text-align: right;\">\n",
       "      <th></th>\n",
       "      <th>AAPL</th>\n",
       "      <th>INTC</th>\n",
       "      <th>MSFT</th>\n",
       "      <th>GSPC</th>\n",
       "      <th>excess_return_AAPL</th>\n",
       "      <th>excess_return_INTC</th>\n",
       "      <th>excess_return_MSFT</th>\n",
       "      <th>excess_return_GSPC</th>\n",
       "    </tr>\n",
       "    <tr>\n",
       "      <th>Date</th>\n",
       "      <th></th>\n",
       "      <th></th>\n",
       "      <th></th>\n",
       "      <th></th>\n",
       "      <th></th>\n",
       "      <th></th>\n",
       "      <th></th>\n",
       "      <th></th>\n",
       "    </tr>\n",
       "  </thead>\n",
       "  <tbody>\n",
       "    <tr>\n",
       "      <th>2021-01-04</th>\n",
       "      <td>-0.024719</td>\n",
       "      <td>-0.003011</td>\n",
       "      <td>-0.021266</td>\n",
       "      <td>-0.014755</td>\n",
       "      <td>-0.025719</td>\n",
       "      <td>-0.004011</td>\n",
       "      <td>-0.022266</td>\n",
       "      <td>-0.015755</td>\n",
       "    </tr>\n",
       "    <tr>\n",
       "      <th>2021-01-05</th>\n",
       "      <td>0.012364</td>\n",
       "      <td>0.018925</td>\n",
       "      <td>0.000965</td>\n",
       "      <td>0.007083</td>\n",
       "      <td>0.011364</td>\n",
       "      <td>0.017925</td>\n",
       "      <td>-0.000035</td>\n",
       "      <td>0.006083</td>\n",
       "    </tr>\n",
       "    <tr>\n",
       "      <th>2021-01-06</th>\n",
       "      <td>-0.033662</td>\n",
       "      <td>0.009682</td>\n",
       "      <td>-0.025929</td>\n",
       "      <td>0.005710</td>\n",
       "      <td>-0.034662</td>\n",
       "      <td>0.008682</td>\n",
       "      <td>-0.026929</td>\n",
       "      <td>0.004710</td>\n",
       "    </tr>\n",
       "    <tr>\n",
       "      <th>2021-01-07</th>\n",
       "      <td>0.034123</td>\n",
       "      <td>0.021331</td>\n",
       "      <td>0.028457</td>\n",
       "      <td>0.014847</td>\n",
       "      <td>0.033123</td>\n",
       "      <td>0.020331</td>\n",
       "      <td>0.027457</td>\n",
       "      <td>0.013847</td>\n",
       "    </tr>\n",
       "    <tr>\n",
       "      <th>2021-01-08</th>\n",
       "      <td>0.008631</td>\n",
       "      <td>-0.010347</td>\n",
       "      <td>0.006093</td>\n",
       "      <td>0.005492</td>\n",
       "      <td>0.007742</td>\n",
       "      <td>-0.011236</td>\n",
       "      <td>0.005204</td>\n",
       "      <td>0.004603</td>\n",
       "    </tr>\n",
       "  </tbody>\n",
       "</table>\n",
       "</div>"
      ],
      "text/plain": [
       "                AAPL      INTC      MSFT      GSPC  excess_return_AAPL  \\\n",
       "Date                                                                     \n",
       "2021-01-04 -0.024719 -0.003011 -0.021266 -0.014755           -0.025719   \n",
       "2021-01-05  0.012364  0.018925  0.000965  0.007083            0.011364   \n",
       "2021-01-06 -0.033662  0.009682 -0.025929  0.005710           -0.034662   \n",
       "2021-01-07  0.034123  0.021331  0.028457  0.014847            0.033123   \n",
       "2021-01-08  0.008631 -0.010347  0.006093  0.005492            0.007742   \n",
       "\n",
       "            excess_return_INTC  excess_return_MSFT  excess_return_GSPC  \n",
       "Date                                                                    \n",
       "2021-01-04           -0.004011           -0.022266           -0.015755  \n",
       "2021-01-05            0.017925           -0.000035            0.006083  \n",
       "2021-01-06            0.008682           -0.026929            0.004710  \n",
       "2021-01-07            0.020331            0.027457            0.013847  \n",
       "2021-01-08           -0.011236            0.005204            0.004603  "
      ]
     },
     "execution_count": 32,
     "metadata": {},
     "output_type": "execute_result"
    }
   ],
   "source": [
    "returns.head()"
   ]
  },
  {
   "cell_type": "markdown",
   "metadata": {},
   "source": [
    "## Running CAPM"
   ]
  },
  {
   "cell_type": "markdown",
   "metadata": {},
   "source": [
    "We are ready to run the CAPM analysis after all these preparation process."
   ]
  },
  {
   "cell_type": "code",
   "execution_count": 35,
   "metadata": {},
   "outputs": [],
   "source": [
    "import statsmodels.api as sm"
   ]
  },
  {
   "cell_type": "code",
   "execution_count": 36,
   "metadata": {},
   "outputs": [],
   "source": [
    "y_aapl = returns['excess_return_AAPL']\n",
    "X = returns['excess_return_GSPC']"
   ]
  },
  {
   "cell_type": "code",
   "execution_count": 38,
   "metadata": {},
   "outputs": [],
   "source": [
    "X = sm.add_constant(X, prepend=False)\n",
    "capm_aapl = sm.OLS(y_aapl, X)\n",
    "capm_result_aapl = capm_aapl.fit()"
   ]
  },
  {
   "cell_type": "code",
   "execution_count": 39,
   "metadata": {},
   "outputs": [
    {
     "data": {
      "text/html": [
       "<table class=\"simpletable\">\n",
       "<caption>OLS Regression Results</caption>\n",
       "<tr>\n",
       "  <th>Dep. Variable:</th>    <td>excess_return_AAPL</td> <th>  R-squared:         </th> <td>   0.442</td>\n",
       "</tr>\n",
       "<tr>\n",
       "  <th>Model:</th>                    <td>OLS</td>        <th>  Adj. R-squared:    </th> <td>   0.432</td>\n",
       "</tr>\n",
       "<tr>\n",
       "  <th>Method:</th>              <td>Least Squares</td>   <th>  F-statistic:       </th> <td>   46.73</td>\n",
       "</tr>\n",
       "<tr>\n",
       "  <th>Date:</th>              <td>Mon, 26 Sep 2022</td>  <th>  Prob (F-statistic):</th> <td>5.13e-09</td>\n",
       "</tr>\n",
       "<tr>\n",
       "  <th>Time:</th>                  <td>23:28:35</td>      <th>  Log-Likelihood:    </th> <td>  167.80</td>\n",
       "</tr>\n",
       "<tr>\n",
       "  <th>No. Observations:</th>       <td>    61</td>       <th>  AIC:               </th> <td>  -331.6</td>\n",
       "</tr>\n",
       "<tr>\n",
       "  <th>Df Residuals:</th>           <td>    59</td>       <th>  BIC:               </th> <td>  -327.4</td>\n",
       "</tr>\n",
       "<tr>\n",
       "  <th>Df Model:</th>               <td>     1</td>       <th>                     </th>     <td> </td>   \n",
       "</tr>\n",
       "<tr>\n",
       "  <th>Covariance Type:</th>       <td>nonrobust</td>     <th>                     </th>     <td> </td>   \n",
       "</tr>\n",
       "</table>\n",
       "<table class=\"simpletable\">\n",
       "<tr>\n",
       "           <td></td>             <th>coef</th>     <th>std err</th>      <th>t</th>      <th>P>|t|</th>  <th>[0.025</th>    <th>0.975]</th>  \n",
       "</tr>\n",
       "<tr>\n",
       "  <th>excess_return_GSPC</th> <td>    1.3891</td> <td>    0.203</td> <td>    6.836</td> <td> 0.000</td> <td>    0.982</td> <td>    1.796</td>\n",
       "</tr>\n",
       "<tr>\n",
       "  <th>const</th>              <td>   -0.0023</td> <td>    0.002</td> <td>   -1.126</td> <td> 0.265</td> <td>   -0.006</td> <td>    0.002</td>\n",
       "</tr>\n",
       "</table>\n",
       "<table class=\"simpletable\">\n",
       "<tr>\n",
       "  <th>Omnibus:</th>       <td> 2.777</td> <th>  Durbin-Watson:     </th> <td>   2.000</td>\n",
       "</tr>\n",
       "<tr>\n",
       "  <th>Prob(Omnibus):</th> <td> 0.249</td> <th>  Jarque-Bera (JB):  </th> <td>   2.142</td>\n",
       "</tr>\n",
       "<tr>\n",
       "  <th>Skew:</th>          <td>-0.174</td> <th>  Prob(JB):          </th> <td>   0.343</td>\n",
       "</tr>\n",
       "<tr>\n",
       "  <th>Kurtosis:</th>      <td> 3.849</td> <th>  Cond. No.          </th> <td>    101.</td>\n",
       "</tr>\n",
       "</table><br/><br/>Notes:<br/>[1] Standard Errors assume that the covariance matrix of the errors is correctly specified."
      ],
      "text/plain": [
       "<class 'statsmodels.iolib.summary.Summary'>\n",
       "\"\"\"\n",
       "                            OLS Regression Results                            \n",
       "==============================================================================\n",
       "Dep. Variable:     excess_return_AAPL   R-squared:                       0.442\n",
       "Model:                            OLS   Adj. R-squared:                  0.432\n",
       "Method:                 Least Squares   F-statistic:                     46.73\n",
       "Date:                Mon, 26 Sep 2022   Prob (F-statistic):           5.13e-09\n",
       "Time:                        23:28:35   Log-Likelihood:                 167.80\n",
       "No. Observations:                  61   AIC:                            -331.6\n",
       "Df Residuals:                      59   BIC:                            -327.4\n",
       "Df Model:                           1                                         \n",
       "Covariance Type:            nonrobust                                         \n",
       "======================================================================================\n",
       "                         coef    std err          t      P>|t|      [0.025      0.975]\n",
       "--------------------------------------------------------------------------------------\n",
       "excess_return_GSPC     1.3891      0.203      6.836      0.000       0.982       1.796\n",
       "const                 -0.0023      0.002     -1.126      0.265      -0.006       0.002\n",
       "==============================================================================\n",
       "Omnibus:                        2.777   Durbin-Watson:                   2.000\n",
       "Prob(Omnibus):                  0.249   Jarque-Bera (JB):                2.142\n",
       "Skew:                          -0.174   Prob(JB):                        0.343\n",
       "Kurtosis:                       3.849   Cond. No.                         101.\n",
       "==============================================================================\n",
       "\n",
       "Notes:\n",
       "[1] Standard Errors assume that the covariance matrix of the errors is correctly specified.\n",
       "\"\"\""
      ]
     },
     "execution_count": 39,
     "metadata": {},
     "output_type": "execute_result"
    }
   ],
   "source": [
    "capm_result_aapl.summary()"
   ]
  },
  {
   "cell_type": "code",
   "execution_count": 40,
   "metadata": {},
   "outputs": [],
   "source": [
    "y_intc= returns['excess_return_INTC']\n",
    "X = returns['excess_return_GSPC']"
   ]
  },
  {
   "cell_type": "code",
   "execution_count": 41,
   "metadata": {},
   "outputs": [],
   "source": [
    "X = sm.add_constant(X, prepend=False)\n",
    "capm_intc = sm.OLS(y_intc, X)\n",
    "capm_result_intc = capm_intc.fit()"
   ]
  },
  {
   "cell_type": "code",
   "execution_count": 42,
   "metadata": {},
   "outputs": [
    {
     "data": {
      "text/html": [
       "<table class=\"simpletable\">\n",
       "<caption>OLS Regression Results</caption>\n",
       "<tr>\n",
       "  <th>Dep. Variable:</th>    <td>excess_return_INTC</td> <th>  R-squared:         </th> <td>   0.382</td>\n",
       "</tr>\n",
       "<tr>\n",
       "  <th>Model:</th>                    <td>OLS</td>        <th>  Adj. R-squared:    </th> <td>   0.371</td>\n",
       "</tr>\n",
       "<tr>\n",
       "  <th>Method:</th>              <td>Least Squares</td>   <th>  F-statistic:       </th> <td>   36.41</td>\n",
       "</tr>\n",
       "<tr>\n",
       "  <th>Date:</th>              <td>Mon, 26 Sep 2022</td>  <th>  Prob (F-statistic):</th> <td>1.14e-07</td>\n",
       "</tr>\n",
       "<tr>\n",
       "  <th>Time:</th>                  <td>23:36:44</td>      <th>  Log-Likelihood:    </th> <td>  146.81</td>\n",
       "</tr>\n",
       "<tr>\n",
       "  <th>No. Observations:</th>       <td>    61</td>       <th>  AIC:               </th> <td>  -289.6</td>\n",
       "</tr>\n",
       "<tr>\n",
       "  <th>Df Residuals:</th>           <td>    59</td>       <th>  BIC:               </th> <td>  -285.4</td>\n",
       "</tr>\n",
       "<tr>\n",
       "  <th>Df Model:</th>               <td>     1</td>       <th>                     </th>     <td> </td>   \n",
       "</tr>\n",
       "<tr>\n",
       "  <th>Covariance Type:</th>       <td>nonrobust</td>     <th>                     </th>     <td> </td>   \n",
       "</tr>\n",
       "</table>\n",
       "<table class=\"simpletable\">\n",
       "<tr>\n",
       "           <td></td>             <th>coef</th>     <th>std err</th>      <th>t</th>      <th>P>|t|</th>  <th>[0.025</th>    <th>0.975]</th>  \n",
       "</tr>\n",
       "<tr>\n",
       "  <th>excess_return_GSPC</th> <td>    1.7298</td> <td>    0.287</td> <td>    6.034</td> <td> 0.000</td> <td>    1.156</td> <td>    2.304</td>\n",
       "</tr>\n",
       "<tr>\n",
       "  <th>const</th>              <td>    0.0032</td> <td>    0.003</td> <td>    1.140</td> <td> 0.259</td> <td>   -0.002</td> <td>    0.009</td>\n",
       "</tr>\n",
       "</table>\n",
       "<table class=\"simpletable\">\n",
       "<tr>\n",
       "  <th>Omnibus:</th>       <td>14.511</td> <th>  Durbin-Watson:     </th> <td>   1.934</td>\n",
       "</tr>\n",
       "<tr>\n",
       "  <th>Prob(Omnibus):</th> <td> 0.001</td> <th>  Jarque-Bera (JB):  </th> <td>  56.109</td>\n",
       "</tr>\n",
       "<tr>\n",
       "  <th>Skew:</th>          <td>-0.257</td> <th>  Prob(JB):          </th> <td>6.55e-13</td>\n",
       "</tr>\n",
       "<tr>\n",
       "  <th>Kurtosis:</th>      <td> 7.670</td> <th>  Cond. No.          </th> <td>    101.</td>\n",
       "</tr>\n",
       "</table><br/><br/>Notes:<br/>[1] Standard Errors assume that the covariance matrix of the errors is correctly specified."
      ],
      "text/plain": [
       "<class 'statsmodels.iolib.summary.Summary'>\n",
       "\"\"\"\n",
       "                            OLS Regression Results                            \n",
       "==============================================================================\n",
       "Dep. Variable:     excess_return_INTC   R-squared:                       0.382\n",
       "Model:                            OLS   Adj. R-squared:                  0.371\n",
       "Method:                 Least Squares   F-statistic:                     36.41\n",
       "Date:                Mon, 26 Sep 2022   Prob (F-statistic):           1.14e-07\n",
       "Time:                        23:36:44   Log-Likelihood:                 146.81\n",
       "No. Observations:                  61   AIC:                            -289.6\n",
       "Df Residuals:                      59   BIC:                            -285.4\n",
       "Df Model:                           1                                         \n",
       "Covariance Type:            nonrobust                                         \n",
       "======================================================================================\n",
       "                         coef    std err          t      P>|t|      [0.025      0.975]\n",
       "--------------------------------------------------------------------------------------\n",
       "excess_return_GSPC     1.7298      0.287      6.034      0.000       1.156       2.304\n",
       "const                  0.0032      0.003      1.140      0.259      -0.002       0.009\n",
       "==============================================================================\n",
       "Omnibus:                       14.511   Durbin-Watson:                   1.934\n",
       "Prob(Omnibus):                  0.001   Jarque-Bera (JB):               56.109\n",
       "Skew:                          -0.257   Prob(JB):                     6.55e-13\n",
       "Kurtosis:                       7.670   Cond. No.                         101.\n",
       "==============================================================================\n",
       "\n",
       "Notes:\n",
       "[1] Standard Errors assume that the covariance matrix of the errors is correctly specified.\n",
       "\"\"\""
      ]
     },
     "execution_count": 42,
     "metadata": {},
     "output_type": "execute_result"
    }
   ],
   "source": [
    "capm_result_intc.summary()"
   ]
  },
  {
   "cell_type": "code",
   "execution_count": 43,
   "metadata": {},
   "outputs": [],
   "source": [
    "y_msft= returns['excess_return_MSFT']\n",
    "X = returns['excess_return_GSPC']"
   ]
  },
  {
   "cell_type": "code",
   "execution_count": 44,
   "metadata": {},
   "outputs": [],
   "source": [
    "X = sm.add_constant(X, prepend=False)\n",
    "capm_msft = sm.OLS(y_msft, X)\n",
    "capm_result_msft = capm_msft.fit()"
   ]
  },
  {
   "cell_type": "code",
   "execution_count": 45,
   "metadata": {},
   "outputs": [
    {
     "data": {
      "text/html": [
       "<table class=\"simpletable\">\n",
       "<caption>OLS Regression Results</caption>\n",
       "<tr>\n",
       "  <th>Dep. Variable:</th>    <td>excess_return_MSFT</td> <th>  R-squared:         </th> <td>   0.445</td>\n",
       "</tr>\n",
       "<tr>\n",
       "  <th>Model:</th>                    <td>OLS</td>        <th>  Adj. R-squared:    </th> <td>   0.435</td>\n",
       "</tr>\n",
       "<tr>\n",
       "  <th>Method:</th>              <td>Least Squares</td>   <th>  F-statistic:       </th> <td>   47.26</td>\n",
       "</tr>\n",
       "<tr>\n",
       "  <th>Date:</th>              <td>Mon, 26 Sep 2022</td>  <th>  Prob (F-statistic):</th> <td>4.41e-09</td>\n",
       "</tr>\n",
       "<tr>\n",
       "  <th>Time:</th>                  <td>23:39:35</td>      <th>  Log-Likelihood:    </th> <td>  184.67</td>\n",
       "</tr>\n",
       "<tr>\n",
       "  <th>No. Observations:</th>       <td>    61</td>       <th>  AIC:               </th> <td>  -365.3</td>\n",
       "</tr>\n",
       "<tr>\n",
       "  <th>Df Residuals:</th>           <td>    59</td>       <th>  BIC:               </th> <td>  -361.1</td>\n",
       "</tr>\n",
       "<tr>\n",
       "  <th>Df Model:</th>               <td>     1</td>       <th>                     </th>     <td> </td>   \n",
       "</tr>\n",
       "<tr>\n",
       "  <th>Covariance Type:</th>       <td>nonrobust</td>     <th>                     </th>     <td> </td>   \n",
       "</tr>\n",
       "</table>\n",
       "<table class=\"simpletable\">\n",
       "<tr>\n",
       "           <td></td>             <th>coef</th>     <th>std err</th>      <th>t</th>      <th>P>|t|</th>  <th>[0.025</th>    <th>0.975]</th>  \n",
       "</tr>\n",
       "<tr>\n",
       "  <th>excess_return_GSPC</th> <td>    1.0595</td> <td>    0.154</td> <td>    6.875</td> <td> 0.000</td> <td>    0.751</td> <td>    1.368</td>\n",
       "</tr>\n",
       "<tr>\n",
       "  <th>const</th>              <td> 8.649e-05</td> <td>    0.002</td> <td>    0.057</td> <td> 0.955</td> <td>   -0.003</td> <td>    0.003</td>\n",
       "</tr>\n",
       "</table>\n",
       "<table class=\"simpletable\">\n",
       "<tr>\n",
       "  <th>Omnibus:</th>       <td> 0.098</td> <th>  Durbin-Watson:     </th> <td>   1.988</td>\n",
       "</tr>\n",
       "<tr>\n",
       "  <th>Prob(Omnibus):</th> <td> 0.952</td> <th>  Jarque-Bera (JB):  </th> <td>   0.160</td>\n",
       "</tr>\n",
       "<tr>\n",
       "  <th>Skew:</th>          <td> 0.088</td> <th>  Prob(JB):          </th> <td>   0.923</td>\n",
       "</tr>\n",
       "<tr>\n",
       "  <th>Kurtosis:</th>      <td> 2.823</td> <th>  Cond. No.          </th> <td>    101.</td>\n",
       "</tr>\n",
       "</table><br/><br/>Notes:<br/>[1] Standard Errors assume that the covariance matrix of the errors is correctly specified."
      ],
      "text/plain": [
       "<class 'statsmodels.iolib.summary.Summary'>\n",
       "\"\"\"\n",
       "                            OLS Regression Results                            \n",
       "==============================================================================\n",
       "Dep. Variable:     excess_return_MSFT   R-squared:                       0.445\n",
       "Model:                            OLS   Adj. R-squared:                  0.435\n",
       "Method:                 Least Squares   F-statistic:                     47.26\n",
       "Date:                Mon, 26 Sep 2022   Prob (F-statistic):           4.41e-09\n",
       "Time:                        23:39:35   Log-Likelihood:                 184.67\n",
       "No. Observations:                  61   AIC:                            -365.3\n",
       "Df Residuals:                      59   BIC:                            -361.1\n",
       "Df Model:                           1                                         \n",
       "Covariance Type:            nonrobust                                         \n",
       "======================================================================================\n",
       "                         coef    std err          t      P>|t|      [0.025      0.975]\n",
       "--------------------------------------------------------------------------------------\n",
       "excess_return_GSPC     1.0595      0.154      6.875      0.000       0.751       1.368\n",
       "const               8.649e-05      0.002      0.057      0.955      -0.003       0.003\n",
       "==============================================================================\n",
       "Omnibus:                        0.098   Durbin-Watson:                   1.988\n",
       "Prob(Omnibus):                  0.952   Jarque-Bera (JB):                0.160\n",
       "Skew:                           0.088   Prob(JB):                        0.923\n",
       "Kurtosis:                       2.823   Cond. No.                         101.\n",
       "==============================================================================\n",
       "\n",
       "Notes:\n",
       "[1] Standard Errors assume that the covariance matrix of the errors is correctly specified.\n",
       "\"\"\""
      ]
     },
     "execution_count": 45,
     "metadata": {},
     "output_type": "execute_result"
    }
   ],
   "source": [
    "capm_result_msft.summary()"
   ]
  },
  {
   "cell_type": "markdown",
   "metadata": {},
   "source": [
    "First, we run the CAPM analysis for `Apple` and it turns out that Apple is more volatile than the S&P-500 as we have a beta coefficient of 1.3891. This estimated beta coefficient is statistically significant at 1% level since we have a t-value of 6.847 (or p-value of 0.0000). However, the intercept term is not statistically significant. Therefore, interpretation of the intercept term, which indicates the performance of the technical analysis, does not make sense."
   ]
  },
  {
   "cell_type": "markdown",
   "metadata": {},
   "source": [
    "`Microsoft` does tell us a similar story with positive and statistically significant beta coefficient and statistically insignificant intercept term. The magnitude of beta coefficient is 1.0595 indicating that 1-unit increase in S&P-500 results in an increase of 1.0595 in Microsoft's return."
   ]
  },
  {
   "cell_type": "markdown",
   "metadata": {},
   "source": [
    "In summary, given the result obtained via CAPM, the most and least risky or volatile stocks are INTEL and IBM, respectively."
   ]
  },
  {
   "cell_type": "markdown",
   "metadata": {},
   "source": [
    "## Compare the Performance"
   ]
  },
  {
   "cell_type": "markdown",
   "metadata": {},
   "source": [
    "CAPM is also a tool for investor to understand whether an asset is fairly priced. To determine that, we need to use $\\beta$ that we obtained from CAPM analysis and compare with the investor estimates. The `Security Market Line`(SML) is able to test whether securities are fairly priced or not."
   ]
  },
  {
   "cell_type": "markdown",
   "metadata": {},
   "source": [
    "More elaborately, SML exhibits the linear relationship between expected asset returns and betas obtained from CAPM. All the correctly priced securities are plotted on the SML. If the assets lie above the SML line, the assets are undervalued due to the higher return for a given amount of risk. Conversely, the assets lie below the SML are overvalued because it return of this stock is lower for a given amount of risk."
   ]
  },
  {
   "cell_type": "code",
   "execution_count": 46,
   "metadata": {},
   "outputs": [],
   "source": [
    "import matplotlib.pyplot as plt"
   ]
  },
  {
   "cell_type": "code",
   "execution_count": 50,
   "metadata": {},
   "outputs": [
    {
     "data": {
      "text/plain": [
       "[1.3891042945137584, 1.729844774245932, 1.0594504951827248]"
      ]
     },
     "execution_count": 50,
     "metadata": {},
     "output_type": "execute_result"
    }
   ],
   "source": [
    "betas = [capm_result_aapl.params[0],\n",
    "         capm_result_intc.params[0],\n",
    "         capm_result_msft.params[0]]\n",
    "betas"
   ]
  },
  {
   "cell_type": "code",
   "execution_count": 51,
   "metadata": {},
   "outputs": [],
   "source": [
    "def SML(rf, ret, beta):\n",
    "    asset_ret = [rf + (rm - rf) * i for i in betas]\n",
    "    plt.plot(betas, asset_ret)\n",
    "    plt.xlabel('Asset Beta')\n",
    "    plt.ylabel('Asset Return')\n",
    "    plt.title('SML')\n",
    "    plt.plot(1, ret, 'ro')"
   ]
  },
  {
   "cell_type": "code",
   "execution_count": 52,
   "metadata": {},
   "outputs": [],
   "source": [
    "rf = risk_free.mean()\n",
    "rm = returns['GSPC'].mean()"
   ]
  },
  {
   "cell_type": "code",
   "execution_count": 53,
   "metadata": {},
   "outputs": [
    {
     "data": {
      "image/png": "[encoded data removed]",
      "text/plain": [
       "<Figure size 432x288 with 1 Axes>"
      ]
     },
     "metadata": {
      "needs_background": "light"
     },
     "output_type": "display_data"
    }
   ],
   "source": [
    "SML(rf, rm, betas)"
   ]
  },
  {
   "cell_type": "markdown",
   "metadata": {},
   "source": [
    "Given the beta, if the stock locates below the SML, this implies that stock has a higher return per unit of risk assumed. Hence, it can be concluded that the stock is overvalued and decide to sell the stock. Conversely, if the stock locates above the SML, stock has a lower return per unit of risk assumed, which is considered to be undervalued and buying a stock would be wise choice. "
   ]
  },
  {
   "cell_type": "markdown",
   "metadata": {},
   "source": [
    "Now suppose that the return expectations for \n",
    "\n",
    "* Apple is 0.1% \n",
    "* Microsoft is 0.25%\n",
    "* Intel is 0.09%\n"
   ]
  },
  {
   "cell_type": "code",
   "execution_count": 54,
   "metadata": {},
   "outputs": [
    {
     "data": {
      "text/html": [
       "<div>\n",
       "<style scoped>\n",
       "    .dataframe tbody tr th:only-of-type {\n",
       "        vertical-align: middle;\n",
       "    }\n",
       "\n",
       "    .dataframe tbody tr th {\n",
       "        vertical-align: top;\n",
       "    }\n",
       "\n",
       "    .dataframe thead th {\n",
       "        text-align: right;\n",
       "    }\n",
       "</style>\n",
       "<table border=\"1\" class=\"dataframe\">\n",
       "  <thead>\n",
       "    <tr style=\"text-align: right;\">\n",
       "      <th></th>\n",
       "      <th>betas</th>\n",
       "      <th>ret_exp</th>\n",
       "    </tr>\n",
       "  </thead>\n",
       "  <tbody>\n",
       "    <tr>\n",
       "      <th>AAPL</th>\n",
       "      <td>1.389104</td>\n",
       "      <td>0.0010</td>\n",
       "    </tr>\n",
       "    <tr>\n",
       "      <th>INTC</th>\n",
       "      <td>1.729845</td>\n",
       "      <td>0.0025</td>\n",
       "    </tr>\n",
       "    <tr>\n",
       "      <th>MSFT</th>\n",
       "      <td>1.059450</td>\n",
       "      <td>0.0009</td>\n",
       "    </tr>\n",
       "  </tbody>\n",
       "</table>\n",
       "</div>"
      ],
      "text/plain": [
       "         betas  ret_exp\n",
       "AAPL  1.389104   0.0010\n",
       "INTC  1.729845   0.0025\n",
       "MSFT  1.059450   0.0009"
      ]
     },
     "execution_count": 54,
     "metadata": {},
     "output_type": "execute_result"
    }
   ],
   "source": [
    "ret_exp = [0.001, 0.0025, 0.0009]\n",
    "df_ret_exp = pd.DataFrame(ret_exp)\n",
    "df_betas = pd.DataFrame(betas)\n",
    "df_all = pd.concat([df_betas, df_ret_exp], axis=1)\n",
    "df_all.columns = ['betas', 'ret_exp']\n",
    "df_all.index = returns.columns[:3]\n",
    "df_all"
   ]
  },
  {
   "cell_type": "code",
   "execution_count": 55,
   "metadata": {},
   "outputs": [],
   "source": [
    "def over_under_val(rf, rm, stock):\n",
    "    x = rf + (rm - rf) * df_all['betas'].loc[stock]# required rate of return(equilibrium)\n",
    "    y = df_all['ret_exp'].loc[stock] # expectations\n",
    "    if x < y:\n",
    "        print('The stock is underpriced')\n",
    "    elif x > y:\n",
    "        print('The stock is overpriced')\n",
    "    else:\n",
    "        print('The stock is fairly priced')     \n",
    "    "
   ]
  },
  {
   "cell_type": "code",
   "execution_count": 56,
   "metadata": {},
   "outputs": [
    {
     "name": "stdout",
     "output_type": "stream",
     "text": [
      "The stock is underpriced\n"
     ]
    }
   ],
   "source": [
    "over_under_val(rf, rm, 'INTC')"
   ]
  },
  {
   "cell_type": "code",
   "execution_count": 57,
   "metadata": {},
   "outputs": [
    {
     "name": "stdout",
     "output_type": "stream",
     "text": [
      "The stock is overpriced\n"
     ]
    }
   ],
   "source": [
    "over_under_val(rf, rm, 'AAPL')"
   ]
  },
  {
   "cell_type": "code",
   "execution_count": 58,
   "metadata": {},
   "outputs": [
    {
     "name": "stdout",
     "output_type": "stream",
     "text": [
      "The stock is overpriced\n"
     ]
    }
   ],
   "source": [
    "over_under_val(rf, rm, 'MSFT')"
   ]
  },
  {
   "cell_type": "markdown",
   "metadata": {},
   "source": [
    "Now, it seem like you obtained  every inputs required to compute the ratios used for gauging the risk-reward combinations. We will do that using the scenarios provided in the instructions. Let me start with the first scenario, which is:\n",
    "\n",
    "* If portfolio is not well-diversified\n",
    "\n",
    "In this scenario, we are supposed to use Sharpe ratio in that if an investor holds a portfolio that is not fully diversified, total risk matters and Sharpe ratio consider the total risk. Recall that Sharpe ratio is:\n",
    "\n",
    "\\begin{equation}Sharpe=\\frac{r_i-r_f}{\\sigma_i}\\end{equation}\n",
    "\n",
    "where $r_i$ and $\\sigma_i$ denote return and standard deviation of the stock, respectively."
   ]
  },
  {
   "cell_type": "code",
   "execution_count": 59,
   "metadata": {},
   "outputs": [],
   "source": [
    "def sharpe(stocks, rf, n_assets):\n",
    "    sharpe_ratios = {}\n",
    "    for i, j in zip(stocks, range(n_assets)):\n",
    "        sharpe_ratios[i] = returns.iloc[:, j].mean() - rf / np.std(returns.iloc[:, j])\n",
    "    return sharpe_ratios"
   ]
  },
  {
   "cell_type": "code",
   "execution_count": 60,
   "metadata": {},
   "outputs": [
    {
     "data": {
      "text/plain": [
       "Index(['AAPL', 'INTC', 'MSFT'], dtype='object')"
      ]
     },
     "execution_count": 60,
     "metadata": {},
     "output_type": "execute_result"
    }
   ],
   "source": [
    "returns.columns[:3]"
   ]
  },
  {
   "cell_type": "code",
   "execution_count": 65,
   "metadata": {},
   "outputs": [
    {
     "data": {
      "text/plain": [
       "{'AAPL': -0.028286336079183908,\n",
       " 'INTC': -0.015761696897104754,\n",
       " 'MSFT': -0.03462243787255651}"
      ]
     },
     "execution_count": 65,
     "metadata": {},
     "output_type": "execute_result"
    }
   ],
   "source": [
    "stocks = returns.columns[:3]\n",
    "sharpe_ratios = sharpe(stocks, rf, 3)\n",
    "sharpe_ratios"
   ]
  },
  {
   "cell_type": "markdown",
   "metadata": {},
   "source": [
    "The second scenario is:\n",
    "* If portfolio is well-diversified\n",
    "\n",
    "This is an ideal situation for Treynor ratio, because Treynor ratio takes systematic risk into account to assess the risk-reward situation of an asset or a portfolio."
   ]
  },
  {
   "cell_type": "markdown",
   "metadata": {},
   "source": [
    "\\begin{equation}\\text{Treynor ratio}=\\frac{r_i-r_f}{\\beta_i}\\end{equation}"
   ]
  },
  {
   "cell_type": "code",
   "execution_count": 62,
   "metadata": {},
   "outputs": [],
   "source": [
    "def treynor(stocks, rf, n_assets):\n",
    "    treynor_ratios = {}\n",
    "    for i, j in enumerate(stocks):\n",
    "        treynor_ratios[j] = returns.iloc[:, i].mean() - rf / df_all['betas'][j]\n",
    "    return treynor_ratios"
   ]
  },
  {
   "cell_type": "code",
   "execution_count": 69,
   "metadata": {},
   "outputs": [
    {
     "data": {
      "text/plain": [
       "{'AAPL': -0.0015465670232600141,\n",
       " 'INTC': 0.00417612032886977,\n",
       " 'MSFT': 0.0005488468678361524}"
      ]
     },
     "execution_count": 69,
     "metadata": {},
     "output_type": "execute_result"
    }
   ],
   "source": [
    "treynor_ratios = treynor(stocks, rf, 3)\n",
    "treynor_ratios"
   ]
  },
  {
   "cell_type": "code",
   "execution_count": 67,
   "metadata": {},
   "outputs": [
    {
     "name": "stdout",
     "output_type": "stream",
     "text": [
      "MSFT\n",
      "-0.03462243787255651\n"
     ]
    }
   ],
   "source": [
    "print(min(sharpe_ratios, key=sharpe_ratios.get))\n",
    "print(min(sharpe_ratios.values()))"
   ]
  },
  {
   "cell_type": "code",
   "execution_count": 68,
   "metadata": {},
   "outputs": [
    {
     "name": "stdout",
     "output_type": "stream",
     "text": [
      "INTC\n",
      "-0.015761696897104754\n"
     ]
    }
   ],
   "source": [
    "print(max(sharpe_ratios, key=sharpe_ratios.get))\n",
    "print(max(sharpe_ratios.values()))"
   ]
  },
  {
   "cell_type": "markdown",
   "metadata": {},
   "source": [
    "Once we calculate maximum and minimum Treynor ratios, it turns out that the results confirm the one we found via Sharpe ratio. Still, the most and least feasible stocks are Intel and Apple, respectively."
   ]
  },
  {
   "cell_type": "code",
   "execution_count": 70,
   "metadata": {},
   "outputs": [
    {
     "name": "stdout",
     "output_type": "stream",
     "text": [
      "AAPL\n",
      "-0.0015465670232600141\n"
     ]
    }
   ],
   "source": [
    "print(min(treynor_ratios, key=treynor_ratios.get))\n",
    "print(min(treynor_ratios.values()))"
   ]
  },
  {
   "cell_type": "code",
   "execution_count": 71,
   "metadata": {},
   "outputs": [
    {
     "name": "stdout",
     "output_type": "stream",
     "text": [
      "INTC\n",
      "0.00417612032886977\n"
     ]
    }
   ],
   "source": [
    "print(max(treynor_ratios, key=treynor_ratios.get))\n",
    "print(max(treynor_ratios.values()))"
   ]
  },
  {
   "cell_type": "code",
   "execution_count": null,
   "metadata": {},
   "outputs": [],
   "source": []
  }
 ],
 "metadata": {
  "kernelspec": {
   "display_name": "Python 3 (ipykernel)",
   "language": "python",
   "name": "python3"
  },
  "language_info": {
   "codemirror_mode": {
    "name": "ipython",
    "version": 3
   },
   "file_extension": ".py",
   "mimetype": "text/x-python",
   "name": "python",
   "nbconvert_exporter": "python",
   "pygments_lexer": "ipython3",
   "version": "3.9.7"
  },
  "latex_envs": {
   "LaTeX_envs_menu_present": true,
   "autoclose": false,
   "autocomplete": true,
   "bibliofile": "biblio.bib",
   "cite_by": "apalike",
   "current_citInitial": 1,
   "eqLabelWithNumbers": true,
   "eqNumInitial": 1,
   "hotkeys": {
    "equation": "Ctrl-E",
    "itemize": "Ctrl-I"
   },
   "labels_anchors": false,
   "latex_user_defs": false,
   "report_style_numbering": false,
   "user_envs_cfg": false
  },
  "toc": {
   "base_numbering": 1,
   "nav_menu": {},
   "number_sections": false,
   "sideBar": true,
   "skip_h1_title": false,
   "title_cell": "Table of Contents",
   "title_sidebar": "Contents",
   "toc_cell": false,
   "toc_position": {},
   "toc_section_display": true,
   "toc_window_display": false
  }
 },
 "nbformat": 4,
 "nbformat_minor": 4
}
