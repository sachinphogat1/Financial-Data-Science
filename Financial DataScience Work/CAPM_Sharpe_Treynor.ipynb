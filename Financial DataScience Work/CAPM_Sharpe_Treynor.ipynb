{
  "cells": [
    {
      "cell_type": "markdown",
      "id": "f1a21dfa",
      "metadata": {
        "id": "f1a21dfa"
      },
      "source": [
        "#CAPM_Sharpe_Treynor"
      ]
    },
    {
      "cell_type": "markdown",
      "id": "b0c432fc",
      "metadata": {
        "id": "b0c432fc"
      },
      "source": [
        "In this project, we are working at a hypothetical bank called `InvRes` Bank offering consulting service to its customers. Your first aim is to find out the risk level of these stocks relative to the market index.\n",
        "\n",
        "\n",
        "\n",
        "To accomplish this task, we will use Capital Asset Pricing Model (CAPM), which dates back to 1960’s, yet still powerful tool in finance due to its intuitive and easy-to-apply nature. As it is completely white-box model, it makes it easy to understand and explain. "
      ]
    },
    {
      "cell_type": "markdown",
      "id": "b72060eb",
      "metadata": {
        "id": "b72060eb"
      },
      "source": [
        "Once you estimate the slope coefficient (beta) and intercept term (alpha) of the CAPM model, you will be able to assess if the asset is risky compared to market. Then, your next task is to find out the stock with best risk-return relationship. To do that, you are required to employ the following ratios:\n",
        "\n",
        "• Sharpe ratio\n",
        "\n",
        "• Treynor ratio"
      ]
    },
    {
      "cell_type": "markdown",
      "id": "81bb9e36",
      "metadata": {
        "id": "81bb9e36"
      },
      "source": [
        "Project is divided into 4 milestones.\n",
        "\n",
        "1. Accessing the data and obtain daily risk-free rate. Besides, analyze data via summary statistic. \n",
        "\n",
        "2. Examine the data through visualization and correlation. Calculate returns of the stocks and market. \n",
        "\n",
        "3. Run Capital Asset Pricing Model and interpret the results. \n",
        "\n",
        "4. Calculate Sharpe and Treynor measures. Compare and interpret the results and conclude. \n"
      ]
    },
    {
      "cell_type": "code",
      "execution_count": null,
      "id": "4cHNFU6M4LoQ",
      "metadata": {
        "colab": {
          "base_uri": "https://localhost:8080/"
        },
        "id": "4cHNFU6M4LoQ",
        "outputId": "925063bb-abda-48ef-a3b7-3ee2b6a3e302"
      },
      "outputs": [
        {
          "name": "stdout",
          "output_type": "stream",
          "text": [
            "Looking in indexes: https://pypi.org/simple, https://us-python.pkg.dev/colab-wheels/public/simple/\n",
            "Collecting fredapi\n",
            "  Downloading fredapi-0.5.0-py3-none-any.whl (11 kB)\n",
            "Requirement already satisfied: pandas in /usr/local/lib/python3.7/dist-packages (from fredapi) (1.3.5)\n",
            "Requirement already satisfied: numpy>=1.17.3 in /usr/local/lib/python3.7/dist-packages (from pandas->fredapi) (1.21.6)\n",
            "Requirement already satisfied: pytz>=2017.3 in /usr/local/lib/python3.7/dist-packages (from pandas->fredapi) (2022.2.1)\n",
            "Requirement already satisfied: python-dateutil>=2.7.3 in /usr/local/lib/python3.7/dist-packages (from pandas->fredapi) (2.8.2)\n",
            "Requirement already satisfied: six>=1.5 in /usr/local/lib/python3.7/dist-packages (from python-dateutil>=2.7.3->pandas->fredapi) (1.15.0)\n",
            "Installing collected packages: fredapi\n",
            "Successfully installed fredapi-0.5.0\n"
          ]
        }
      ],
      "source": [
        "pip install fredapi"
      ]
    },
    {
      "cell_type": "code",
      "execution_count": null,
      "id": "SnLYiH4QrJ70",
      "metadata": {
        "colab": {
          "base_uri": "https://localhost:8080/"
        },
        "id": "SnLYiH4QrJ70",
        "outputId": "94322d7c-7084-4ed0-f4c4-02931e58b16f"
      },
      "outputs": [
        {
          "name": "stdout",
          "output_type": "stream",
          "text": [
            "Looking in indexes: https://pypi.org/simple, https://us-python.pkg.dev/colab-wheels/public/simple/\n",
            "Collecting yfinance\n",
            "  Downloading yfinance-0.1.74-py2.py3-none-any.whl (27 kB)\n",
            "Requirement already satisfied: pandas>=0.24.0 in /usr/local/lib/python3.7/dist-packages (from yfinance) (1.3.5)\n",
            "Requirement already satisfied: multitasking>=0.0.7 in /usr/local/lib/python3.7/dist-packages (from yfinance) (0.0.11)\n",
            "Requirement already satisfied: numpy>=1.15 in /usr/local/lib/python3.7/dist-packages (from yfinance) (1.21.6)\n",
            "Collecting requests>=2.26\n",
            "  Downloading requests-2.28.1-py3-none-any.whl (62 kB)\n",
            "\u001b[K     |████████████████████████████████| 62 kB 1.1 MB/s \n",
            "\u001b[?25hRequirement already satisfied: lxml>=4.5.1 in /usr/local/lib/python3.7/dist-packages (from yfinance) (4.9.1)\n",
            "Requirement already satisfied: python-dateutil>=2.7.3 in /usr/local/lib/python3.7/dist-packages (from pandas>=0.24.0->yfinance) (2.8.2)\n",
            "Requirement already satisfied: pytz>=2017.3 in /usr/local/lib/python3.7/dist-packages (from pandas>=0.24.0->yfinance) (2022.2.1)\n",
            "Requirement already satisfied: six>=1.5 in /usr/local/lib/python3.7/dist-packages (from python-dateutil>=2.7.3->pandas>=0.24.0->yfinance) (1.15.0)\n",
            "Requirement already satisfied: charset-normalizer<3,>=2 in /usr/local/lib/python3.7/dist-packages (from requests>=2.26->yfinance) (2.1.1)\n",
            "Requirement already satisfied: certifi>=2017.4.17 in /usr/local/lib/python3.7/dist-packages (from requests>=2.26->yfinance) (2022.6.15)\n",
            "Requirement already satisfied: urllib3<1.27,>=1.21.1 in /usr/local/lib/python3.7/dist-packages (from requests>=2.26->yfinance) (1.24.3)\n",
            "Requirement already satisfied: idna<4,>=2.5 in /usr/local/lib/python3.7/dist-packages (from requests>=2.26->yfinance) (2.10)\n",
            "Installing collected packages: requests, yfinance\n",
            "  Attempting uninstall: requests\n",
            "    Found existing installation: requests 2.23.0\n",
            "    Uninstalling requests-2.23.0:\n",
            "      Successfully uninstalled requests-2.23.0\n",
            "Successfully installed requests-2.28.1 yfinance-0.1.74\n"
          ]
        }
      ],
      "source": [
        "pip install yfinance"
      ]
    },
    {
      "cell_type": "code",
      "execution_count": null,
      "id": "6c583b0d",
      "metadata": {
        "id": "6c583b0d"
      },
      "outputs": [],
      "source": [
        "import pandas as pd\n",
        "import matplotlib.pyplot as plt\n",
        "import numpy as np\n",
        "import datetime\n",
        "import seaborn as sns\n",
        "import warnings\n",
        "import yfinance as yf\n",
        "import seaborn as sns; sns.set()\n",
        "yf.pdr_override() \n",
        "%matplotlib inline\n",
        "warnings.filterwarnings('ignore')"
      ]
    },
    {
      "cell_type": "code",
      "execution_count": null,
      "id": "ZJTPrgH9rE81",
      "metadata": {
        "colab": {
          "base_uri": "https://localhost:8080/"
        },
        "id": "ZJTPrgH9rE81",
        "outputId": "a113bdc4-cf54-48e5-b1e0-8e09ab7fe6fb"
      },
      "outputs": [
        {
          "name": "stdout",
          "output_type": "stream",
          "text": [
            "[*********************100%***********************]  3 of 3 completed\n"
          ]
        }
      ],
      "source": [
        "stocks = ['AMGN', 'GILD', '^IXIC']\n",
        "start = datetime.datetime(2021, 1, 1)\n",
        "end = datetime.datetime(2021, 4, 1)\n",
        "stock_price = yf.download(stocks, start=start, end=end, interval='1d')"
      ]
    },
    {
      "cell_type": "markdown",
      "id": "EDq7IXOGsn1B",
      "metadata": {
        "id": "EDq7IXOGsn1B"
      },
      "source": [
        "The analysis covers the business day for the period of 01-01-2021 and 04-01-2021 with daily stock price data."
      ]
    },
    {
      "cell_type": "code",
      "execution_count": null,
      "id": "wr8g6DRNsi8N",
      "metadata": {
        "colab": {
          "base_uri": "https://localhost:8080/",
          "height": 333
        },
        "id": "wr8g6DRNsi8N",
        "outputId": "178f7f31-3fe6-4515-d6f0-b88dfef12250"
      },
      "outputs": [
        {
          "data": {
            "text/html": [
              "\n",
              "  <div id=\"df-21602b2d-639c-4ab2-94f9-9439f288344d\">\n",
              "    <div class=\"colab-df-container\">\n",
              "      <div>\n",
              "<style scoped>\n",
              "    .dataframe tbody tr th:only-of-type {\n",
              "        vertical-align: middle;\n",
              "    }\n",
              "\n",
              "    .dataframe tbody tr th {\n",
              "        vertical-align: top;\n",
              "    }\n",
              "\n",
              "    .dataframe thead tr th {\n",
              "        text-align: left;\n",
              "    }\n",
              "\n",
              "    .dataframe thead tr:last-of-type th {\n",
              "        text-align: right;\n",
              "    }\n",
              "</style>\n",
              "<table border=\"1\" class=\"dataframe\">\n",
              "  <thead>\n",
              "    <tr>\n",
              "      <th></th>\n",
              "      <th colspan=\"3\" halign=\"left\">Adj Close</th>\n",
              "      <th colspan=\"3\" halign=\"left\">Close</th>\n",
              "      <th colspan=\"3\" halign=\"left\">High</th>\n",
              "      <th colspan=\"3\" halign=\"left\">Low</th>\n",
              "      <th colspan=\"3\" halign=\"left\">Open</th>\n",
              "      <th colspan=\"3\" halign=\"left\">Volume</th>\n",
              "    </tr>\n",
              "    <tr>\n",
              "      <th></th>\n",
              "      <th>AMGN</th>\n",
              "      <th>GILD</th>\n",
              "      <th>^IXIC</th>\n",
              "      <th>AMGN</th>\n",
              "      <th>GILD</th>\n",
              "      <th>^IXIC</th>\n",
              "      <th>AMGN</th>\n",
              "      <th>GILD</th>\n",
              "      <th>^IXIC</th>\n",
              "      <th>AMGN</th>\n",
              "      <th>GILD</th>\n",
              "      <th>^IXIC</th>\n",
              "      <th>AMGN</th>\n",
              "      <th>GILD</th>\n",
              "      <th>^IXIC</th>\n",
              "      <th>AMGN</th>\n",
              "      <th>GILD</th>\n",
              "      <th>^IXIC</th>\n",
              "    </tr>\n",
              "    <tr>\n",
              "      <th>Date</th>\n",
              "      <th></th>\n",
              "      <th></th>\n",
              "      <th></th>\n",
              "      <th></th>\n",
              "      <th></th>\n",
              "      <th></th>\n",
              "      <th></th>\n",
              "      <th></th>\n",
              "      <th></th>\n",
              "      <th></th>\n",
              "      <th></th>\n",
              "      <th></th>\n",
              "      <th></th>\n",
              "      <th></th>\n",
              "      <th></th>\n",
              "      <th></th>\n",
              "      <th></th>\n",
              "      <th></th>\n",
              "    </tr>\n",
              "  </thead>\n",
              "  <tbody>\n",
              "    <tr>\n",
              "      <th>2021-01-04</th>\n",
              "      <td>214.594559</td>\n",
              "      <td>55.588947</td>\n",
              "      <td>12698.450195</td>\n",
              "      <td>226.660004</td>\n",
              "      <td>60.110001</td>\n",
              "      <td>12698.450195</td>\n",
              "      <td>231.250000</td>\n",
              "      <td>60.160000</td>\n",
              "      <td>12958.719727</td>\n",
              "      <td>223.669998</td>\n",
              "      <td>57.930000</td>\n",
              "      <td>12543.240234</td>\n",
              "      <td>231.250000</td>\n",
              "      <td>58.669998</td>\n",
              "      <td>12958.519531</td>\n",
              "      <td>3088200</td>\n",
              "      <td>15520000</td>\n",
              "      <td>6546740000</td>\n",
              "    </tr>\n",
              "    <tr>\n",
              "      <th>2021-01-05</th>\n",
              "      <td>215.635986</td>\n",
              "      <td>55.487213</td>\n",
              "      <td>12818.959961</td>\n",
              "      <td>227.759995</td>\n",
              "      <td>60.000000</td>\n",
              "      <td>12818.959961</td>\n",
              "      <td>228.899994</td>\n",
              "      <td>60.450001</td>\n",
              "      <td>12828.269531</td>\n",
              "      <td>224.350006</td>\n",
              "      <td>59.619999</td>\n",
              "      <td>12665.650391</td>\n",
              "      <td>226.940002</td>\n",
              "      <td>60.230000</td>\n",
              "      <td>12665.650391</td>\n",
              "      <td>2494000</td>\n",
              "      <td>13251100</td>\n",
              "      <td>6904420000</td>\n",
              "    </tr>\n",
              "    <tr>\n",
              "      <th>2021-01-06</th>\n",
              "      <td>220.833755</td>\n",
              "      <td>57.290550</td>\n",
              "      <td>12740.790039</td>\n",
              "      <td>233.250000</td>\n",
              "      <td>61.950001</td>\n",
              "      <td>12740.790039</td>\n",
              "      <td>233.529999</td>\n",
              "      <td>62.080002</td>\n",
              "      <td>12909.629883</td>\n",
              "      <td>225.000000</td>\n",
              "      <td>59.700001</td>\n",
              "      <td>12649.990234</td>\n",
              "      <td>225.000000</td>\n",
              "      <td>59.700001</td>\n",
              "      <td>12666.150391</td>\n",
              "      <td>3754800</td>\n",
              "      <td>12222500</td>\n",
              "      <td>7648340000</td>\n",
              "    </tr>\n",
              "    <tr>\n",
              "      <th>2021-01-07</th>\n",
              "      <td>221.562775</td>\n",
              "      <td>57.817680</td>\n",
              "      <td>13067.480469</td>\n",
              "      <td>234.020004</td>\n",
              "      <td>62.520000</td>\n",
              "      <td>13067.480469</td>\n",
              "      <td>235.369995</td>\n",
              "      <td>63.240002</td>\n",
              "      <td>13090.910156</td>\n",
              "      <td>231.470001</td>\n",
              "      <td>61.520000</td>\n",
              "      <td>12867.339844</td>\n",
              "      <td>231.860001</td>\n",
              "      <td>61.900002</td>\n",
              "      <td>12867.339844</td>\n",
              "      <td>2647800</td>\n",
              "      <td>10614700</td>\n",
              "      <td>6777010000</td>\n",
              "    </tr>\n",
              "    <tr>\n",
              "      <th>2021-01-08</th>\n",
              "      <td>225.794815</td>\n",
              "      <td>58.298565</td>\n",
              "      <td>13201.980469</td>\n",
              "      <td>238.490005</td>\n",
              "      <td>63.040001</td>\n",
              "      <td>13201.980469</td>\n",
              "      <td>238.860001</td>\n",
              "      <td>63.410000</td>\n",
              "      <td>13208.089844</td>\n",
              "      <td>235.100006</td>\n",
              "      <td>62.509998</td>\n",
              "      <td>13036.549805</td>\n",
              "      <td>235.529999</td>\n",
              "      <td>62.610001</td>\n",
              "      <td>13160.219727</td>\n",
              "      <td>2511100</td>\n",
              "      <td>8389800</td>\n",
              "      <td>7223660000</td>\n",
              "    </tr>\n",
              "  </tbody>\n",
              "</table>\n",
              "</div>\n",
              "      <button class=\"colab-df-convert\" onclick=\"convertToInteractive('df-21602b2d-639c-4ab2-94f9-9439f288344d')\"\n",
              "              title=\"Convert this dataframe to an interactive table.\"\n",
              "              style=\"display:none;\">\n",
              "        \n",
              "  <svg xmlns=\"http://www.w3.org/2000/svg\" height=\"24px\"viewBox=\"0 0 24 24\"\n",
              "       width=\"24px\">\n",
              "    <path d=\"M0 0h24v24H0V0z\" fill=\"none\"/>\n",
              "    <path d=\"M18.56 5.44l.94 2.06.94-2.06 2.06-.94-2.06-.94-.94-2.06-.94 2.06-2.06.94zm-11 1L8.5 8.5l.94-2.06 2.06-.94-2.06-.94L8.5 2.5l-.94 2.06-2.06.94zm10 10l.94 2.06.94-2.06 2.06-.94-2.06-.94-.94-2.06-.94 2.06-2.06.94z\"/><path d=\"M17.41 7.96l-1.37-1.37c-.4-.4-.92-.59-1.43-.59-.52 0-1.04.2-1.43.59L10.3 9.45l-7.72 7.72c-.78.78-.78 2.05 0 2.83L4 21.41c.39.39.9.59 1.41.59.51 0 1.02-.2 1.41-.59l7.78-7.78 2.81-2.81c.8-.78.8-2.07 0-2.86zM5.41 20L4 18.59l7.72-7.72 1.47 1.35L5.41 20z\"/>\n",
              "  </svg>\n",
              "      </button>\n",
              "      \n",
              "  <style>\n",
              "    .colab-df-container {\n",
              "      display:flex;\n",
              "      flex-wrap:wrap;\n",
              "      gap: 12px;\n",
              "    }\n",
              "\n",
              "    .colab-df-convert {\n",
              "      background-color: #E8F0FE;\n",
              "      border: none;\n",
              "      border-radius: 50%;\n",
              "      cursor: pointer;\n",
              "      display: none;\n",
              "      fill: #1967D2;\n",
              "      height: 32px;\n",
              "      padding: 0 0 0 0;\n",
              "      width: 32px;\n",
              "    }\n",
              "\n",
              "    .colab-df-convert:hover {\n",
              "      background-color: #E2EBFA;\n",
              "      box-shadow: 0px 1px 2px rgba(60, 64, 67, 0.3), 0px 1px 3px 1px rgba(60, 64, 67, 0.15);\n",
              "      fill: #174EA6;\n",
              "    }\n",
              "\n",
              "    [theme=dark] .colab-df-convert {\n",
              "      background-color: #3B4455;\n",
              "      fill: #D2E3FC;\n",
              "    }\n",
              "\n",
              "    [theme=dark] .colab-df-convert:hover {\n",
              "      background-color: #434B5C;\n",
              "      box-shadow: 0px 1px 3px 1px rgba(0, 0, 0, 0.15);\n",
              "      filter: drop-shadow(0px 1px 2px rgba(0, 0, 0, 0.3));\n",
              "      fill: #FFFFFF;\n",
              "    }\n",
              "  </style>\n",
              "\n",
              "      <script>\n",
              "        const buttonEl =\n",
              "          document.querySelector('#df-21602b2d-639c-4ab2-94f9-9439f288344d button.colab-df-convert');\n",
              "        buttonEl.style.display =\n",
              "          google.colab.kernel.accessAllowed ? 'block' : 'none';\n",
              "\n",
              "        async function convertToInteractive(key) {\n",
              "          const element = document.querySelector('#df-21602b2d-639c-4ab2-94f9-9439f288344d');\n",
              "          const dataTable =\n",
              "            await google.colab.kernel.invokeFunction('convertToInteractive',\n",
              "                                                     [key], {});\n",
              "          if (!dataTable) return;\n",
              "\n",
              "          const docLinkHtml = 'Like what you see? Visit the ' +\n",
              "            '<a target=\"_blank\" href=https://colab.research.google.com/notebooks/data_table.ipynb>data table notebook</a>'\n",
              "            + ' to learn more about interactive tables.';\n",
              "          element.innerHTML = '';\n",
              "          dataTable['output_type'] = 'display_data';\n",
              "          await google.colab.output.renderOutput(dataTable, element);\n",
              "          const docLink = document.createElement('div');\n",
              "          docLink.innerHTML = docLinkHtml;\n",
              "          element.appendChild(docLink);\n",
              "        }\n",
              "      </script>\n",
              "    </div>\n",
              "  </div>\n",
              "  "
            ],
            "text/plain": [
              "             Adj Close                                Close             \\\n",
              "                  AMGN       GILD         ^IXIC        AMGN       GILD   \n",
              "Date                                                                     \n",
              "2021-01-04  214.594559  55.588947  12698.450195  226.660004  60.110001   \n",
              "2021-01-05  215.635986  55.487213  12818.959961  227.759995  60.000000   \n",
              "2021-01-06  220.833755  57.290550  12740.790039  233.250000  61.950001   \n",
              "2021-01-07  221.562775  57.817680  13067.480469  234.020004  62.520000   \n",
              "2021-01-08  225.794815  58.298565  13201.980469  238.490005  63.040001   \n",
              "\n",
              "                                High                                  Low  \\\n",
              "                   ^IXIC        AMGN       GILD         ^IXIC        AMGN   \n",
              "Date                                                                        \n",
              "2021-01-04  12698.450195  231.250000  60.160000  12958.719727  223.669998   \n",
              "2021-01-05  12818.959961  228.899994  60.450001  12828.269531  224.350006   \n",
              "2021-01-06  12740.790039  233.529999  62.080002  12909.629883  225.000000   \n",
              "2021-01-07  13067.480469  235.369995  63.240002  13090.910156  231.470001   \n",
              "2021-01-08  13201.980469  238.860001  63.410000  13208.089844  235.100006   \n",
              "\n",
              "                                           Open                           \\\n",
              "                 GILD         ^IXIC        AMGN       GILD         ^IXIC   \n",
              "Date                                                                       \n",
              "2021-01-04  57.930000  12543.240234  231.250000  58.669998  12958.519531   \n",
              "2021-01-05  59.619999  12665.650391  226.940002  60.230000  12665.650391   \n",
              "2021-01-06  59.700001  12649.990234  225.000000  59.700001  12666.150391   \n",
              "2021-01-07  61.520000  12867.339844  231.860001  61.900002  12867.339844   \n",
              "2021-01-08  62.509998  13036.549805  235.529999  62.610001  13160.219727   \n",
              "\n",
              "             Volume                        \n",
              "               AMGN      GILD       ^IXIC  \n",
              "Date                                       \n",
              "2021-01-04  3088200  15520000  6546740000  \n",
              "2021-01-05  2494000  13251100  6904420000  \n",
              "2021-01-06  3754800  12222500  7648340000  \n",
              "2021-01-07  2647800  10614700  6777010000  \n",
              "2021-01-08  2511100   8389800  7223660000  "
            ]
          },
          "execution_count": 15,
          "metadata": {},
          "output_type": "execute_result"
        }
      ],
      "source": [
        "stock_price.head()"
      ]
    },
    {
      "cell_type": "markdown",
      "id": "yyJx1Cr0v401",
      "metadata": {
        "id": "yyJx1Cr0v401"
      },
      "source": [
        "###Interpretation\n",
        "We are just taking close column because it is more trustworthy to be considered"
      ]
    },
    {
      "cell_type": "code",
      "execution_count": null,
      "id": "JoLhYYjfuIlV",
      "metadata": {
        "id": "JoLhYYjfuIlV"
      },
      "outputs": [],
      "source": [
        "stock_price = stock_price['Close']"
      ]
    },
    {
      "cell_type": "code",
      "execution_count": null,
      "id": "JxEiNCFEvvoZ",
      "metadata": {
        "colab": {
          "base_uri": "https://localhost:8080/",
          "height": 300
        },
        "id": "JxEiNCFEvvoZ",
        "outputId": "aa1702d5-fea8-4adc-d2b2-57be9b4d09fe"
      },
      "outputs": [
        {
          "data": {
            "text/html": [
              "\n",
              "  <div id=\"df-eb57889b-73e3-4d26-9d4b-6be50918ced5\">\n",
              "    <div class=\"colab-df-container\">\n",
              "      <div>\n",
              "<style scoped>\n",
              "    .dataframe tbody tr th:only-of-type {\n",
              "        vertical-align: middle;\n",
              "    }\n",
              "\n",
              "    .dataframe tbody tr th {\n",
              "        vertical-align: top;\n",
              "    }\n",
              "\n",
              "    .dataframe thead th {\n",
              "        text-align: right;\n",
              "    }\n",
              "</style>\n",
              "<table border=\"1\" class=\"dataframe\">\n",
              "  <thead>\n",
              "    <tr style=\"text-align: right;\">\n",
              "      <th></th>\n",
              "      <th>AMGN</th>\n",
              "      <th>GILD</th>\n",
              "      <th>^IXIC</th>\n",
              "    </tr>\n",
              "  </thead>\n",
              "  <tbody>\n",
              "    <tr>\n",
              "      <th>count</th>\n",
              "      <td>61.000000</td>\n",
              "      <td>61.000000</td>\n",
              "      <td>61.000000</td>\n",
              "    </tr>\n",
              "    <tr>\n",
              "      <th>mean</th>\n",
              "      <td>238.609346</td>\n",
              "      <td>64.481312</td>\n",
              "      <td>13351.456567</td>\n",
              "    </tr>\n",
              "    <tr>\n",
              "      <th>std</th>\n",
              "      <td>9.219495</td>\n",
              "      <td>1.960186</td>\n",
              "      <td>375.828072</td>\n",
              "    </tr>\n",
              "    <tr>\n",
              "      <th>min</th>\n",
              "      <td>221.910004</td>\n",
              "      <td>60.000000</td>\n",
              "      <td>12609.160156</td>\n",
              "    </tr>\n",
              "    <tr>\n",
              "      <th>25%</th>\n",
              "      <td>231.470001</td>\n",
              "      <td>63.070000</td>\n",
              "      <td>13070.690430</td>\n",
              "    </tr>\n",
              "    <tr>\n",
              "      <th>50%</th>\n",
              "      <td>237.220001</td>\n",
              "      <td>64.459999</td>\n",
              "      <td>13319.860352</td>\n",
              "    </tr>\n",
              "    <tr>\n",
              "      <th>75%</th>\n",
              "      <td>245.490005</td>\n",
              "      <td>65.529999</td>\n",
              "      <td>13597.969727</td>\n",
              "    </tr>\n",
              "    <tr>\n",
              "      <th>max</th>\n",
              "      <td>258.600006</td>\n",
              "      <td>68.459999</td>\n",
              "      <td>14095.469727</td>\n",
              "    </tr>\n",
              "  </tbody>\n",
              "</table>\n",
              "</div>\n",
              "      <button class=\"colab-df-convert\" onclick=\"convertToInteractive('df-eb57889b-73e3-4d26-9d4b-6be50918ced5')\"\n",
              "              title=\"Convert this dataframe to an interactive table.\"\n",
              "              style=\"display:none;\">\n",
              "        \n",
              "  <svg xmlns=\"http://www.w3.org/2000/svg\" height=\"24px\"viewBox=\"0 0 24 24\"\n",
              "       width=\"24px\">\n",
              "    <path d=\"M0 0h24v24H0V0z\" fill=\"none\"/>\n",
              "    <path d=\"M18.56 5.44l.94 2.06.94-2.06 2.06-.94-2.06-.94-.94-2.06-.94 2.06-2.06.94zm-11 1L8.5 8.5l.94-2.06 2.06-.94-2.06-.94L8.5 2.5l-.94 2.06-2.06.94zm10 10l.94 2.06.94-2.06 2.06-.94-2.06-.94-.94-2.06-.94 2.06-2.06.94z\"/><path d=\"M17.41 7.96l-1.37-1.37c-.4-.4-.92-.59-1.43-.59-.52 0-1.04.2-1.43.59L10.3 9.45l-7.72 7.72c-.78.78-.78 2.05 0 2.83L4 21.41c.39.39.9.59 1.41.59.51 0 1.02-.2 1.41-.59l7.78-7.78 2.81-2.81c.8-.78.8-2.07 0-2.86zM5.41 20L4 18.59l7.72-7.72 1.47 1.35L5.41 20z\"/>\n",
              "  </svg>\n",
              "      </button>\n",
              "      \n",
              "  <style>\n",
              "    .colab-df-container {\n",
              "      display:flex;\n",
              "      flex-wrap:wrap;\n",
              "      gap: 12px;\n",
              "    }\n",
              "\n",
              "    .colab-df-convert {\n",
              "      background-color: #E8F0FE;\n",
              "      border: none;\n",
              "      border-radius: 50%;\n",
              "      cursor: pointer;\n",
              "      display: none;\n",
              "      fill: #1967D2;\n",
              "      height: 32px;\n",
              "      padding: 0 0 0 0;\n",
              "      width: 32px;\n",
              "    }\n",
              "\n",
              "    .colab-df-convert:hover {\n",
              "      background-color: #E2EBFA;\n",
              "      box-shadow: 0px 1px 2px rgba(60, 64, 67, 0.3), 0px 1px 3px 1px rgba(60, 64, 67, 0.15);\n",
              "      fill: #174EA6;\n",
              "    }\n",
              "\n",
              "    [theme=dark] .colab-df-convert {\n",
              "      background-color: #3B4455;\n",
              "      fill: #D2E3FC;\n",
              "    }\n",
              "\n",
              "    [theme=dark] .colab-df-convert:hover {\n",
              "      background-color: #434B5C;\n",
              "      box-shadow: 0px 1px 3px 1px rgba(0, 0, 0, 0.15);\n",
              "      filter: drop-shadow(0px 1px 2px rgba(0, 0, 0, 0.3));\n",
              "      fill: #FFFFFF;\n",
              "    }\n",
              "  </style>\n",
              "\n",
              "      <script>\n",
              "        const buttonEl =\n",
              "          document.querySelector('#df-eb57889b-73e3-4d26-9d4b-6be50918ced5 button.colab-df-convert');\n",
              "        buttonEl.style.display =\n",
              "          google.colab.kernel.accessAllowed ? 'block' : 'none';\n",
              "\n",
              "        async function convertToInteractive(key) {\n",
              "          const element = document.querySelector('#df-eb57889b-73e3-4d26-9d4b-6be50918ced5');\n",
              "          const dataTable =\n",
              "            await google.colab.kernel.invokeFunction('convertToInteractive',\n",
              "                                                     [key], {});\n",
              "          if (!dataTable) return;\n",
              "\n",
              "          const docLinkHtml = 'Like what you see? Visit the ' +\n",
              "            '<a target=\"_blank\" href=https://colab.research.google.com/notebooks/data_table.ipynb>data table notebook</a>'\n",
              "            + ' to learn more about interactive tables.';\n",
              "          element.innerHTML = '';\n",
              "          dataTable['output_type'] = 'display_data';\n",
              "          await google.colab.output.renderOutput(dataTable, element);\n",
              "          const docLink = document.createElement('div');\n",
              "          docLink.innerHTML = docLinkHtml;\n",
              "          element.appendChild(docLink);\n",
              "        }\n",
              "      </script>\n",
              "    </div>\n",
              "  </div>\n",
              "  "
            ],
            "text/plain": [
              "             AMGN       GILD         ^IXIC\n",
              "count   61.000000  61.000000     61.000000\n",
              "mean   238.609346  64.481312  13351.456567\n",
              "std      9.219495   1.960186    375.828072\n",
              "min    221.910004  60.000000  12609.160156\n",
              "25%    231.470001  63.070000  13070.690430\n",
              "50%    237.220001  64.459999  13319.860352\n",
              "75%    245.490005  65.529999  13597.969727\n",
              "max    258.600006  68.459999  14095.469727"
            ]
          },
          "execution_count": 17,
          "metadata": {},
          "output_type": "execute_result"
        }
      ],
      "source": [
        "stock_price.describe()"
      ]
    },
    {
      "cell_type": "markdown",
      "id": "iEtDY0XLI8CP",
      "metadata": {
        "id": "iEtDY0XLI8CP"
      },
      "source": [
        "###Interpretation:\n",
        "We can see that the stock prices are for 61 days.\n",
        "\n",
        "*   Amgen std. deviation is 9 which means that its a risky stock as compared to the GILD with std. deviation of 1.96 which means it much stable with less risk involved\n",
        "*   We can also see the min price, max price, mean and other parameters\n",
        "\n"
      ]
    },
    {
      "cell_type": "markdown",
      "id": "0G9QOa6103SE",
      "metadata": {
        "id": "0G9QOa6103SE"
      },
      "source": [
        "To avoid trouble in coding, renaming ^IXIC to IXIC"
      ]
    },
    {
      "cell_type": "code",
      "execution_count": null,
      "id": "yz3CVSJazjzN",
      "metadata": {
        "id": "yz3CVSJazjzN"
      },
      "outputs": [],
      "source": [
        "stock_price = stock_price.rename({'^IXIC' :'IXIC'},  axis='columns')"
      ]
    },
    {
      "cell_type": "code",
      "execution_count": null,
      "id": "ulnp1KsX1N9O",
      "metadata": {
        "colab": {
          "base_uri": "https://localhost:8080/",
          "height": 238
        },
        "id": "ulnp1KsX1N9O",
        "outputId": "998f0793-efab-4660-810e-671bc599c2fb"
      },
      "outputs": [
        {
          "data": {
            "text/html": [
              "\n",
              "  <div id=\"df-6156bea4-5892-4be3-8693-234e36b3e648\">\n",
              "    <div class=\"colab-df-container\">\n",
              "      <div>\n",
              "<style scoped>\n",
              "    .dataframe tbody tr th:only-of-type {\n",
              "        vertical-align: middle;\n",
              "    }\n",
              "\n",
              "    .dataframe tbody tr th {\n",
              "        vertical-align: top;\n",
              "    }\n",
              "\n",
              "    .dataframe thead th {\n",
              "        text-align: right;\n",
              "    }\n",
              "</style>\n",
              "<table border=\"1\" class=\"dataframe\">\n",
              "  <thead>\n",
              "    <tr style=\"text-align: right;\">\n",
              "      <th></th>\n",
              "      <th>AMGN</th>\n",
              "      <th>GILD</th>\n",
              "      <th>IXIC</th>\n",
              "    </tr>\n",
              "    <tr>\n",
              "      <th>Date</th>\n",
              "      <th></th>\n",
              "      <th></th>\n",
              "      <th></th>\n",
              "    </tr>\n",
              "  </thead>\n",
              "  <tbody>\n",
              "    <tr>\n",
              "      <th>2021-01-04</th>\n",
              "      <td>226.660004</td>\n",
              "      <td>60.110001</td>\n",
              "      <td>12698.450195</td>\n",
              "    </tr>\n",
              "    <tr>\n",
              "      <th>2021-01-05</th>\n",
              "      <td>227.759995</td>\n",
              "      <td>60.000000</td>\n",
              "      <td>12818.959961</td>\n",
              "    </tr>\n",
              "    <tr>\n",
              "      <th>2021-01-06</th>\n",
              "      <td>233.250000</td>\n",
              "      <td>61.950001</td>\n",
              "      <td>12740.790039</td>\n",
              "    </tr>\n",
              "    <tr>\n",
              "      <th>2021-01-07</th>\n",
              "      <td>234.020004</td>\n",
              "      <td>62.520000</td>\n",
              "      <td>13067.480469</td>\n",
              "    </tr>\n",
              "    <tr>\n",
              "      <th>2021-01-08</th>\n",
              "      <td>238.490005</td>\n",
              "      <td>63.040001</td>\n",
              "      <td>13201.980469</td>\n",
              "    </tr>\n",
              "  </tbody>\n",
              "</table>\n",
              "</div>\n",
              "      <button class=\"colab-df-convert\" onclick=\"convertToInteractive('df-6156bea4-5892-4be3-8693-234e36b3e648')\"\n",
              "              title=\"Convert this dataframe to an interactive table.\"\n",
              "              style=\"display:none;\">\n",
              "        \n",
              "  <svg xmlns=\"http://www.w3.org/2000/svg\" height=\"24px\"viewBox=\"0 0 24 24\"\n",
              "       width=\"24px\">\n",
              "    <path d=\"M0 0h24v24H0V0z\" fill=\"none\"/>\n",
              "    <path d=\"M18.56 5.44l.94 2.06.94-2.06 2.06-.94-2.06-.94-.94-2.06-.94 2.06-2.06.94zm-11 1L8.5 8.5l.94-2.06 2.06-.94-2.06-.94L8.5 2.5l-.94 2.06-2.06.94zm10 10l.94 2.06.94-2.06 2.06-.94-2.06-.94-.94-2.06-.94 2.06-2.06.94z\"/><path d=\"M17.41 7.96l-1.37-1.37c-.4-.4-.92-.59-1.43-.59-.52 0-1.04.2-1.43.59L10.3 9.45l-7.72 7.72c-.78.78-.78 2.05 0 2.83L4 21.41c.39.39.9.59 1.41.59.51 0 1.02-.2 1.41-.59l7.78-7.78 2.81-2.81c.8-.78.8-2.07 0-2.86zM5.41 20L4 18.59l7.72-7.72 1.47 1.35L5.41 20z\"/>\n",
              "  </svg>\n",
              "      </button>\n",
              "      \n",
              "  <style>\n",
              "    .colab-df-container {\n",
              "      display:flex;\n",
              "      flex-wrap:wrap;\n",
              "      gap: 12px;\n",
              "    }\n",
              "\n",
              "    .colab-df-convert {\n",
              "      background-color: #E8F0FE;\n",
              "      border: none;\n",
              "      border-radius: 50%;\n",
              "      cursor: pointer;\n",
              "      display: none;\n",
              "      fill: #1967D2;\n",
              "      height: 32px;\n",
              "      padding: 0 0 0 0;\n",
              "      width: 32px;\n",
              "    }\n",
              "\n",
              "    .colab-df-convert:hover {\n",
              "      background-color: #E2EBFA;\n",
              "      box-shadow: 0px 1px 2px rgba(60, 64, 67, 0.3), 0px 1px 3px 1px rgba(60, 64, 67, 0.15);\n",
              "      fill: #174EA6;\n",
              "    }\n",
              "\n",
              "    [theme=dark] .colab-df-convert {\n",
              "      background-color: #3B4455;\n",
              "      fill: #D2E3FC;\n",
              "    }\n",
              "\n",
              "    [theme=dark] .colab-df-convert:hover {\n",
              "      background-color: #434B5C;\n",
              "      box-shadow: 0px 1px 3px 1px rgba(0, 0, 0, 0.15);\n",
              "      filter: drop-shadow(0px 1px 2px rgba(0, 0, 0, 0.3));\n",
              "      fill: #FFFFFF;\n",
              "    }\n",
              "  </style>\n",
              "\n",
              "      <script>\n",
              "        const buttonEl =\n",
              "          document.querySelector('#df-6156bea4-5892-4be3-8693-234e36b3e648 button.colab-df-convert');\n",
              "        buttonEl.style.display =\n",
              "          google.colab.kernel.accessAllowed ? 'block' : 'none';\n",
              "\n",
              "        async function convertToInteractive(key) {\n",
              "          const element = document.querySelector('#df-6156bea4-5892-4be3-8693-234e36b3e648');\n",
              "          const dataTable =\n",
              "            await google.colab.kernel.invokeFunction('convertToInteractive',\n",
              "                                                     [key], {});\n",
              "          if (!dataTable) return;\n",
              "\n",
              "          const docLinkHtml = 'Like what you see? Visit the ' +\n",
              "            '<a target=\"_blank\" href=https://colab.research.google.com/notebooks/data_table.ipynb>data table notebook</a>'\n",
              "            + ' to learn more about interactive tables.';\n",
              "          element.innerHTML = '';\n",
              "          dataTable['output_type'] = 'display_data';\n",
              "          await google.colab.output.renderOutput(dataTable, element);\n",
              "          const docLink = document.createElement('div');\n",
              "          docLink.innerHTML = docLinkHtml;\n",
              "          element.appendChild(docLink);\n",
              "        }\n",
              "      </script>\n",
              "    </div>\n",
              "  </div>\n",
              "  "
            ],
            "text/plain": [
              "                  AMGN       GILD          IXIC\n",
              "Date                                           \n",
              "2021-01-04  226.660004  60.110001  12698.450195\n",
              "2021-01-05  227.759995  60.000000  12818.959961\n",
              "2021-01-06  233.250000  61.950001  12740.790039\n",
              "2021-01-07  234.020004  62.520000  13067.480469\n",
              "2021-01-08  238.490005  63.040001  13201.980469"
            ]
          },
          "execution_count": 19,
          "metadata": {},
          "output_type": "execute_result"
        }
      ],
      "source": [
        "stock_price.head()"
      ]
    },
    {
      "cell_type": "markdown",
      "id": "SOJtG16YJrHv",
      "metadata": {
        "id": "SOJtG16YJrHv"
      },
      "source": [
        "Above are the stock prices for initial 5 days"
      ]
    },
    {
      "cell_type": "code",
      "execution_count": null,
      "id": "38aBhSjY1R9o",
      "metadata": {
        "id": "38aBhSjY1R9o"
      },
      "outputs": [],
      "source": [
        "from fredapi import Fred\n",
        "fred = Fred(api_key='78b14ec6ba46f484b94db43694468bb1')#  my API key"
      ]
    },
    {
      "cell_type": "code",
      "execution_count": null,
      "id": "6eCCKXg94D0G",
      "metadata": {
        "colab": {
          "base_uri": "https://localhost:8080/",
          "height": 280
        },
        "id": "6eCCKXg94D0G",
        "outputId": "244a8bf5-7cf4-4001-e441-0769817ec835"
      },
      "outputs": [
        {
          "data": {
            "text/html": [
              "\n",
              "  <div id=\"df-1f53cf62-f189-4e17-87b3-dec69ddb2fcb\">\n",
              "    <div class=\"colab-df-container\">\n",
              "      <div>\n",
              "<style scoped>\n",
              "    .dataframe tbody tr th:only-of-type {\n",
              "        vertical-align: middle;\n",
              "    }\n",
              "\n",
              "    .dataframe tbody tr th {\n",
              "        vertical-align: top;\n",
              "    }\n",
              "\n",
              "    .dataframe thead th {\n",
              "        text-align: right;\n",
              "    }\n",
              "</style>\n",
              "<table border=\"1\" class=\"dataframe\">\n",
              "  <thead>\n",
              "    <tr style=\"text-align: right;\">\n",
              "      <th></th>\n",
              "      <th>frequency</th>\n",
              "      <th>frequency_short</th>\n",
              "      <th>id</th>\n",
              "      <th>last_updated</th>\n",
              "      <th>notes</th>\n",
              "      <th>observation_end</th>\n",
              "      <th>observation_start</th>\n",
              "      <th>popularity</th>\n",
              "      <th>realtime_end</th>\n",
              "      <th>realtime_start</th>\n",
              "      <th>seasonal_adjustment</th>\n",
              "      <th>seasonal_adjustment_short</th>\n",
              "      <th>title</th>\n",
              "      <th>units</th>\n",
              "      <th>units_short</th>\n",
              "    </tr>\n",
              "    <tr>\n",
              "      <th>series id</th>\n",
              "      <th></th>\n",
              "      <th></th>\n",
              "      <th></th>\n",
              "      <th></th>\n",
              "      <th></th>\n",
              "      <th></th>\n",
              "      <th></th>\n",
              "      <th></th>\n",
              "      <th></th>\n",
              "      <th></th>\n",
              "      <th></th>\n",
              "      <th></th>\n",
              "      <th></th>\n",
              "      <th></th>\n",
              "      <th></th>\n",
              "    </tr>\n",
              "  </thead>\n",
              "  <tbody>\n",
              "    <tr>\n",
              "      <th>DGS3MO</th>\n",
              "      <td>Daily</td>\n",
              "      <td>D</td>\n",
              "      <td>DGS3MO</td>\n",
              "      <td>2022-09-30 15:20:04-05:00</td>\n",
              "      <td>For further information regarding treasury con...</td>\n",
              "      <td>2022-09-29</td>\n",
              "      <td>1981-09-01</td>\n",
              "      <td>72</td>\n",
              "      <td>2022-10-03</td>\n",
              "      <td>2022-10-03</td>\n",
              "      <td>Not Seasonally Adjusted</td>\n",
              "      <td>NSA</td>\n",
              "      <td>Market Yield on U.S. Treasury Securities at 3-...</td>\n",
              "      <td>Percent</td>\n",
              "      <td>%</td>\n",
              "    </tr>\n",
              "  </tbody>\n",
              "</table>\n",
              "</div>\n",
              "      <button class=\"colab-df-convert\" onclick=\"convertToInteractive('df-1f53cf62-f189-4e17-87b3-dec69ddb2fcb')\"\n",
              "              title=\"Convert this dataframe to an interactive table.\"\n",
              "              style=\"display:none;\">\n",
              "        \n",
              "  <svg xmlns=\"http://www.w3.org/2000/svg\" height=\"24px\"viewBox=\"0 0 24 24\"\n",
              "       width=\"24px\">\n",
              "    <path d=\"M0 0h24v24H0V0z\" fill=\"none\"/>\n",
              "    <path d=\"M18.56 5.44l.94 2.06.94-2.06 2.06-.94-2.06-.94-.94-2.06-.94 2.06-2.06.94zm-11 1L8.5 8.5l.94-2.06 2.06-.94-2.06-.94L8.5 2.5l-.94 2.06-2.06.94zm10 10l.94 2.06.94-2.06 2.06-.94-2.06-.94-.94-2.06-.94 2.06-2.06.94z\"/><path d=\"M17.41 7.96l-1.37-1.37c-.4-.4-.92-.59-1.43-.59-.52 0-1.04.2-1.43.59L10.3 9.45l-7.72 7.72c-.78.78-.78 2.05 0 2.83L4 21.41c.39.39.9.59 1.41.59.51 0 1.02-.2 1.41-.59l7.78-7.78 2.81-2.81c.8-.78.8-2.07 0-2.86zM5.41 20L4 18.59l7.72-7.72 1.47 1.35L5.41 20z\"/>\n",
              "  </svg>\n",
              "      </button>\n",
              "      \n",
              "  <style>\n",
              "    .colab-df-container {\n",
              "      display:flex;\n",
              "      flex-wrap:wrap;\n",
              "      gap: 12px;\n",
              "    }\n",
              "\n",
              "    .colab-df-convert {\n",
              "      background-color: #E8F0FE;\n",
              "      border: none;\n",
              "      border-radius: 50%;\n",
              "      cursor: pointer;\n",
              "      display: none;\n",
              "      fill: #1967D2;\n",
              "      height: 32px;\n",
              "      padding: 0 0 0 0;\n",
              "      width: 32px;\n",
              "    }\n",
              "\n",
              "    .colab-df-convert:hover {\n",
              "      background-color: #E2EBFA;\n",
              "      box-shadow: 0px 1px 2px rgba(60, 64, 67, 0.3), 0px 1px 3px 1px rgba(60, 64, 67, 0.15);\n",
              "      fill: #174EA6;\n",
              "    }\n",
              "\n",
              "    [theme=dark] .colab-df-convert {\n",
              "      background-color: #3B4455;\n",
              "      fill: #D2E3FC;\n",
              "    }\n",
              "\n",
              "    [theme=dark] .colab-df-convert:hover {\n",
              "      background-color: #434B5C;\n",
              "      box-shadow: 0px 1px 3px 1px rgba(0, 0, 0, 0.15);\n",
              "      filter: drop-shadow(0px 1px 2px rgba(0, 0, 0, 0.3));\n",
              "      fill: #FFFFFF;\n",
              "    }\n",
              "  </style>\n",
              "\n",
              "      <script>\n",
              "        const buttonEl =\n",
              "          document.querySelector('#df-1f53cf62-f189-4e17-87b3-dec69ddb2fcb button.colab-df-convert');\n",
              "        buttonEl.style.display =\n",
              "          google.colab.kernel.accessAllowed ? 'block' : 'none';\n",
              "\n",
              "        async function convertToInteractive(key) {\n",
              "          const element = document.querySelector('#df-1f53cf62-f189-4e17-87b3-dec69ddb2fcb');\n",
              "          const dataTable =\n",
              "            await google.colab.kernel.invokeFunction('convertToInteractive',\n",
              "                                                     [key], {});\n",
              "          if (!dataTable) return;\n",
              "\n",
              "          const docLinkHtml = 'Like what you see? Visit the ' +\n",
              "            '<a target=\"_blank\" href=https://colab.research.google.com/notebooks/data_table.ipynb>data table notebook</a>'\n",
              "            + ' to learn more about interactive tables.';\n",
              "          element.innerHTML = '';\n",
              "          dataTable['output_type'] = 'display_data';\n",
              "          await google.colab.output.renderOutput(dataTable, element);\n",
              "          const docLink = document.createElement('div');\n",
              "          docLink.innerHTML = docLinkHtml;\n",
              "          element.appendChild(docLink);\n",
              "        }\n",
              "      </script>\n",
              "    </div>\n",
              "  </div>\n",
              "  "
            ],
            "text/plain": [
              "          frequency frequency_short      id              last_updated  \\\n",
              "series id                                                               \n",
              "DGS3MO        Daily               D  DGS3MO 2022-09-30 15:20:04-05:00   \n",
              "\n",
              "                                                       notes observation_end  \\\n",
              "series id                                                                      \n",
              "DGS3MO     For further information regarding treasury con...      2022-09-29   \n",
              "\n",
              "          observation_start popularity realtime_end realtime_start  \\\n",
              "series id                                                            \n",
              "DGS3MO           1981-09-01         72   2022-10-03     2022-10-03   \n",
              "\n",
              "               seasonal_adjustment seasonal_adjustment_short  \\\n",
              "series id                                                      \n",
              "DGS3MO     Not Seasonally Adjusted                       NSA   \n",
              "\n",
              "                                                       title    units  \\\n",
              "series id                                                               \n",
              "DGS3MO     Market Yield on U.S. Treasury Securities at 3-...  Percent   \n",
              "\n",
              "          units_short  \n",
              "series id              \n",
              "DGS3MO              %  "
            ]
          },
          "execution_count": 23,
          "metadata": {},
          "output_type": "execute_result"
        }
      ],
      "source": [
        "fred.search('DGS3MO')"
      ]
    },
    {
      "cell_type": "code",
      "execution_count": null,
      "id": "U6VRegg-4SCm",
      "metadata": {
        "colab": {
          "base_uri": "https://localhost:8080/"
        },
        "id": "U6VRegg-4SCm",
        "outputId": "45ae6432-6b9c-443c-eebe-5fca56744d25"
      },
      "outputs": [
        {
          "data": {
            "text/plain": [
              "1981-09-01    17.01\n",
              "1981-09-02    16.65\n",
              "1981-09-03    16.96\n",
              "1981-09-04    16.64\n",
              "1981-09-07      NaN\n",
              "              ...  \n",
              "2022-09-23     3.24\n",
              "2022-09-26     3.39\n",
              "2022-09-27     3.35\n",
              "2022-09-28     3.40\n",
              "2022-09-29     3.36\n",
              "Length: 10718, dtype: float64"
            ]
          },
          "execution_count": 24,
          "metadata": {},
          "output_type": "execute_result"
        }
      ],
      "source": [
        "risk_free = fred.get_series('DGS3MO')\n",
        "risk_free"
      ]
    },
    {
      "cell_type": "markdown",
      "id": "0P-m_SoOJ7oA",
      "metadata": {
        "id": "0P-m_SoOJ7oA"
      },
      "source": [
        "This gives us the risk free rate which is not a literal meaning but it involves very less risk."
      ]
    },
    {
      "cell_type": "markdown",
      "id": "gQkxuH52MPGs",
      "metadata": {
        "id": "gQkxuH52MPGs"
      },
      "source": [
        "##2. Examine the data through visualization and correlation. Calculate returns of the stocks and market. (25 pts)"
      ]
    },
    {
      "cell_type": "code",
      "execution_count": null,
      "id": "X_E-DH9k4Y8F",
      "metadata": {
        "colab": {
          "base_uri": "https://localhost:8080/",
          "height": 310
        },
        "id": "X_E-DH9k4Y8F",
        "outputId": "2ab3d2f4-61af-41d4-9e48-afa8b694c609"
      },
      "outputs": [
        {
          "data": {
            "image/png": "[encoded data removed]",
            "text/plain": [
              "<Figure size 432x288 with 1 Axes>"
            ]
          },
          "metadata": {
            "needs_background": "light"
          },
          "output_type": "display_data"
        }
      ],
      "source": [
        "stock_price.loc[:,['AMGN', 'GILD']].plot()\n",
        "plt.title('Stock Prices')\n",
        "plt.xlabel('Date')\n",
        "plt.show()"
      ]
    },
    {
      "cell_type": "markdown",
      "id": "QL0h9ivLKOiY",
      "metadata": {
        "id": "QL0h9ivLKOiY"
      },
      "source": [
        "###Interpretation\n",
        "\n",
        "\n",
        "\n",
        "*   AMGN stocks are much volatile as we have discussed above, because of high std. deviation of 9.36 and that also can be observed in the graph above as it fluctuates good enough highs and lows\n",
        "*   GILD is relatively stable as we have discussed above because of low std. deviation\n",
        "\n"
      ]
    },
    {
      "cell_type": "code",
      "execution_count": 84,
      "id": "Gna0x_0CMb2T",
      "metadata": {
        "colab": {
          "base_uri": "https://localhost:8080/",
          "height": 310
        },
        "id": "Gna0x_0CMb2T",
        "outputId": "311beed9-b47e-4707-f736-a86bdd51104c"
      },
      "outputs": [
        {
          "data": {
            "image/png": "[encoded data removed]",
            "text/plain": [
              "<Figure size 432x288 with 1 Axes>"
            ]
          },
          "metadata": {
            "needs_background": "light"
          },
          "output_type": "display_data"
        }
      ],
      "source": [
        "stock_price.loc[:,['IXIC']].plot()\n",
        "plt.title('Index Volatiltiy graph')\n",
        "plt.xlabel('Date')\n",
        "plt.show()"
      ]
    },
    {
      "cell_type": "code",
      "execution_count": null,
      "id": "Nj2vIgMS5I7C",
      "metadata": {
        "colab": {
          "base_uri": "https://localhost:8080/",
          "height": 143
        },
        "id": "Nj2vIgMS5I7C",
        "outputId": "6ef57aed-1c4e-4924-c482-0958bb778f3a"
      },
      "outputs": [
        {
          "data": {
            "text/html": [
              "\n",
              "  <div id=\"df-3fec5214-4f70-46c5-b769-a35e58e413fd\">\n",
              "    <div class=\"colab-df-container\">\n",
              "      <div>\n",
              "<style scoped>\n",
              "    .dataframe tbody tr th:only-of-type {\n",
              "        vertical-align: middle;\n",
              "    }\n",
              "\n",
              "    .dataframe tbody tr th {\n",
              "        vertical-align: top;\n",
              "    }\n",
              "\n",
              "    .dataframe thead th {\n",
              "        text-align: right;\n",
              "    }\n",
              "</style>\n",
              "<table border=\"1\" class=\"dataframe\">\n",
              "  <thead>\n",
              "    <tr style=\"text-align: right;\">\n",
              "      <th></th>\n",
              "      <th>AMGN</th>\n",
              "      <th>GILD</th>\n",
              "      <th>IXIC</th>\n",
              "    </tr>\n",
              "  </thead>\n",
              "  <tbody>\n",
              "    <tr>\n",
              "      <th>AMGN</th>\n",
              "      <td>1.000000</td>\n",
              "      <td>0.565544</td>\n",
              "      <td>0.105447</td>\n",
              "    </tr>\n",
              "    <tr>\n",
              "      <th>GILD</th>\n",
              "      <td>0.565544</td>\n",
              "      <td>1.000000</td>\n",
              "      <td>0.590324</td>\n",
              "    </tr>\n",
              "    <tr>\n",
              "      <th>IXIC</th>\n",
              "      <td>0.105447</td>\n",
              "      <td>0.590324</td>\n",
              "      <td>1.000000</td>\n",
              "    </tr>\n",
              "  </tbody>\n",
              "</table>\n",
              "</div>\n",
              "      <button class=\"colab-df-convert\" onclick=\"convertToInteractive('df-3fec5214-4f70-46c5-b769-a35e58e413fd')\"\n",
              "              title=\"Convert this dataframe to an interactive table.\"\n",
              "              style=\"display:none;\">\n",
              "        \n",
              "  <svg xmlns=\"http://www.w3.org/2000/svg\" height=\"24px\"viewBox=\"0 0 24 24\"\n",
              "       width=\"24px\">\n",
              "    <path d=\"M0 0h24v24H0V0z\" fill=\"none\"/>\n",
              "    <path d=\"M18.56 5.44l.94 2.06.94-2.06 2.06-.94-2.06-.94-.94-2.06-.94 2.06-2.06.94zm-11 1L8.5 8.5l.94-2.06 2.06-.94-2.06-.94L8.5 2.5l-.94 2.06-2.06.94zm10 10l.94 2.06.94-2.06 2.06-.94-2.06-.94-.94-2.06-.94 2.06-2.06.94z\"/><path d=\"M17.41 7.96l-1.37-1.37c-.4-.4-.92-.59-1.43-.59-.52 0-1.04.2-1.43.59L10.3 9.45l-7.72 7.72c-.78.78-.78 2.05 0 2.83L4 21.41c.39.39.9.59 1.41.59.51 0 1.02-.2 1.41-.59l7.78-7.78 2.81-2.81c.8-.78.8-2.07 0-2.86zM5.41 20L4 18.59l7.72-7.72 1.47 1.35L5.41 20z\"/>\n",
              "  </svg>\n",
              "      </button>\n",
              "      \n",
              "  <style>\n",
              "    .colab-df-container {\n",
              "      display:flex;\n",
              "      flex-wrap:wrap;\n",
              "      gap: 12px;\n",
              "    }\n",
              "\n",
              "    .colab-df-convert {\n",
              "      background-color: #E8F0FE;\n",
              "      border: none;\n",
              "      border-radius: 50%;\n",
              "      cursor: pointer;\n",
              "      display: none;\n",
              "      fill: #1967D2;\n",
              "      height: 32px;\n",
              "      padding: 0 0 0 0;\n",
              "      width: 32px;\n",
              "    }\n",
              "\n",
              "    .colab-df-convert:hover {\n",
              "      background-color: #E2EBFA;\n",
              "      box-shadow: 0px 1px 2px rgba(60, 64, 67, 0.3), 0px 1px 3px 1px rgba(60, 64, 67, 0.15);\n",
              "      fill: #174EA6;\n",
              "    }\n",
              "\n",
              "    [theme=dark] .colab-df-convert {\n",
              "      background-color: #3B4455;\n",
              "      fill: #D2E3FC;\n",
              "    }\n",
              "\n",
              "    [theme=dark] .colab-df-convert:hover {\n",
              "      background-color: #434B5C;\n",
              "      box-shadow: 0px 1px 3px 1px rgba(0, 0, 0, 0.15);\n",
              "      filter: drop-shadow(0px 1px 2px rgba(0, 0, 0, 0.3));\n",
              "      fill: #FFFFFF;\n",
              "    }\n",
              "  </style>\n",
              "\n",
              "      <script>\n",
              "        const buttonEl =\n",
              "          document.querySelector('#df-3fec5214-4f70-46c5-b769-a35e58e413fd button.colab-df-convert');\n",
              "        buttonEl.style.display =\n",
              "          google.colab.kernel.accessAllowed ? 'block' : 'none';\n",
              "\n",
              "        async function convertToInteractive(key) {\n",
              "          const element = document.querySelector('#df-3fec5214-4f70-46c5-b769-a35e58e413fd');\n",
              "          const dataTable =\n",
              "            await google.colab.kernel.invokeFunction('convertToInteractive',\n",
              "                                                     [key], {});\n",
              "          if (!dataTable) return;\n",
              "\n",
              "          const docLinkHtml = 'Like what you see? Visit the ' +\n",
              "            '<a target=\"_blank\" href=https://colab.research.google.com/notebooks/data_table.ipynb>data table notebook</a>'\n",
              "            + ' to learn more about interactive tables.';\n",
              "          element.innerHTML = '';\n",
              "          dataTable['output_type'] = 'display_data';\n",
              "          await google.colab.output.renderOutput(dataTable, element);\n",
              "          const docLink = document.createElement('div');\n",
              "          docLink.innerHTML = docLinkHtml;\n",
              "          element.appendChild(docLink);\n",
              "        }\n",
              "      </script>\n",
              "    </div>\n",
              "  </div>\n",
              "  "
            ],
            "text/plain": [
              "          AMGN      GILD      IXIC\n",
              "AMGN  1.000000  0.565544  0.105447\n",
              "GILD  0.565544  1.000000  0.590324\n",
              "IXIC  0.105447  0.590324  1.000000"
            ]
          },
          "execution_count": 27,
          "metadata": {},
          "output_type": "execute_result"
        }
      ],
      "source": [
        "stock_price.corr()"
      ]
    },
    {
      "cell_type": "markdown",
      "id": "-nOG520EMzII",
      "metadata": {
        "id": "-nOG520EMzII"
      },
      "source": [
        "##Interpretation of Correlation\n",
        "Because multi-colinearity may result from high correlation in the context of linear regression, correlation is computed.\n",
        "This deceives statisticians about the relevance of the findings.\n",
        "The univariate nature of this study allows us to rule out the strong relationships. "
      ]
    },
    {
      "cell_type": "code",
      "execution_count": null,
      "id": "t0YfWqD1A3jw",
      "metadata": {
        "id": "t0YfWqD1A3jw"
      },
      "outputs": [],
      "source": [
        "returns = stock_price.pct_change()\n",
        "returns.dropna(inplace=True)"
      ]
    },
    {
      "cell_type": "markdown",
      "id": "DPDo73fTM8kB",
      "metadata": {
        "id": "DPDo73fTM8kB"
      },
      "source": [
        "We are removing 1st value as it is Nan and can cause problem in calculating further % change"
      ]
    },
    {
      "cell_type": "code",
      "execution_count": 81,
      "id": "NEUk52U4BFzW",
      "metadata": {
        "id": "NEUk52U4BFzW"
      },
      "outputs": [],
      "source": [
        "risk_free = risk_free['2021-01-01':'2021-04-01']\n",
        "risk_free = risk_free/90"
      ]
    },
    {
      "cell_type": "code",
      "execution_count": 82,
      "id": "b6OwQNCQLcst",
      "metadata": {
        "colab": {
          "base_uri": "https://localhost:8080/"
        },
        "id": "b6OwQNCQLcst",
        "outputId": "8914017b-3600-455c-84f4-f49fceed98cf"
      },
      "outputs": [
        {
          "data": {
            "text/plain": [
              "count    62.000000\n",
              "mean      0.000006\n",
              "std       0.000003\n",
              "min       0.000001\n",
              "25%       0.000004\n",
              "50%       0.000005\n",
              "75%       0.000010\n",
              "max       0.000011\n",
              "dtype: float64"
            ]
          },
          "execution_count": 82,
          "metadata": {},
          "output_type": "execute_result"
        }
      ],
      "source": [
        "risk_free.describe()"
      ]
    },
    {
      "cell_type": "markdown",
      "id": "veVmi4tHLgss",
      "metadata": {
        "id": "veVmi4tHLgss"
      },
      "source": [
        "###Interpretation of risk free rate:\n",
        "\n",
        "As we can see that std deviation of these rates are not 0, which means that they are not risk free but definitely they are less volatile and stable rate and investments"
      ]
    },
    {
      "cell_type": "code",
      "execution_count": null,
      "id": "y4soXJTbBSPj",
      "metadata": {
        "id": "y4soXJTbBSPj"
      },
      "outputs": [],
      "source": [
        "risk_free.dropna(inplace=True)"
      ]
    },
    {
      "cell_type": "code",
      "execution_count": null,
      "id": "CppjHrUVBX5K",
      "metadata": {
        "colab": {
          "base_uri": "https://localhost:8080/",
          "height": 355
        },
        "id": "CppjHrUVBX5K",
        "outputId": "2b932dfa-f7fb-4a4e-a569-7b3ee094e469"
      },
      "outputs": [
        {
          "data": {
            "image/png": "[encoded data removed]",
            "text/plain": [
              "<Figure size 432x288 with 1 Axes>"
            ]
          },
          "metadata": {
            "needs_background": "light"
          },
          "output_type": "display_data"
        }
      ],
      "source": [
        "plt.plot(risk_free)\n",
        "plt.title('Risk Free Rate')\n",
        "plt.xlabel('Date')\n",
        "plt.xticks(rotation=90)\n",
        "plt.show()"
      ]
    },
    {
      "cell_type": "code",
      "execution_count": null,
      "id": "-9IvoPjvBbxX",
      "metadata": {
        "colab": {
          "base_uri": "https://localhost:8080/"
        },
        "id": "-9IvoPjvBbxX",
        "outputId": "310f067a-43c6-43df-94c3-85823b536cab"
      },
      "outputs": [
        {
          "data": {
            "text/plain": [
              "Index(['AMGN', 'GILD', 'IXIC'], dtype='object')"
            ]
          },
          "execution_count": 33,
          "metadata": {},
          "output_type": "execute_result"
        }
      ],
      "source": [
        "returns.columns"
      ]
    },
    {
      "cell_type": "code",
      "execution_count": null,
      "id": "v5IM4EqEBtm8",
      "metadata": {
        "id": "v5IM4EqEBtm8"
      },
      "outputs": [],
      "source": [
        "for i in returns.columns:\n",
        "    returns[f'excess_return_{i}'] = returns[i] - risk_free"
      ]
    },
    {
      "cell_type": "code",
      "execution_count": null,
      "id": "TgxV4BYFByxB",
      "metadata": {
        "colab": {
          "base_uri": "https://localhost:8080/",
          "height": 302
        },
        "id": "TgxV4BYFByxB",
        "outputId": "7a13928a-87ab-4ac9-b140-b979b52c031d"
      },
      "outputs": [
        {
          "data": {
            "text/html": [
              "\n",
              "  <div id=\"df-5fc830da-6432-4abf-a525-bda9c5adf19b\">\n",
              "    <div class=\"colab-df-container\">\n",
              "      <div>\n",
              "<style scoped>\n",
              "    .dataframe tbody tr th:only-of-type {\n",
              "        vertical-align: middle;\n",
              "    }\n",
              "\n",
              "    .dataframe tbody tr th {\n",
              "        vertical-align: top;\n",
              "    }\n",
              "\n",
              "    .dataframe thead th {\n",
              "        text-align: right;\n",
              "    }\n",
              "</style>\n",
              "<table border=\"1\" class=\"dataframe\">\n",
              "  <thead>\n",
              "    <tr style=\"text-align: right;\">\n",
              "      <th></th>\n",
              "      <th>AMGN</th>\n",
              "      <th>GILD</th>\n",
              "      <th>IXIC</th>\n",
              "      <th>excess_return_AMGN</th>\n",
              "      <th>excess_return_GILD</th>\n",
              "      <th>excess_return_IXIC</th>\n",
              "    </tr>\n",
              "    <tr>\n",
              "      <th>Date</th>\n",
              "      <th></th>\n",
              "      <th></th>\n",
              "      <th></th>\n",
              "      <th></th>\n",
              "      <th></th>\n",
              "      <th></th>\n",
              "    </tr>\n",
              "  </thead>\n",
              "  <tbody>\n",
              "    <tr>\n",
              "      <th>2021-01-05</th>\n",
              "      <td>0.004853</td>\n",
              "      <td>-0.001830</td>\n",
              "      <td>0.009490</td>\n",
              "      <td>0.003853</td>\n",
              "      <td>-0.002830</td>\n",
              "      <td>0.008490</td>\n",
              "    </tr>\n",
              "    <tr>\n",
              "      <th>2021-01-06</th>\n",
              "      <td>0.024104</td>\n",
              "      <td>0.032500</td>\n",
              "      <td>-0.006098</td>\n",
              "      <td>0.023104</td>\n",
              "      <td>0.031500</td>\n",
              "      <td>-0.007098</td>\n",
              "    </tr>\n",
              "    <tr>\n",
              "      <th>2021-01-07</th>\n",
              "      <td>0.003301</td>\n",
              "      <td>0.009201</td>\n",
              "      <td>0.025641</td>\n",
              "      <td>0.002301</td>\n",
              "      <td>0.008201</td>\n",
              "      <td>0.024641</td>\n",
              "    </tr>\n",
              "    <tr>\n",
              "      <th>2021-01-08</th>\n",
              "      <td>0.019101</td>\n",
              "      <td>0.008317</td>\n",
              "      <td>0.010293</td>\n",
              "      <td>0.018212</td>\n",
              "      <td>0.007428</td>\n",
              "      <td>0.009404</td>\n",
              "    </tr>\n",
              "    <tr>\n",
              "      <th>2021-01-11</th>\n",
              "      <td>-0.003858</td>\n",
              "      <td>-0.008407</td>\n",
              "      <td>-0.012540</td>\n",
              "      <td>-0.004746</td>\n",
              "      <td>-0.009296</td>\n",
              "      <td>-0.013429</td>\n",
              "    </tr>\n",
              "  </tbody>\n",
              "</table>\n",
              "</div>\n",
              "      <button class=\"colab-df-convert\" onclick=\"convertToInteractive('df-5fc830da-6432-4abf-a525-bda9c5adf19b')\"\n",
              "              title=\"Convert this dataframe to an interactive table.\"\n",
              "              style=\"display:none;\">\n",
              "        \n",
              "  <svg xmlns=\"http://www.w3.org/2000/svg\" height=\"24px\"viewBox=\"0 0 24 24\"\n",
              "       width=\"24px\">\n",
              "    <path d=\"M0 0h24v24H0V0z\" fill=\"none\"/>\n",
              "    <path d=\"M18.56 5.44l.94 2.06.94-2.06 2.06-.94-2.06-.94-.94-2.06-.94 2.06-2.06.94zm-11 1L8.5 8.5l.94-2.06 2.06-.94-2.06-.94L8.5 2.5l-.94 2.06-2.06.94zm10 10l.94 2.06.94-2.06 2.06-.94-2.06-.94-.94-2.06-.94 2.06-2.06.94z\"/><path d=\"M17.41 7.96l-1.37-1.37c-.4-.4-.92-.59-1.43-.59-.52 0-1.04.2-1.43.59L10.3 9.45l-7.72 7.72c-.78.78-.78 2.05 0 2.83L4 21.41c.39.39.9.59 1.41.59.51 0 1.02-.2 1.41-.59l7.78-7.78 2.81-2.81c.8-.78.8-2.07 0-2.86zM5.41 20L4 18.59l7.72-7.72 1.47 1.35L5.41 20z\"/>\n",
              "  </svg>\n",
              "      </button>\n",
              "      \n",
              "  <style>\n",
              "    .colab-df-container {\n",
              "      display:flex;\n",
              "      flex-wrap:wrap;\n",
              "      gap: 12px;\n",
              "    }\n",
              "\n",
              "    .colab-df-convert {\n",
              "      background-color: #E8F0FE;\n",
              "      border: none;\n",
              "      border-radius: 50%;\n",
              "      cursor: pointer;\n",
              "      display: none;\n",
              "      fill: #1967D2;\n",
              "      height: 32px;\n",
              "      padding: 0 0 0 0;\n",
              "      width: 32px;\n",
              "    }\n",
              "\n",
              "    .colab-df-convert:hover {\n",
              "      background-color: #E2EBFA;\n",
              "      box-shadow: 0px 1px 2px rgba(60, 64, 67, 0.3), 0px 1px 3px 1px rgba(60, 64, 67, 0.15);\n",
              "      fill: #174EA6;\n",
              "    }\n",
              "\n",
              "    [theme=dark] .colab-df-convert {\n",
              "      background-color: #3B4455;\n",
              "      fill: #D2E3FC;\n",
              "    }\n",
              "\n",
              "    [theme=dark] .colab-df-convert:hover {\n",
              "      background-color: #434B5C;\n",
              "      box-shadow: 0px 1px 3px 1px rgba(0, 0, 0, 0.15);\n",
              "      filter: drop-shadow(0px 1px 2px rgba(0, 0, 0, 0.3));\n",
              "      fill: #FFFFFF;\n",
              "    }\n",
              "  </style>\n",
              "\n",
              "      <script>\n",
              "        const buttonEl =\n",
              "          document.querySelector('#df-5fc830da-6432-4abf-a525-bda9c5adf19b button.colab-df-convert');\n",
              "        buttonEl.style.display =\n",
              "          google.colab.kernel.accessAllowed ? 'block' : 'none';\n",
              "\n",
              "        async function convertToInteractive(key) {\n",
              "          const element = document.querySelector('#df-5fc830da-6432-4abf-a525-bda9c5adf19b');\n",
              "          const dataTable =\n",
              "            await google.colab.kernel.invokeFunction('convertToInteractive',\n",
              "                                                     [key], {});\n",
              "          if (!dataTable) return;\n",
              "\n",
              "          const docLinkHtml = 'Like what you see? Visit the ' +\n",
              "            '<a target=\"_blank\" href=https://colab.research.google.com/notebooks/data_table.ipynb>data table notebook</a>'\n",
              "            + ' to learn more about interactive tables.';\n",
              "          element.innerHTML = '';\n",
              "          dataTable['output_type'] = 'display_data';\n",
              "          await google.colab.output.renderOutput(dataTable, element);\n",
              "          const docLink = document.createElement('div');\n",
              "          docLink.innerHTML = docLinkHtml;\n",
              "          element.appendChild(docLink);\n",
              "        }\n",
              "      </script>\n",
              "    </div>\n",
              "  </div>\n",
              "  "
            ],
            "text/plain": [
              "                AMGN      GILD      IXIC  excess_return_AMGN  \\\n",
              "Date                                                           \n",
              "2021-01-05  0.004853 -0.001830  0.009490            0.003853   \n",
              "2021-01-06  0.024104  0.032500 -0.006098            0.023104   \n",
              "2021-01-07  0.003301  0.009201  0.025641            0.002301   \n",
              "2021-01-08  0.019101  0.008317  0.010293            0.018212   \n",
              "2021-01-11 -0.003858 -0.008407 -0.012540           -0.004746   \n",
              "\n",
              "            excess_return_GILD  excess_return_IXIC  \n",
              "Date                                                \n",
              "2021-01-05           -0.002830            0.008490  \n",
              "2021-01-06            0.031500           -0.007098  \n",
              "2021-01-07            0.008201            0.024641  \n",
              "2021-01-08            0.007428            0.009404  \n",
              "2021-01-11           -0.009296           -0.013429  "
            ]
          },
          "execution_count": 35,
          "metadata": {},
          "output_type": "execute_result"
        }
      ],
      "source": [
        "returns.head()"
      ]
    },
    {
      "cell_type": "markdown",
      "id": "7ASIXVYkL2IU",
      "metadata": {
        "id": "7ASIXVYkL2IU"
      },
      "source": [
        "###Interpretation:\n",
        "\n",
        "We know that if the excess returns are +ve then only its beneficial to go ahead and make an investment and if its -ve then its better to invest in government and much stable stocks"
      ]
    },
    {
      "cell_type": "markdown",
      "id": "sX5tUFbuCEp1",
      "metadata": {
        "id": "sX5tUFbuCEp1"
      },
      "source": [
        "##CAPM Analysis"
      ]
    },
    {
      "cell_type": "markdown",
      "id": "nadD4BJeNMP7",
      "metadata": {
        "id": "nadD4BJeNMP7"
      },
      "source": [
        "###3. Run Capital Asset Pricing Model and interpret the results. (25 pts)"
      ]
    },
    {
      "cell_type": "code",
      "execution_count": null,
      "id": "Qkh-2MylB0pS",
      "metadata": {
        "id": "Qkh-2MylB0pS"
      },
      "outputs": [],
      "source": [
        "import statsmodels.api as sm"
      ]
    },
    {
      "cell_type": "code",
      "execution_count": null,
      "id": "NxyAaUXeCKHr",
      "metadata": {
        "id": "NxyAaUXeCKHr"
      },
      "outputs": [],
      "source": [
        "y_amgn = returns['excess_return_AMGN']\n",
        "X = returns ['excess_return_IXIC']"
      ]
    },
    {
      "cell_type": "code",
      "execution_count": null,
      "id": "rPhQwROFCfOM",
      "metadata": {
        "id": "rPhQwROFCfOM"
      },
      "outputs": [],
      "source": [
        "X = sm.add_constant(X, prepend=False)\n",
        "capm_amgn = sm.OLS(y_amgn, X)\n",
        "capm_result_amgn = capm_amgn.fit()"
      ]
    },
    {
      "cell_type": "code",
      "execution_count": null,
      "id": "Rp5PmKG2C0Hv",
      "metadata": {
        "colab": {
          "base_uri": "https://localhost:8080/",
          "height": 452
        },
        "id": "Rp5PmKG2C0Hv",
        "outputId": "cd81ceab-2fdc-4b4d-df7f-eec612ef06b9"
      },
      "outputs": [
        {
          "data": {
            "text/html": [
              "<table class=\"simpletable\">\n",
              "<caption>OLS Regression Results</caption>\n",
              "<tr>\n",
              "  <th>Dep. Variable:</th>    <td>excess_return_AMGN</td> <th>  R-squared:         </th> <td>   0.153</td>\n",
              "</tr>\n",
              "<tr>\n",
              "  <th>Model:</th>                    <td>OLS</td>        <th>  Adj. R-squared:    </th> <td>   0.138</td>\n",
              "</tr>\n",
              "<tr>\n",
              "  <th>Method:</th>              <td>Least Squares</td>   <th>  F-statistic:       </th> <td>   10.45</td>\n",
              "</tr>\n",
              "<tr>\n",
              "  <th>Date:</th>              <td>Mon, 03 Oct 2022</td>  <th>  Prob (F-statistic):</th>  <td>0.00202</td>\n",
              "</tr>\n",
              "<tr>\n",
              "  <th>Time:</th>                  <td>18:11:28</td>      <th>  Log-Likelihood:    </th> <td>  182.50</td>\n",
              "</tr>\n",
              "<tr>\n",
              "  <th>No. Observations:</th>       <td>    60</td>       <th>  AIC:               </th> <td>  -361.0</td>\n",
              "</tr>\n",
              "<tr>\n",
              "  <th>Df Residuals:</th>           <td>    58</td>       <th>  BIC:               </th> <td>  -356.8</td>\n",
              "</tr>\n",
              "<tr>\n",
              "  <th>Df Model:</th>               <td>     1</td>       <th>                     </th>     <td> </td>   \n",
              "</tr>\n",
              "<tr>\n",
              "  <th>Covariance Type:</th>       <td>nonrobust</td>     <th>                     </th>     <td> </td>   \n",
              "</tr>\n",
              "</table>\n",
              "<table class=\"simpletable\">\n",
              "<tr>\n",
              "           <td></td>             <th>coef</th>     <th>std err</th>      <th>t</th>      <th>P>|t|</th>  <th>[0.025</th>    <th>0.975]</th>  \n",
              "</tr>\n",
              "<tr>\n",
              "  <th>excess_return_IXIC</th> <td>    0.3263</td> <td>    0.101</td> <td>    3.233</td> <td> 0.002</td> <td>    0.124</td> <td>    0.528</td>\n",
              "</tr>\n",
              "<tr>\n",
              "  <th>const</th>              <td>    0.0010</td> <td>    0.002</td> <td>    0.652</td> <td> 0.517</td> <td>   -0.002</td> <td>    0.004</td>\n",
              "</tr>\n",
              "</table>\n",
              "<table class=\"simpletable\">\n",
              "<tr>\n",
              "  <th>Omnibus:</th>       <td> 1.815</td> <th>  Durbin-Watson:     </th> <td>   1.674</td>\n",
              "</tr>\n",
              "<tr>\n",
              "  <th>Prob(Omnibus):</th> <td> 0.403</td> <th>  Jarque-Bera (JB):  </th> <td>   1.242</td>\n",
              "</tr>\n",
              "<tr>\n",
              "  <th>Skew:</th>          <td> 0.005</td> <th>  Prob(JB):          </th> <td>   0.537</td>\n",
              "</tr>\n",
              "<tr>\n",
              "  <th>Kurtosis:</th>      <td> 2.295</td> <th>  Cond. No.          </th> <td>    66.5</td>\n",
              "</tr>\n",
              "</table><br/><br/>Notes:<br/>[1] Standard Errors assume that the covariance matrix of the errors is correctly specified."
            ],
            "text/plain": [
              "<class 'statsmodels.iolib.summary.Summary'>\n",
              "\"\"\"\n",
              "                            OLS Regression Results                            \n",
              "==============================================================================\n",
              "Dep. Variable:     excess_return_AMGN   R-squared:                       0.153\n",
              "Model:                            OLS   Adj. R-squared:                  0.138\n",
              "Method:                 Least Squares   F-statistic:                     10.45\n",
              "Date:                Mon, 03 Oct 2022   Prob (F-statistic):            0.00202\n",
              "Time:                        18:11:28   Log-Likelihood:                 182.50\n",
              "No. Observations:                  60   AIC:                            -361.0\n",
              "Df Residuals:                      58   BIC:                            -356.8\n",
              "Df Model:                           1                                         \n",
              "Covariance Type:            nonrobust                                         \n",
              "======================================================================================\n",
              "                         coef    std err          t      P>|t|      [0.025      0.975]\n",
              "--------------------------------------------------------------------------------------\n",
              "excess_return_IXIC     0.3263      0.101      3.233      0.002       0.124       0.528\n",
              "const                  0.0010      0.002      0.652      0.517      -0.002       0.004\n",
              "==============================================================================\n",
              "Omnibus:                        1.815   Durbin-Watson:                   1.674\n",
              "Prob(Omnibus):                  0.403   Jarque-Bera (JB):                1.242\n",
              "Skew:                           0.005   Prob(JB):                        0.537\n",
              "Kurtosis:                       2.295   Cond. No.                         66.5\n",
              "==============================================================================\n",
              "\n",
              "Notes:\n",
              "[1] Standard Errors assume that the covariance matrix of the errors is correctly specified.\n",
              "\"\"\""
            ]
          },
          "execution_count": 40,
          "metadata": {},
          "output_type": "execute_result"
        }
      ],
      "source": [
        "capm_result_amgn.summary()"
      ]
    },
    {
      "cell_type": "code",
      "execution_count": null,
      "id": "Nc1J1_e8C7dt",
      "metadata": {
        "id": "Nc1J1_e8C7dt"
      },
      "outputs": [],
      "source": [
        "y_gild= returns['excess_return_GILD']\n",
        "X = returns['excess_return_IXIC']"
      ]
    },
    {
      "cell_type": "code",
      "execution_count": null,
      "id": "8gVuj824DHr0",
      "metadata": {
        "id": "8gVuj824DHr0"
      },
      "outputs": [],
      "source": [
        "X = sm.add_constant(X, prepend=False)\n",
        "capm_gild = sm.OLS(y_gild, X)\n",
        "capm_result_gild = capm_gild.fit()"
      ]
    },
    {
      "cell_type": "code",
      "execution_count": null,
      "id": "ICdoI_qCDR73",
      "metadata": {
        "colab": {
          "base_uri": "https://localhost:8080/",
          "height": 452
        },
        "id": "ICdoI_qCDR73",
        "outputId": "746368be-4c05-4c08-f372-997e2b269cf1"
      },
      "outputs": [
        {
          "data": {
            "text/html": [
              "<table class=\"simpletable\">\n",
              "<caption>OLS Regression Results</caption>\n",
              "<tr>\n",
              "  <th>Dep. Variable:</th>    <td>excess_return_GILD</td> <th>  R-squared:         </th> <td>   0.045</td>\n",
              "</tr>\n",
              "<tr>\n",
              "  <th>Model:</th>                    <td>OLS</td>        <th>  Adj. R-squared:    </th> <td>   0.029</td>\n",
              "</tr>\n",
              "<tr>\n",
              "  <th>Method:</th>              <td>Least Squares</td>   <th>  F-statistic:       </th> <td>   2.735</td>\n",
              "</tr>\n",
              "<tr>\n",
              "  <th>Date:</th>              <td>Mon, 03 Oct 2022</td>  <th>  Prob (F-statistic):</th>  <td> 0.104</td> \n",
              "</tr>\n",
              "<tr>\n",
              "  <th>Time:</th>                  <td>18:13:54</td>      <th>  Log-Likelihood:    </th> <td>  164.21</td>\n",
              "</tr>\n",
              "<tr>\n",
              "  <th>No. Observations:</th>       <td>    60</td>       <th>  AIC:               </th> <td>  -324.4</td>\n",
              "</tr>\n",
              "<tr>\n",
              "  <th>Df Residuals:</th>           <td>    58</td>       <th>  BIC:               </th> <td>  -320.2</td>\n",
              "</tr>\n",
              "<tr>\n",
              "  <th>Df Model:</th>               <td>     1</td>       <th>                     </th>     <td> </td>   \n",
              "</tr>\n",
              "<tr>\n",
              "  <th>Covariance Type:</th>       <td>nonrobust</td>     <th>                     </th>     <td> </td>   \n",
              "</tr>\n",
              "</table>\n",
              "<table class=\"simpletable\">\n",
              "<tr>\n",
              "           <td></td>             <th>coef</th>     <th>std err</th>      <th>t</th>      <th>P>|t|</th>  <th>[0.025</th>    <th>0.975]</th>  \n",
              "</tr>\n",
              "<tr>\n",
              "  <th>excess_return_IXIC</th> <td>    0.2264</td> <td>    0.137</td> <td>    1.654</td> <td> 0.104</td> <td>   -0.048</td> <td>    0.500</td>\n",
              "</tr>\n",
              "<tr>\n",
              "  <th>const</th>              <td>    0.0007</td> <td>    0.002</td> <td>    0.349</td> <td> 0.729</td> <td>   -0.003</td> <td>    0.005</td>\n",
              "</tr>\n",
              "</table>\n",
              "<table class=\"simpletable\">\n",
              "<tr>\n",
              "  <th>Omnibus:</th>       <td> 9.550</td> <th>  Durbin-Watson:     </th> <td>   1.707</td>\n",
              "</tr>\n",
              "<tr>\n",
              "  <th>Prob(Omnibus):</th> <td> 0.008</td> <th>  Jarque-Bera (JB):  </th> <td>   9.467</td>\n",
              "</tr>\n",
              "<tr>\n",
              "  <th>Skew:</th>          <td> 0.772</td> <th>  Prob(JB):          </th> <td> 0.00880</td>\n",
              "</tr>\n",
              "<tr>\n",
              "  <th>Kurtosis:</th>      <td> 4.185</td> <th>  Cond. No.          </th> <td>    66.5</td>\n",
              "</tr>\n",
              "</table><br/><br/>Notes:<br/>[1] Standard Errors assume that the covariance matrix of the errors is correctly specified."
            ],
            "text/plain": [
              "<class 'statsmodels.iolib.summary.Summary'>\n",
              "\"\"\"\n",
              "                            OLS Regression Results                            \n",
              "==============================================================================\n",
              "Dep. Variable:     excess_return_GILD   R-squared:                       0.045\n",
              "Model:                            OLS   Adj. R-squared:                  0.029\n",
              "Method:                 Least Squares   F-statistic:                     2.735\n",
              "Date:                Mon, 03 Oct 2022   Prob (F-statistic):              0.104\n",
              "Time:                        18:13:54   Log-Likelihood:                 164.21\n",
              "No. Observations:                  60   AIC:                            -324.4\n",
              "Df Residuals:                      58   BIC:                            -320.2\n",
              "Df Model:                           1                                         \n",
              "Covariance Type:            nonrobust                                         \n",
              "======================================================================================\n",
              "                         coef    std err          t      P>|t|      [0.025      0.975]\n",
              "--------------------------------------------------------------------------------------\n",
              "excess_return_IXIC     0.2264      0.137      1.654      0.104      -0.048       0.500\n",
              "const                  0.0007      0.002      0.349      0.729      -0.003       0.005\n",
              "==============================================================================\n",
              "Omnibus:                        9.550   Durbin-Watson:                   1.707\n",
              "Prob(Omnibus):                  0.008   Jarque-Bera (JB):                9.467\n",
              "Skew:                           0.772   Prob(JB):                      0.00880\n",
              "Kurtosis:                       4.185   Cond. No.                         66.5\n",
              "==============================================================================\n",
              "\n",
              "Notes:\n",
              "[1] Standard Errors assume that the covariance matrix of the errors is correctly specified.\n",
              "\"\"\""
            ]
          },
          "execution_count": 46,
          "metadata": {},
          "output_type": "execute_result"
        }
      ],
      "source": [
        "capm_result_gild.summary()"
      ]
    },
    {
      "cell_type": "markdown",
      "id": "ZGHeBsrgNhlk",
      "metadata": {
        "id": "ZGHeBsrgNhlk"
      },
      "source": [
        "##Interpretation\n",
        "R_Squared value tells us the goodness of the model\n",
        "We can see that the R-squared value is 0.045 which means that the stock \"GILD\" relies 4.5% on the NASDAQ stock exchange.\n",
        "\n",
        "While \"AMGEN\" stock is having a R-squared value of 0.153 which means that this stock is relies on NASDAQ just by 15.3%.\n",
        "\n",
        "For AMGEN beta value is 0.326\n",
        "For GILD beta value is 0.2263 \n",
        "\n",
        "This means that both the stocks are not risky and if compared GILD is less risky as compared to AMGEN\n"
      ]
    },
    {
      "cell_type": "markdown",
      "id": "v9eYR9icD6n2",
      "metadata": {
        "id": "v9eYR9icD6n2"
      },
      "source": [
        "##Compare the Performance"
      ]
    },
    {
      "cell_type": "markdown",
      "id": "fpEfy1XVP6nO",
      "metadata": {
        "id": "fpEfy1XVP6nO"
      },
      "source": [
        "##4. Calculate Sharpe and Treynor measures. Compare and interpret the results and conclude. (25 pts)\n"
      ]
    },
    {
      "cell_type": "code",
      "execution_count": null,
      "id": "_ntkJd-hDctb",
      "metadata": {
        "colab": {
          "base_uri": "https://localhost:8080/"
        },
        "id": "_ntkJd-hDctb",
        "outputId": "56347da5-38ff-4f86-e4cd-6b7fbb32c69b"
      },
      "outputs": [
        {
          "data": {
            "text/plain": [
              "[0.32626978407567814, 0.22640634420629588]"
            ]
          },
          "execution_count": 47,
          "metadata": {},
          "output_type": "execute_result"
        }
      ],
      "source": [
        "betas = [capm_result_amgn.params[0],\n",
        "         capm_result_gild.params[0]]\n",
        "betas"
      ]
    },
    {
      "cell_type": "code",
      "execution_count": null,
      "id": "fRU7GdeKEJpQ",
      "metadata": {
        "id": "fRU7GdeKEJpQ"
      },
      "outputs": [],
      "source": [
        "def SML(rf, ret, beta):\n",
        "    asset_ret = [rf + (rm - rf) * i for i in betas]\n",
        "    plt.plot(betas, asset_ret)\n",
        "    plt.xlabel('Asset Beta')\n",
        "    plt.ylabel('Asset Return')\n",
        "    plt.title('SML')\n",
        "    plt.plot(1, ret, 'ro')"
      ]
    },
    {
      "cell_type": "code",
      "execution_count": null,
      "id": "u8hZ217oENdr",
      "metadata": {
        "id": "u8hZ217oENdr"
      },
      "outputs": [],
      "source": [
        "rf = risk_free.mean()\n",
        "rm = returns['IXIC'].mean()"
      ]
    },
    {
      "cell_type": "code",
      "execution_count": null,
      "id": "oe8MvUoiEQlX",
      "metadata": {
        "colab": {
          "base_uri": "https://localhost:8080/",
          "height": 301
        },
        "id": "oe8MvUoiEQlX",
        "outputId": "27dc5306-648b-4ded-c411-d62cd25be4f7"
      },
      "outputs": [
        {
          "data": {
            "image/png": "[encoded data removed]",
            "text/plain": [
              "<Figure size 432x288 with 1 Axes>"
            ]
          },
          "metadata": {
            "needs_background": "light"
          },
          "output_type": "display_data"
        }
      ],
      "source": [
        "SML(rf, rm, betas)"
      ]
    },
    {
      "cell_type": "markdown",
      "id": "xbqECtQWQO2O",
      "metadata": {
        "id": "xbqECtQWQO2O"
      },
      "source": [
        "##Interpretation\n",
        "\n",
        "Using Security Market Line SML, we may establish whether the stock is fairly priced or not.\n",
        "Beta is an organized risk.\n",
        "If a stock falls below SML, it should be sold because this suggests that it is overpriced.\n",
        "However, since the company is currently inexpensive and is trading above SML, it can be bought.\n",
        "Assume that the stocks' expected returns are those shown in the cell below. "
      ]
    },
    {
      "cell_type": "markdown",
      "id": "o6yv1-9wEcps",
      "metadata": {
        "id": "o6yv1-9wEcps"
      },
      "source": [
        "\n",
        "\n",
        "*   Amgen return Expectation: 0.2%\n",
        "*   Gilead Sciences return Expectation: 0.3%\n",
        "\n"
      ]
    },
    {
      "cell_type": "code",
      "execution_count": null,
      "id": "C1pl3Pn0ES1y",
      "metadata": {
        "colab": {
          "base_uri": "https://localhost:8080/",
          "height": 112
        },
        "id": "C1pl3Pn0ES1y",
        "outputId": "f89c4d73-4b6a-486d-de02-44a6fd7bb967"
      },
      "outputs": [
        {
          "data": {
            "text/html": [
              "\n",
              "  <div id=\"df-7cbebd56-2d7a-42c7-a465-3129b3aff51c\">\n",
              "    <div class=\"colab-df-container\">\n",
              "      <div>\n",
              "<style scoped>\n",
              "    .dataframe tbody tr th:only-of-type {\n",
              "        vertical-align: middle;\n",
              "    }\n",
              "\n",
              "    .dataframe tbody tr th {\n",
              "        vertical-align: top;\n",
              "    }\n",
              "\n",
              "    .dataframe thead th {\n",
              "        text-align: right;\n",
              "    }\n",
              "</style>\n",
              "<table border=\"1\" class=\"dataframe\">\n",
              "  <thead>\n",
              "    <tr style=\"text-align: right;\">\n",
              "      <th></th>\n",
              "      <th>betas</th>\n",
              "      <th>ret_exp</th>\n",
              "    </tr>\n",
              "  </thead>\n",
              "  <tbody>\n",
              "    <tr>\n",
              "      <th>AMGN</th>\n",
              "      <td>0.326270</td>\n",
              "      <td>0.002</td>\n",
              "    </tr>\n",
              "    <tr>\n",
              "      <th>GILD</th>\n",
              "      <td>0.226406</td>\n",
              "      <td>0.003</td>\n",
              "    </tr>\n",
              "  </tbody>\n",
              "</table>\n",
              "</div>\n",
              "      <button class=\"colab-df-convert\" onclick=\"convertToInteractive('df-7cbebd56-2d7a-42c7-a465-3129b3aff51c')\"\n",
              "              title=\"Convert this dataframe to an interactive table.\"\n",
              "              style=\"display:none;\">\n",
              "        \n",
              "  <svg xmlns=\"http://www.w3.org/2000/svg\" height=\"24px\"viewBox=\"0 0 24 24\"\n",
              "       width=\"24px\">\n",
              "    <path d=\"M0 0h24v24H0V0z\" fill=\"none\"/>\n",
              "    <path d=\"M18.56 5.44l.94 2.06.94-2.06 2.06-.94-2.06-.94-.94-2.06-.94 2.06-2.06.94zm-11 1L8.5 8.5l.94-2.06 2.06-.94-2.06-.94L8.5 2.5l-.94 2.06-2.06.94zm10 10l.94 2.06.94-2.06 2.06-.94-2.06-.94-.94-2.06-.94 2.06-2.06.94z\"/><path d=\"M17.41 7.96l-1.37-1.37c-.4-.4-.92-.59-1.43-.59-.52 0-1.04.2-1.43.59L10.3 9.45l-7.72 7.72c-.78.78-.78 2.05 0 2.83L4 21.41c.39.39.9.59 1.41.59.51 0 1.02-.2 1.41-.59l7.78-7.78 2.81-2.81c.8-.78.8-2.07 0-2.86zM5.41 20L4 18.59l7.72-7.72 1.47 1.35L5.41 20z\"/>\n",
              "  </svg>\n",
              "      </button>\n",
              "      \n",
              "  <style>\n",
              "    .colab-df-container {\n",
              "      display:flex;\n",
              "      flex-wrap:wrap;\n",
              "      gap: 12px;\n",
              "    }\n",
              "\n",
              "    .colab-df-convert {\n",
              "      background-color: #E8F0FE;\n",
              "      border: none;\n",
              "      border-radius: 50%;\n",
              "      cursor: pointer;\n",
              "      display: none;\n",
              "      fill: #1967D2;\n",
              "      height: 32px;\n",
              "      padding: 0 0 0 0;\n",
              "      width: 32px;\n",
              "    }\n",
              "\n",
              "    .colab-df-convert:hover {\n",
              "      background-color: #E2EBFA;\n",
              "      box-shadow: 0px 1px 2px rgba(60, 64, 67, 0.3), 0px 1px 3px 1px rgba(60, 64, 67, 0.15);\n",
              "      fill: #174EA6;\n",
              "    }\n",
              "\n",
              "    [theme=dark] .colab-df-convert {\n",
              "      background-color: #3B4455;\n",
              "      fill: #D2E3FC;\n",
              "    }\n",
              "\n",
              "    [theme=dark] .colab-df-convert:hover {\n",
              "      background-color: #434B5C;\n",
              "      box-shadow: 0px 1px 3px 1px rgba(0, 0, 0, 0.15);\n",
              "      filter: drop-shadow(0px 1px 2px rgba(0, 0, 0, 0.3));\n",
              "      fill: #FFFFFF;\n",
              "    }\n",
              "  </style>\n",
              "\n",
              "      <script>\n",
              "        const buttonEl =\n",
              "          document.querySelector('#df-7cbebd56-2d7a-42c7-a465-3129b3aff51c button.colab-df-convert');\n",
              "        buttonEl.style.display =\n",
              "          google.colab.kernel.accessAllowed ? 'block' : 'none';\n",
              "\n",
              "        async function convertToInteractive(key) {\n",
              "          const element = document.querySelector('#df-7cbebd56-2d7a-42c7-a465-3129b3aff51c');\n",
              "          const dataTable =\n",
              "            await google.colab.kernel.invokeFunction('convertToInteractive',\n",
              "                                                     [key], {});\n",
              "          if (!dataTable) return;\n",
              "\n",
              "          const docLinkHtml = 'Like what you see? Visit the ' +\n",
              "            '<a target=\"_blank\" href=https://colab.research.google.com/notebooks/data_table.ipynb>data table notebook</a>'\n",
              "            + ' to learn more about interactive tables.';\n",
              "          element.innerHTML = '';\n",
              "          dataTable['output_type'] = 'display_data';\n",
              "          await google.colab.output.renderOutput(dataTable, element);\n",
              "          const docLink = document.createElement('div');\n",
              "          docLink.innerHTML = docLinkHtml;\n",
              "          element.appendChild(docLink);\n",
              "        }\n",
              "      </script>\n",
              "    </div>\n",
              "  </div>\n",
              "  "
            ],
            "text/plain": [
              "         betas  ret_exp\n",
              "AMGN  0.326270    0.002\n",
              "GILD  0.226406    0.003"
            ]
          },
          "execution_count": 52,
          "metadata": {},
          "output_type": "execute_result"
        }
      ],
      "source": [
        "ret_exp = [0.002, 0.003]\n",
        "df_ret_exp = pd.DataFrame(ret_exp)\n",
        "df_betas = pd.DataFrame(betas)\n",
        "df_all = pd.concat([df_betas, df_ret_exp], axis=1)\n",
        "df_all.columns = ['betas', 'ret_exp']\n",
        "df_all.index = returns.columns[:2]\n",
        "df_all"
      ]
    },
    {
      "cell_type": "code",
      "execution_count": null,
      "id": "xvmQwWM5E25m",
      "metadata": {
        "id": "xvmQwWM5E25m"
      },
      "outputs": [],
      "source": [
        "def over_under_val(rf, rm, stock):\n",
        "    x = rf + (rm - rf) * df_all['betas'].loc[stock]# required rate of return(equilibrium)\n",
        "    y = df_all['ret_exp'].loc[stock] # expectations\n",
        "    if x < y:\n",
        "        print('The stock is underpriced')\n",
        "    elif x > y:\n",
        "        print('The stock is overpriced')\n",
        "    else:\n",
        "        print('The stock is fairly priced')   "
      ]
    },
    {
      "cell_type": "code",
      "execution_count": null,
      "id": "tcXE52asE9Qt",
      "metadata": {
        "colab": {
          "base_uri": "https://localhost:8080/"
        },
        "id": "tcXE52asE9Qt",
        "outputId": "e6eb9d46-f54e-4817-da9b-d9f4af1547db"
      },
      "outputs": [
        {
          "name": "stdout",
          "output_type": "stream",
          "text": [
            "The stock is underpriced\n"
          ]
        }
      ],
      "source": [
        "over_under_val(rf, rm, 'AMGN')"
      ]
    },
    {
      "cell_type": "code",
      "execution_count": null,
      "id": "l-BTPPncFMh1",
      "metadata": {
        "colab": {
          "base_uri": "https://localhost:8080/"
        },
        "id": "l-BTPPncFMh1",
        "outputId": "636b1e51-8b9c-4f90-8037-561da2f1a7c3"
      },
      "outputs": [
        {
          "name": "stdout",
          "output_type": "stream",
          "text": [
            "The stock is underpriced\n"
          ]
        }
      ],
      "source": [
        "over_under_val(rf, rm, 'GILD')"
      ]
    },
    {
      "cell_type": "code",
      "execution_count": null,
      "id": "VOgOejfAFW5-",
      "metadata": {
        "id": "VOgOejfAFW5-"
      },
      "outputs": [],
      "source": [
        "def sharpe(stocks, rf, n_assets):\n",
        "    sharpe_ratios = {}\n",
        "    for i, j in zip(stocks, range(n_assets)):\n",
        "        sharpe_ratios[i] = returns.iloc[:, j].mean() - rf / np.std(returns.iloc[:, j])\n",
        "    return sharpe_ratios"
      ]
    },
    {
      "cell_type": "code",
      "execution_count": 72,
      "id": "XTSVwcxZFdFU",
      "metadata": {
        "colab": {
          "base_uri": "https://localhost:8080/"
        },
        "id": "XTSVwcxZFdFU",
        "outputId": "88e60284-03d0-46f1-d9ed-ac4e28368870"
      },
      "outputs": [
        {
          "data": {
            "text/plain": [
              "Index(['AMGN', 'GILD'], dtype='object')"
            ]
          },
          "execution_count": 72,
          "metadata": {},
          "output_type": "execute_result"
        }
      ],
      "source": [
        "returns.columns[:2]"
      ]
    },
    {
      "cell_type": "code",
      "execution_count": 74,
      "id": "fqG0anCDFe5z",
      "metadata": {
        "colab": {
          "base_uri": "https://localhost:8080/"
        },
        "id": "fqG0anCDFe5z",
        "outputId": "812abf5d-fa06-4f58-f59a-fbd427750917"
      },
      "outputs": [
        {
          "data": {
            "text/plain": [
              "{'AMGN': -0.04306939296044823, 'GILD': -0.0336721338218248}"
            ]
          },
          "execution_count": 74,
          "metadata": {},
          "output_type": "execute_result"
        }
      ],
      "source": [
        "stocks = returns.columns[:2]\n",
        "sharpe_ratios = sharpe(stocks, rf, 2)\n",
        "sharpe_ratios"
      ]
    },
    {
      "cell_type": "code",
      "execution_count": 75,
      "id": "SrnOHW5gFgxP",
      "metadata": {
        "id": "SrnOHW5gFgxP"
      },
      "outputs": [],
      "source": [
        "def treynor(stocks, rf, n_assets):\n",
        "    treynor_ratios = {}\n",
        "    for i, j in enumerate(stocks):\n",
        "        treynor_ratios[j] = returns.iloc[:, i].mean() - rf / df_all['betas'][j]\n",
        "    return treynor_ratios"
      ]
    },
    {
      "cell_type": "code",
      "execution_count": 76,
      "id": "bYVrJtSoFjDW",
      "metadata": {
        "colab": {
          "base_uri": "https://localhost:8080/"
        },
        "id": "bYVrJtSoFjDW",
        "outputId": "ea44c6eb-e17d-449b-9aee-1484e70b77be"
      },
      "outputs": [
        {
          "data": {
            "text/plain": [
              "{'AMGN': -9.034068306852097e-05, 'GILD': -0.0011485159138632593}"
            ]
          },
          "execution_count": 76,
          "metadata": {},
          "output_type": "execute_result"
        }
      ],
      "source": [
        "treynor_ratios = treynor(stocks, rf, 2)\n",
        "treynor_ratios"
      ]
    },
    {
      "cell_type": "markdown",
      "id": "QCsDhavmRbu-",
      "metadata": {
        "id": "QCsDhavmRbu-"
      },
      "source": [
        "##Interpreatation\n",
        "\n",
        "Sharpe ration is for portfolio that is not well diversified and treynor ratio is for well diversified portfolio"
      ]
    },
    {
      "cell_type": "code",
      "execution_count": 77,
      "id": "stoch-o8FmM1",
      "metadata": {
        "colab": {
          "base_uri": "https://localhost:8080/"
        },
        "id": "stoch-o8FmM1",
        "outputId": "bf1b2806-0447-47dc-e1a3-c12ebb7dada8"
      },
      "outputs": [
        {
          "name": "stdout",
          "output_type": "stream",
          "text": [
            "AMGN\n",
            "-0.04306939296044823\n"
          ]
        }
      ],
      "source": [
        "print(min(sharpe_ratios, key=sharpe_ratios.get))\n",
        "print(min(sharpe_ratios.values()))"
      ]
    },
    {
      "cell_type": "code",
      "execution_count": 78,
      "id": "kvDuNCH5F3B7",
      "metadata": {
        "colab": {
          "base_uri": "https://localhost:8080/"
        },
        "id": "kvDuNCH5F3B7",
        "outputId": "6ee0054d-6cfc-4357-d245-eb494ddd2049"
      },
      "outputs": [
        {
          "name": "stdout",
          "output_type": "stream",
          "text": [
            "GILD\n",
            "-0.0336721338218248\n"
          ]
        }
      ],
      "source": [
        "print(max(sharpe_ratios, key=sharpe_ratios.get))\n",
        "print(max(sharpe_ratios.values()))"
      ]
    },
    {
      "cell_type": "code",
      "execution_count": 79,
      "id": "RpF6idLMGCCA",
      "metadata": {
        "colab": {
          "base_uri": "https://localhost:8080/"
        },
        "id": "RpF6idLMGCCA",
        "outputId": "c86d38e0-1f35-4eb8-990b-4503d57ca292"
      },
      "outputs": [
        {
          "name": "stdout",
          "output_type": "stream",
          "text": [
            "GILD\n",
            "-0.0011485159138632593\n"
          ]
        }
      ],
      "source": [
        "print(min(treynor_ratios, key=treynor_ratios.get))\n",
        "print(min(treynor_ratios.values()))"
      ]
    },
    {
      "cell_type": "code",
      "execution_count": 80,
      "id": "q0QSI8h9GIOg",
      "metadata": {
        "colab": {
          "base_uri": "https://localhost:8080/"
        },
        "id": "q0QSI8h9GIOg",
        "outputId": "9e3da595-d125-427f-ff4e-3628e146cdc7"
      },
      "outputs": [
        {
          "name": "stdout",
          "output_type": "stream",
          "text": [
            "AMGN\n",
            "-9.034068306852097e-05\n"
          ]
        }
      ],
      "source": [
        "print(max(treynor_ratios, key=treynor_ratios.get))\n",
        "print(max(treynor_ratios.values()))"
      ]
    },
    {
      "cell_type": "markdown",
      "id": "mV2E6oAySTss",
      "metadata": {
        "id": "mV2E6oAySTss"
      },
      "source": [
        "##Interpretation\n",
        "\n",
        "When we compute the maximum and minimum Treynor ratios, it turns out that the outcomes support the Sharpe ratio that we discovered.\n",
        "However, GILD is both the most and least practical stock. "
      ]
    },
    {
      "cell_type": "code",
      "execution_count": null,
      "id": "CHNBv9LkGLQz",
      "metadata": {
        "id": "CHNBv9LkGLQz"
      },
      "outputs": [],
      "source": []
    }
  ],
  "metadata": {
    "colab": {
      "collapsed_sections": [],
      "provenance": []
    },
    "kernelspec": {
      "display_name": "Python 3 (ipykernel)",
      "language": "python",
      "name": "python3"
    },
    "language_info": {
      "codemirror_mode": {
        "name": "ipython",
        "version": 3
      },
      "file_extension": ".py",
      "mimetype": "text/x-python",
      "name": "python",
      "nbconvert_exporter": "python",
      "pygments_lexer": "ipython3",
      "version": "3.9.7"
    },
    "latex_envs": {
      "LaTeX_envs_menu_present": true,
      "autoclose": false,
      "autocomplete": true,
      "bibliofile": "biblio.bib",
      "cite_by": "apalike",
      "current_citInitial": 1,
      "eqLabelWithNumbers": true,
      "eqNumInitial": 1,
      "hotkeys": {
        "equation": "Ctrl-E",
        "itemize": "Ctrl-I"
      },
      "labels_anchors": false,
      "latex_user_defs": false,
      "report_style_numbering": false,
      "user_envs_cfg": false
    },
    "toc": {
      "base_numbering": 1,
      "nav_menu": {},
      "number_sections": false,
      "sideBar": true,
      "skip_h1_title": false,
      "title_cell": "Table of Contents",
      "title_sidebar": "Contents",
      "toc_cell": false,
      "toc_position": {},
      "toc_section_display": true,
      "toc_window_display": false
    }
  },
  "nbformat": 4,
  "nbformat_minor": 5
}
