{
  "cells": [
    {
      "cell_type": "markdown",
      "metadata": {
        "id": "UM8EQCBKemvO"
      },
      "source": [
        "# Sharpe Ration\n"
      ]
    },
    {
      "cell_type": "markdown",
      "metadata": {
        "id": "p7nR1om3emvQ"
      },
      "source": [
        "In this project we are calculating sharpe ratio first with your own code and then employing `PyPortfolioOpt` library using Apple, Amazon, 3M, and Exxon companies. Please see [this website](https://pyportfolioopt.readthedocs.io/en/latest/) for more information about `PyPortfolioOpt`. The daily data covers the period of 2021-01-01 and 2022-01-01. To accomplish this task:\n",
        "\n",
        "* Annualized the daily return and standard deviation for each respective stock.\n",
        "* Draw efficient frontier.\n",
        "* Assume risk free rate to be 0.01.\n",
        "* Calculate the sharpe ratio and interpret which one is the best.\n",
        "\n",
        "Hint: Please use `plot_efficient_frontier` function in `PyPortfolioOpt` to draw efficient frontier.\n",
        "\n",
        "Again, please keep in mind that you are going to accomplish the task first with your own code and using `PyPortfolioOpt` library. Also note that you do not need to get exactly the same result."
      ]
    },
    {
      "cell_type": "code",
      "execution_count": 53,
      "metadata": {
        "id": "uAnG0TXVemvQ"
      },
      "outputs": [],
      "source": [
        "#codes and explanations here."
      ]
    },
    {
      "cell_type": "code",
      "execution_count": 54,
      "metadata": {
        "colab": {
          "base_uri": "https://localhost:8080/"
        },
        "id": "m4bOqWt20baC",
        "outputId": "6cac9f79-a0db-450b-dbfe-9269b592aa70"
      },
      "outputs": [
        {
          "name": "stdout",
          "output_type": "stream",
          "text": [
            "Looking in indexes: https://pypi.org/simple, https://us-python.pkg.dev/colab-wheels/public/simple/\n",
            "Requirement already satisfied: PyPortfolioOpt in /usr/local/lib/python3.7/dist-packages (1.5.2)\n",
            "Requirement already satisfied: pandas>=0.19 in /usr/local/lib/python3.7/dist-packages (from PyPortfolioOpt) (1.3.5)\n",
            "Requirement already satisfied: scipy<2.0,>=1.3 in /usr/local/lib/python3.7/dist-packages (from PyPortfolioOpt) (1.7.3)\n",
            "Requirement already satisfied: numpy<2.0,>=1.12 in /usr/local/lib/python3.7/dist-packages (from PyPortfolioOpt) (1.21.6)\n",
            "Requirement already satisfied: cvxpy<2.0.0,>=1.1.10 in /usr/local/lib/python3.7/dist-packages (from PyPortfolioOpt) (1.2.1)\n",
            "Requirement already satisfied: scs>=1.1.6 in /usr/local/lib/python3.7/dist-packages (from cvxpy<2.0.0,>=1.1.10->PyPortfolioOpt) (3.2.0)\n",
            "Requirement already satisfied: osqp>=0.4.1 in /usr/local/lib/python3.7/dist-packages (from cvxpy<2.0.0,>=1.1.10->PyPortfolioOpt) (0.6.2.post0)\n",
            "Requirement already satisfied: ecos>=2 in /usr/local/lib/python3.7/dist-packages (from cvxpy<2.0.0,>=1.1.10->PyPortfolioOpt) (2.0.10)\n",
            "Requirement already satisfied: qdldl in /usr/local/lib/python3.7/dist-packages (from osqp>=0.4.1->cvxpy<2.0.0,>=1.1.10->PyPortfolioOpt) (0.1.5.post2)\n",
            "Requirement already satisfied: pytz>=2017.3 in /usr/local/lib/python3.7/dist-packages (from pandas>=0.19->PyPortfolioOpt) (2022.4)\n",
            "Requirement already satisfied: python-dateutil>=2.7.3 in /usr/local/lib/python3.7/dist-packages (from pandas>=0.19->PyPortfolioOpt) (2.8.2)\n",
            "Requirement already satisfied: six>=1.5 in /usr/local/lib/python3.7/dist-packages (from python-dateutil>=2.7.3->pandas>=0.19->PyPortfolioOpt) (1.15.0)\n"
          ]
        }
      ],
      "source": [
        "pip install PyPortfolioOpt"
      ]
    },
    {
      "cell_type": "code",
      "execution_count": 55,
      "metadata": {
        "colab": {
          "base_uri": "https://localhost:8080/"
        },
        "id": "lZgut9yM0cB6",
        "outputId": "7077c0e6-fb79-45fd-c898-12b934212f3c"
      },
      "outputs": [
        {
          "name": "stdout",
          "output_type": "stream",
          "text": [
            "Looking in indexes: https://pypi.org/simple, https://us-python.pkg.dev/colab-wheels/public/simple/\n",
            "Requirement already satisfied: yfinance in /usr/local/lib/python3.7/dist-packages (0.1.77)\n",
            "Requirement already satisfied: pandas>=0.24.0 in /usr/local/lib/python3.7/dist-packages (from yfinance) (1.3.5)\n",
            "Requirement already satisfied: requests>=2.26 in /usr/local/lib/python3.7/dist-packages (from yfinance) (2.28.1)\n",
            "Requirement already satisfied: numpy>=1.15 in /usr/local/lib/python3.7/dist-packages (from yfinance) (1.21.6)\n",
            "Requirement already satisfied: appdirs>=1.4.4 in /usr/local/lib/python3.7/dist-packages (from yfinance) (1.4.4)\n",
            "Requirement already satisfied: lxml>=4.5.1 in /usr/local/lib/python3.7/dist-packages (from yfinance) (4.9.1)\n",
            "Requirement already satisfied: multitasking>=0.0.7 in /usr/local/lib/python3.7/dist-packages (from yfinance) (0.0.11)\n",
            "Requirement already satisfied: pytz>=2017.3 in /usr/local/lib/python3.7/dist-packages (from pandas>=0.24.0->yfinance) (2022.4)\n",
            "Requirement already satisfied: python-dateutil>=2.7.3 in /usr/local/lib/python3.7/dist-packages (from pandas>=0.24.0->yfinance) (2.8.2)\n",
            "Requirement already satisfied: six>=1.5 in /usr/local/lib/python3.7/dist-packages (from python-dateutil>=2.7.3->pandas>=0.24.0->yfinance) (1.15.0)\n",
            "Requirement already satisfied: idna<4,>=2.5 in /usr/local/lib/python3.7/dist-packages (from requests>=2.26->yfinance) (2.10)\n",
            "Requirement already satisfied: certifi>=2017.4.17 in /usr/local/lib/python3.7/dist-packages (from requests>=2.26->yfinance) (2022.9.24)\n",
            "Requirement already satisfied: urllib3<1.27,>=1.21.1 in /usr/local/lib/python3.7/dist-packages (from requests>=2.26->yfinance) (1.24.3)\n",
            "Requirement already satisfied: charset-normalizer<3,>=2 in /usr/local/lib/python3.7/dist-packages (from requests>=2.26->yfinance) (2.1.1)\n"
          ]
        }
      ],
      "source": [
        "pip install yfinance"
      ]
    },
    {
      "cell_type": "code",
      "execution_count": 56,
      "metadata": {
        "id": "0IP0TF9V0hO1"
      },
      "outputs": [],
      "source": [
        "import pandas as pd\n",
        "import numpy as np\n",
        "import datetime\n",
        "import yfinance as yf\n",
        "import matplotlib.pyplot as plt\n",
        "from pypfopt import plotting\n",
        "from pypfopt.efficient_frontier import EfficientFrontier\n",
        "from pypfopt import risk_models\n",
        "from pypfopt import expected_returns"
      ]
    },
    {
      "cell_type": "code",
      "execution_count": 57,
      "metadata": {
        "colab": {
          "base_uri": "https://localhost:8080/"
        },
        "id": "rqW5N7g80nil",
        "outputId": "aec5abbf-9535-4893-87f2-3cfbbe4f9c0e"
      },
      "outputs": [
        {
          "name": "stdout",
          "output_type": "stream",
          "text": [
            "[*********************100%***********************]  4 of 4 completed\n"
          ]
        }
      ],
      "source": [
        "stocks = ['AAPL', 'AMZN', 'MMM', 'XOM']\n",
        "start = datetime.datetime(2020,1,1)\n",
        "end = datetime.datetime(2021,1,1)\n",
        "stock_data = yf.download(stocks, start= start, end=end, interval='1d')['Close']"
      ]
    },
    {
      "cell_type": "code",
      "execution_count": 58,
      "metadata": {
        "colab": {
          "base_uri": "https://localhost:8080/",
          "height": 455
        },
        "id": "mUyPw1Kq0sdK",
        "outputId": "ef728b35-397c-4591-fa3d-3076984303f9"
      },
      "outputs": [
        {
          "data": {
            "text/html": [
              "\n",
              "  <div id=\"df-e42379d6-10a2-4c53-90f4-5dcdace13014\">\n",
              "    <div class=\"colab-df-container\">\n",
              "      <div>\n",
              "<style scoped>\n",
              "    .dataframe tbody tr th:only-of-type {\n",
              "        vertical-align: middle;\n",
              "    }\n",
              "\n",
              "    .dataframe tbody tr th {\n",
              "        vertical-align: top;\n",
              "    }\n",
              "\n",
              "    .dataframe thead th {\n",
              "        text-align: right;\n",
              "    }\n",
              "</style>\n",
              "<table border=\"1\" class=\"dataframe\">\n",
              "  <thead>\n",
              "    <tr style=\"text-align: right;\">\n",
              "      <th></th>\n",
              "      <th>AAPL</th>\n",
              "      <th>AMZN</th>\n",
              "      <th>MMM</th>\n",
              "      <th>XOM</th>\n",
              "    </tr>\n",
              "    <tr>\n",
              "      <th>Date</th>\n",
              "      <th></th>\n",
              "      <th></th>\n",
              "      <th></th>\n",
              "      <th></th>\n",
              "    </tr>\n",
              "  </thead>\n",
              "  <tbody>\n",
              "    <tr>\n",
              "      <th>2020-01-02 00:00:00-05:00</th>\n",
              "      <td>75.087502</td>\n",
              "      <td>94.900497</td>\n",
              "      <td>180.000000</td>\n",
              "      <td>70.900002</td>\n",
              "    </tr>\n",
              "    <tr>\n",
              "      <th>2020-01-03 00:00:00-05:00</th>\n",
              "      <td>74.357498</td>\n",
              "      <td>93.748497</td>\n",
              "      <td>178.449997</td>\n",
              "      <td>70.330002</td>\n",
              "    </tr>\n",
              "    <tr>\n",
              "      <th>2020-01-06 00:00:00-05:00</th>\n",
              "      <td>74.949997</td>\n",
              "      <td>95.143997</td>\n",
              "      <td>178.619995</td>\n",
              "      <td>70.870003</td>\n",
              "    </tr>\n",
              "    <tr>\n",
              "      <th>2020-01-07 00:00:00-05:00</th>\n",
              "      <td>74.597504</td>\n",
              "      <td>95.343002</td>\n",
              "      <td>177.899994</td>\n",
              "      <td>70.290001</td>\n",
              "    </tr>\n",
              "    <tr>\n",
              "      <th>2020-01-08 00:00:00-05:00</th>\n",
              "      <td>75.797501</td>\n",
              "      <td>94.598503</td>\n",
              "      <td>180.630005</td>\n",
              "      <td>69.230003</td>\n",
              "    </tr>\n",
              "    <tr>\n",
              "      <th>...</th>\n",
              "      <td>...</td>\n",
              "      <td>...</td>\n",
              "      <td>...</td>\n",
              "      <td>...</td>\n",
              "    </tr>\n",
              "    <tr>\n",
              "      <th>2020-12-24 00:00:00-05:00</th>\n",
              "      <td>131.970001</td>\n",
              "      <td>158.634506</td>\n",
              "      <td>174.520004</td>\n",
              "      <td>41.599998</td>\n",
              "    </tr>\n",
              "    <tr>\n",
              "      <th>2020-12-28 00:00:00-05:00</th>\n",
              "      <td>136.690002</td>\n",
              "      <td>164.197998</td>\n",
              "      <td>174.710007</td>\n",
              "      <td>41.740002</td>\n",
              "    </tr>\n",
              "    <tr>\n",
              "      <th>2020-12-29 00:00:00-05:00</th>\n",
              "      <td>134.869995</td>\n",
              "      <td>166.100006</td>\n",
              "      <td>173.850006</td>\n",
              "      <td>41.270000</td>\n",
              "    </tr>\n",
              "    <tr>\n",
              "      <th>2020-12-30 00:00:00-05:00</th>\n",
              "      <td>133.720001</td>\n",
              "      <td>164.292496</td>\n",
              "      <td>174.110001</td>\n",
              "      <td>41.599998</td>\n",
              "    </tr>\n",
              "    <tr>\n",
              "      <th>2020-12-31 00:00:00-05:00</th>\n",
              "      <td>132.690002</td>\n",
              "      <td>162.846497</td>\n",
              "      <td>174.789993</td>\n",
              "      <td>41.220001</td>\n",
              "    </tr>\n",
              "  </tbody>\n",
              "</table>\n",
              "<p>253 rows × 4 columns</p>\n",
              "</div>\n",
              "      <button class=\"colab-df-convert\" onclick=\"convertToInteractive('df-e42379d6-10a2-4c53-90f4-5dcdace13014')\"\n",
              "              title=\"Convert this dataframe to an interactive table.\"\n",
              "              style=\"display:none;\">\n",
              "        \n",
              "  <svg xmlns=\"http://www.w3.org/2000/svg\" height=\"24px\"viewBox=\"0 0 24 24\"\n",
              "       width=\"24px\">\n",
              "    <path d=\"M0 0h24v24H0V0z\" fill=\"none\"/>\n",
              "    <path d=\"M18.56 5.44l.94 2.06.94-2.06 2.06-.94-2.06-.94-.94-2.06-.94 2.06-2.06.94zm-11 1L8.5 8.5l.94-2.06 2.06-.94-2.06-.94L8.5 2.5l-.94 2.06-2.06.94zm10 10l.94 2.06.94-2.06 2.06-.94-2.06-.94-.94-2.06-.94 2.06-2.06.94z\"/><path d=\"M17.41 7.96l-1.37-1.37c-.4-.4-.92-.59-1.43-.59-.52 0-1.04.2-1.43.59L10.3 9.45l-7.72 7.72c-.78.78-.78 2.05 0 2.83L4 21.41c.39.39.9.59 1.41.59.51 0 1.02-.2 1.41-.59l7.78-7.78 2.81-2.81c.8-.78.8-2.07 0-2.86zM5.41 20L4 18.59l7.72-7.72 1.47 1.35L5.41 20z\"/>\n",
              "  </svg>\n",
              "      </button>\n",
              "      \n",
              "  <style>\n",
              "    .colab-df-container {\n",
              "      display:flex;\n",
              "      flex-wrap:wrap;\n",
              "      gap: 12px;\n",
              "    }\n",
              "\n",
              "    .colab-df-convert {\n",
              "      background-color: #E8F0FE;\n",
              "      border: none;\n",
              "      border-radius: 50%;\n",
              "      cursor: pointer;\n",
              "      display: none;\n",
              "      fill: #1967D2;\n",
              "      height: 32px;\n",
              "      padding: 0 0 0 0;\n",
              "      width: 32px;\n",
              "    }\n",
              "\n",
              "    .colab-df-convert:hover {\n",
              "      background-color: #E2EBFA;\n",
              "      box-shadow: 0px 1px 2px rgba(60, 64, 67, 0.3), 0px 1px 3px 1px rgba(60, 64, 67, 0.15);\n",
              "      fill: #174EA6;\n",
              "    }\n",
              "\n",
              "    [theme=dark] .colab-df-convert {\n",
              "      background-color: #3B4455;\n",
              "      fill: #D2E3FC;\n",
              "    }\n",
              "\n",
              "    [theme=dark] .colab-df-convert:hover {\n",
              "      background-color: #434B5C;\n",
              "      box-shadow: 0px 1px 3px 1px rgba(0, 0, 0, 0.15);\n",
              "      filter: drop-shadow(0px 1px 2px rgba(0, 0, 0, 0.3));\n",
              "      fill: #FFFFFF;\n",
              "    }\n",
              "  </style>\n",
              "\n",
              "      <script>\n",
              "        const buttonEl =\n",
              "          document.querySelector('#df-e42379d6-10a2-4c53-90f4-5dcdace13014 button.colab-df-convert');\n",
              "        buttonEl.style.display =\n",
              "          google.colab.kernel.accessAllowed ? 'block' : 'none';\n",
              "\n",
              "        async function convertToInteractive(key) {\n",
              "          const element = document.querySelector('#df-e42379d6-10a2-4c53-90f4-5dcdace13014');\n",
              "          const dataTable =\n",
              "            await google.colab.kernel.invokeFunction('convertToInteractive',\n",
              "                                                     [key], {});\n",
              "          if (!dataTable) return;\n",
              "\n",
              "          const docLinkHtml = 'Like what you see? Visit the ' +\n",
              "            '<a target=\"_blank\" href=https://colab.research.google.com/notebooks/data_table.ipynb>data table notebook</a>'\n",
              "            + ' to learn more about interactive tables.';\n",
              "          element.innerHTML = '';\n",
              "          dataTable['output_type'] = 'display_data';\n",
              "          await google.colab.output.renderOutput(dataTable, element);\n",
              "          const docLink = document.createElement('div');\n",
              "          docLink.innerHTML = docLinkHtml;\n",
              "          element.appendChild(docLink);\n",
              "        }\n",
              "      </script>\n",
              "    </div>\n",
              "  </div>\n",
              "  "
            ],
            "text/plain": [
              "                                 AAPL        AMZN         MMM        XOM\n",
              "Date                                                                    \n",
              "2020-01-02 00:00:00-05:00   75.087502   94.900497  180.000000  70.900002\n",
              "2020-01-03 00:00:00-05:00   74.357498   93.748497  178.449997  70.330002\n",
              "2020-01-06 00:00:00-05:00   74.949997   95.143997  178.619995  70.870003\n",
              "2020-01-07 00:00:00-05:00   74.597504   95.343002  177.899994  70.290001\n",
              "2020-01-08 00:00:00-05:00   75.797501   94.598503  180.630005  69.230003\n",
              "...                               ...         ...         ...        ...\n",
              "2020-12-24 00:00:00-05:00  131.970001  158.634506  174.520004  41.599998\n",
              "2020-12-28 00:00:00-05:00  136.690002  164.197998  174.710007  41.740002\n",
              "2020-12-29 00:00:00-05:00  134.869995  166.100006  173.850006  41.270000\n",
              "2020-12-30 00:00:00-05:00  133.720001  164.292496  174.110001  41.599998\n",
              "2020-12-31 00:00:00-05:00  132.690002  162.846497  174.789993  41.220001\n",
              "\n",
              "[253 rows x 4 columns]"
            ]
          },
          "execution_count": 58,
          "metadata": {},
          "output_type": "execute_result"
        }
      ],
      "source": [
        "stock_data"
      ]
    },
    {
      "cell_type": "markdown",
      "metadata": {
        "id": "CrQXdgkb2b6I"
      },
      "source": [
        "##Annualized the daily return and standard deviation for each respective stock"
      ]
    },
    {
      "cell_type": "code",
      "execution_count": 59,
      "metadata": {
        "id": "hrsBiF1L07OE"
      },
      "outputs": [],
      "source": [
        "stock_data_shift = stock_data.shift(1) \n",
        "returns = np.log(stock_data/stock_data_shift) #This is to make the length equal\n",
        "returns.dropna(inplace=True)"
      ]
    },
    {
      "cell_type": "code",
      "execution_count": 60,
      "metadata": {
        "colab": {
          "base_uri": "https://localhost:8080/",
          "height": 300
        },
        "id": "tI9RsNoP30Xk",
        "outputId": "9ee5d904-1577-4d58-e035-ad1f41eba11b"
      },
      "outputs": [
        {
          "data": {
            "text/html": [
              "\n",
              "  <div id=\"df-94a08dec-1ec6-44a2-a8a9-0c754cbc7d62\">\n",
              "    <div class=\"colab-df-container\">\n",
              "      <div>\n",
              "<style scoped>\n",
              "    .dataframe tbody tr th:only-of-type {\n",
              "        vertical-align: middle;\n",
              "    }\n",
              "\n",
              "    .dataframe tbody tr th {\n",
              "        vertical-align: top;\n",
              "    }\n",
              "\n",
              "    .dataframe thead th {\n",
              "        text-align: right;\n",
              "    }\n",
              "</style>\n",
              "<table border=\"1\" class=\"dataframe\">\n",
              "  <thead>\n",
              "    <tr style=\"text-align: right;\">\n",
              "      <th></th>\n",
              "      <th>AAPL</th>\n",
              "      <th>AMZN</th>\n",
              "      <th>MMM</th>\n",
              "      <th>XOM</th>\n",
              "    </tr>\n",
              "  </thead>\n",
              "  <tbody>\n",
              "    <tr>\n",
              "      <th>count</th>\n",
              "      <td>252.000000</td>\n",
              "      <td>252.000000</td>\n",
              "      <td>252.000000</td>\n",
              "      <td>252.000000</td>\n",
              "    </tr>\n",
              "    <tr>\n",
              "      <th>mean</th>\n",
              "      <td>0.002259</td>\n",
              "      <td>0.002143</td>\n",
              "      <td>-0.000117</td>\n",
              "      <td>-0.002152</td>\n",
              "    </tr>\n",
              "    <tr>\n",
              "      <th>std</th>\n",
              "      <td>0.029440</td>\n",
              "      <td>0.024198</td>\n",
              "      <td>0.023659</td>\n",
              "      <td>0.033399</td>\n",
              "    </tr>\n",
              "    <tr>\n",
              "      <th>min</th>\n",
              "      <td>-0.137708</td>\n",
              "      <td>-0.082535</td>\n",
              "      <td>-0.097363</td>\n",
              "      <td>-0.130391</td>\n",
              "    </tr>\n",
              "    <tr>\n",
              "      <th>25%</th>\n",
              "      <td>-0.010488</td>\n",
              "      <td>-0.010538</td>\n",
              "      <td>-0.009617</td>\n",
              "      <td>-0.018897</td>\n",
              "    </tr>\n",
              "    <tr>\n",
              "      <th>50%</th>\n",
              "      <td>0.001653</td>\n",
              "      <td>0.002490</td>\n",
              "      <td>0.001161</td>\n",
              "      <td>-0.004792</td>\n",
              "    </tr>\n",
              "    <tr>\n",
              "      <th>75%</th>\n",
              "      <td>0.016930</td>\n",
              "      <td>0.014432</td>\n",
              "      <td>0.010746</td>\n",
              "      <td>0.012870</td>\n",
              "    </tr>\n",
              "    <tr>\n",
              "      <th>max</th>\n",
              "      <td>0.113157</td>\n",
              "      <td>0.076308</td>\n",
              "      <td>0.118659</td>\n",
              "      <td>0.119442</td>\n",
              "    </tr>\n",
              "  </tbody>\n",
              "</table>\n",
              "</div>\n",
              "      <button class=\"colab-df-convert\" onclick=\"convertToInteractive('df-94a08dec-1ec6-44a2-a8a9-0c754cbc7d62')\"\n",
              "              title=\"Convert this dataframe to an interactive table.\"\n",
              "              style=\"display:none;\">\n",
              "        \n",
              "  <svg xmlns=\"http://www.w3.org/2000/svg\" height=\"24px\"viewBox=\"0 0 24 24\"\n",
              "       width=\"24px\">\n",
              "    <path d=\"M0 0h24v24H0V0z\" fill=\"none\"/>\n",
              "    <path d=\"M18.56 5.44l.94 2.06.94-2.06 2.06-.94-2.06-.94-.94-2.06-.94 2.06-2.06.94zm-11 1L8.5 8.5l.94-2.06 2.06-.94-2.06-.94L8.5 2.5l-.94 2.06-2.06.94zm10 10l.94 2.06.94-2.06 2.06-.94-2.06-.94-.94-2.06-.94 2.06-2.06.94z\"/><path d=\"M17.41 7.96l-1.37-1.37c-.4-.4-.92-.59-1.43-.59-.52 0-1.04.2-1.43.59L10.3 9.45l-7.72 7.72c-.78.78-.78 2.05 0 2.83L4 21.41c.39.39.9.59 1.41.59.51 0 1.02-.2 1.41-.59l7.78-7.78 2.81-2.81c.8-.78.8-2.07 0-2.86zM5.41 20L4 18.59l7.72-7.72 1.47 1.35L5.41 20z\"/>\n",
              "  </svg>\n",
              "      </button>\n",
              "      \n",
              "  <style>\n",
              "    .colab-df-container {\n",
              "      display:flex;\n",
              "      flex-wrap:wrap;\n",
              "      gap: 12px;\n",
              "    }\n",
              "\n",
              "    .colab-df-convert {\n",
              "      background-color: #E8F0FE;\n",
              "      border: none;\n",
              "      border-radius: 50%;\n",
              "      cursor: pointer;\n",
              "      display: none;\n",
              "      fill: #1967D2;\n",
              "      height: 32px;\n",
              "      padding: 0 0 0 0;\n",
              "      width: 32px;\n",
              "    }\n",
              "\n",
              "    .colab-df-convert:hover {\n",
              "      background-color: #E2EBFA;\n",
              "      box-shadow: 0px 1px 2px rgba(60, 64, 67, 0.3), 0px 1px 3px 1px rgba(60, 64, 67, 0.15);\n",
              "      fill: #174EA6;\n",
              "    }\n",
              "\n",
              "    [theme=dark] .colab-df-convert {\n",
              "      background-color: #3B4455;\n",
              "      fill: #D2E3FC;\n",
              "    }\n",
              "\n",
              "    [theme=dark] .colab-df-convert:hover {\n",
              "      background-color: #434B5C;\n",
              "      box-shadow: 0px 1px 3px 1px rgba(0, 0, 0, 0.15);\n",
              "      filter: drop-shadow(0px 1px 2px rgba(0, 0, 0, 0.3));\n",
              "      fill: #FFFFFF;\n",
              "    }\n",
              "  </style>\n",
              "\n",
              "      <script>\n",
              "        const buttonEl =\n",
              "          document.querySelector('#df-94a08dec-1ec6-44a2-a8a9-0c754cbc7d62 button.colab-df-convert');\n",
              "        buttonEl.style.display =\n",
              "          google.colab.kernel.accessAllowed ? 'block' : 'none';\n",
              "\n",
              "        async function convertToInteractive(key) {\n",
              "          const element = document.querySelector('#df-94a08dec-1ec6-44a2-a8a9-0c754cbc7d62');\n",
              "          const dataTable =\n",
              "            await google.colab.kernel.invokeFunction('convertToInteractive',\n",
              "                                                     [key], {});\n",
              "          if (!dataTable) return;\n",
              "\n",
              "          const docLinkHtml = 'Like what you see? Visit the ' +\n",
              "            '<a target=\"_blank\" href=https://colab.research.google.com/notebooks/data_table.ipynb>data table notebook</a>'\n",
              "            + ' to learn more about interactive tables.';\n",
              "          element.innerHTML = '';\n",
              "          dataTable['output_type'] = 'display_data';\n",
              "          await google.colab.output.renderOutput(dataTable, element);\n",
              "          const docLink = document.createElement('div');\n",
              "          docLink.innerHTML = docLinkHtml;\n",
              "          element.appendChild(docLink);\n",
              "        }\n",
              "      </script>\n",
              "    </div>\n",
              "  </div>\n",
              "  "
            ],
            "text/plain": [
              "             AAPL        AMZN         MMM         XOM\n",
              "count  252.000000  252.000000  252.000000  252.000000\n",
              "mean     0.002259    0.002143   -0.000117   -0.002152\n",
              "std      0.029440    0.024198    0.023659    0.033399\n",
              "min     -0.137708   -0.082535   -0.097363   -0.130391\n",
              "25%     -0.010488   -0.010538   -0.009617   -0.018897\n",
              "50%      0.001653    0.002490    0.001161   -0.004792\n",
              "75%      0.016930    0.014432    0.010746    0.012870\n",
              "max      0.113157    0.076308    0.118659    0.119442"
            ]
          },
          "execution_count": 60,
          "metadata": {},
          "output_type": "execute_result"
        }
      ],
      "source": [
        "returns.describe()"
      ]
    },
    {
      "cell_type": "code",
      "execution_count": 61,
      "metadata": {
        "colab": {
          "base_uri": "https://localhost:8080/"
        },
        "id": "LXFwqESY4aex",
        "outputId": "c4450964-c605-44cc-f32f-d28b0d1de999"
      },
      "outputs": [
        {
          "data": {
            "text/plain": [
              "AAPL    0.569361\n",
              "AMZN    0.539979\n",
              "MMM    -0.029372\n",
              "XOM    -0.542347\n",
              "dtype: float64"
            ]
          },
          "execution_count": 61,
          "metadata": {},
          "output_type": "execute_result"
        }
      ],
      "source": [
        "#For Annualized returns we have to muntiply with 252 business days in that year\n",
        "returns.mean()*252"
      ]
    },
    {
      "cell_type": "code",
      "execution_count": 62,
      "metadata": {
        "colab": {
          "base_uri": "https://localhost:8080/",
          "height": 175
        },
        "id": "PNetKHIf4m2h",
        "outputId": "b1b8c57d-8129-480e-fa26-6edd93ef5eab"
      },
      "outputs": [
        {
          "data": {
            "text/html": [
              "\n",
              "  <div id=\"df-ecd1dc5f-a7f0-4d62-b5e5-45634326b604\">\n",
              "    <div class=\"colab-df-container\">\n",
              "      <div>\n",
              "<style scoped>\n",
              "    .dataframe tbody tr th:only-of-type {\n",
              "        vertical-align: middle;\n",
              "    }\n",
              "\n",
              "    .dataframe tbody tr th {\n",
              "        vertical-align: top;\n",
              "    }\n",
              "\n",
              "    .dataframe thead th {\n",
              "        text-align: right;\n",
              "    }\n",
              "</style>\n",
              "<table border=\"1\" class=\"dataframe\">\n",
              "  <thead>\n",
              "    <tr style=\"text-align: right;\">\n",
              "      <th></th>\n",
              "      <th>AAPL</th>\n",
              "      <th>AMZN</th>\n",
              "      <th>MMM</th>\n",
              "      <th>XOM</th>\n",
              "    </tr>\n",
              "  </thead>\n",
              "  <tbody>\n",
              "    <tr>\n",
              "      <th>AAPL</th>\n",
              "      <td>0.013758</td>\n",
              "      <td>0.007947</td>\n",
              "      <td>0.005863</td>\n",
              "      <td>0.007257</td>\n",
              "    </tr>\n",
              "    <tr>\n",
              "      <th>AMZN</th>\n",
              "      <td>0.007947</td>\n",
              "      <td>0.009295</td>\n",
              "      <td>0.002683</td>\n",
              "      <td>0.003098</td>\n",
              "    </tr>\n",
              "    <tr>\n",
              "      <th>MMM</th>\n",
              "      <td>0.005863</td>\n",
              "      <td>0.002683</td>\n",
              "      <td>0.008886</td>\n",
              "      <td>0.008297</td>\n",
              "    </tr>\n",
              "    <tr>\n",
              "      <th>XOM</th>\n",
              "      <td>0.007257</td>\n",
              "      <td>0.003098</td>\n",
              "      <td>0.008297</td>\n",
              "      <td>0.017708</td>\n",
              "    </tr>\n",
              "  </tbody>\n",
              "</table>\n",
              "</div>\n",
              "      <button class=\"colab-df-convert\" onclick=\"convertToInteractive('df-ecd1dc5f-a7f0-4d62-b5e5-45634326b604')\"\n",
              "              title=\"Convert this dataframe to an interactive table.\"\n",
              "              style=\"display:none;\">\n",
              "        \n",
              "  <svg xmlns=\"http://www.w3.org/2000/svg\" height=\"24px\"viewBox=\"0 0 24 24\"\n",
              "       width=\"24px\">\n",
              "    <path d=\"M0 0h24v24H0V0z\" fill=\"none\"/>\n",
              "    <path d=\"M18.56 5.44l.94 2.06.94-2.06 2.06-.94-2.06-.94-.94-2.06-.94 2.06-2.06.94zm-11 1L8.5 8.5l.94-2.06 2.06-.94-2.06-.94L8.5 2.5l-.94 2.06-2.06.94zm10 10l.94 2.06.94-2.06 2.06-.94-2.06-.94-.94-2.06-.94 2.06-2.06.94z\"/><path d=\"M17.41 7.96l-1.37-1.37c-.4-.4-.92-.59-1.43-.59-.52 0-1.04.2-1.43.59L10.3 9.45l-7.72 7.72c-.78.78-.78 2.05 0 2.83L4 21.41c.39.39.9.59 1.41.59.51 0 1.02-.2 1.41-.59l7.78-7.78 2.81-2.81c.8-.78.8-2.07 0-2.86zM5.41 20L4 18.59l7.72-7.72 1.47 1.35L5.41 20z\"/>\n",
              "  </svg>\n",
              "      </button>\n",
              "      \n",
              "  <style>\n",
              "    .colab-df-container {\n",
              "      display:flex;\n",
              "      flex-wrap:wrap;\n",
              "      gap: 12px;\n",
              "    }\n",
              "\n",
              "    .colab-df-convert {\n",
              "      background-color: #E8F0FE;\n",
              "      border: none;\n",
              "      border-radius: 50%;\n",
              "      cursor: pointer;\n",
              "      display: none;\n",
              "      fill: #1967D2;\n",
              "      height: 32px;\n",
              "      padding: 0 0 0 0;\n",
              "      width: 32px;\n",
              "    }\n",
              "\n",
              "    .colab-df-convert:hover {\n",
              "      background-color: #E2EBFA;\n",
              "      box-shadow: 0px 1px 2px rgba(60, 64, 67, 0.3), 0px 1px 3px 1px rgba(60, 64, 67, 0.15);\n",
              "      fill: #174EA6;\n",
              "    }\n",
              "\n",
              "    [theme=dark] .colab-df-convert {\n",
              "      background-color: #3B4455;\n",
              "      fill: #D2E3FC;\n",
              "    }\n",
              "\n",
              "    [theme=dark] .colab-df-convert:hover {\n",
              "      background-color: #434B5C;\n",
              "      box-shadow: 0px 1px 3px 1px rgba(0, 0, 0, 0.15);\n",
              "      filter: drop-shadow(0px 1px 2px rgba(0, 0, 0, 0.3));\n",
              "      fill: #FFFFFF;\n",
              "    }\n",
              "  </style>\n",
              "\n",
              "      <script>\n",
              "        const buttonEl =\n",
              "          document.querySelector('#df-ecd1dc5f-a7f0-4d62-b5e5-45634326b604 button.colab-df-convert');\n",
              "        buttonEl.style.display =\n",
              "          google.colab.kernel.accessAllowed ? 'block' : 'none';\n",
              "\n",
              "        async function convertToInteractive(key) {\n",
              "          const element = document.querySelector('#df-ecd1dc5f-a7f0-4d62-b5e5-45634326b604');\n",
              "          const dataTable =\n",
              "            await google.colab.kernel.invokeFunction('convertToInteractive',\n",
              "                                                     [key], {});\n",
              "          if (!dataTable) return;\n",
              "\n",
              "          const docLinkHtml = 'Like what you see? Visit the ' +\n",
              "            '<a target=\"_blank\" href=https://colab.research.google.com/notebooks/data_table.ipynb>data table notebook</a>'\n",
              "            + ' to learn more about interactive tables.';\n",
              "          element.innerHTML = '';\n",
              "          dataTable['output_type'] = 'display_data';\n",
              "          await google.colab.output.renderOutput(dataTable, element);\n",
              "          const docLink = document.createElement('div');\n",
              "          docLink.innerHTML = docLinkHtml;\n",
              "          element.appendChild(docLink);\n",
              "        }\n",
              "      </script>\n",
              "    </div>\n",
              "  </div>\n",
              "  "
            ],
            "text/plain": [
              "          AAPL      AMZN       MMM       XOM\n",
              "AAPL  0.013758  0.007947  0.005863  0.007257\n",
              "AMZN  0.007947  0.009295  0.002683  0.003098\n",
              "MMM   0.005863  0.002683  0.008886  0.008297\n",
              "XOM   0.007257  0.003098  0.008297  0.017708"
            ]
          },
          "execution_count": 62,
          "metadata": {},
          "output_type": "execute_result"
        }
      ],
      "source": [
        "#For Annualized covariance\n",
        "returns.cov() * np.sqrt(252)"
      ]
    },
    {
      "cell_type": "markdown",
      "metadata": {
        "id": "V-XEEvVb5yb9"
      },
      "source": [
        "##For Drawing Efficient Frontier"
      ]
    },
    {
      "cell_type": "code",
      "execution_count": 63,
      "metadata": {
        "id": "MmqCWE0V5iQw"
      },
      "outputs": [],
      "source": [
        "mu = expected_returns.mean_historical_return(stock_data)\n",
        "S = risk_models.sample_cov(stock_data)"
      ]
    },
    {
      "cell_type": "code",
      "execution_count": 73,
      "metadata": {
        "colab": {
          "base_uri": "https://localhost:8080/",
          "height": 297
        },
        "id": "j22BG4We8Q6t",
        "outputId": "181ca87a-1bfd-4cd6-b388-36827eb467eb"
      },
      "outputs": [
        {
          "data": {
            "image/png": "[encoded data removed]",
            "text/plain": [
              "<Figure size 432x288 with 1 Axes>"
            ]
          },
          "metadata": {
            "needs_background": "light"
          },
          "output_type": "display_data"
        }
      ],
      "source": [
        "EfFrnt = EfficientFrontier(mu, S, weight_bounds=(None, None))\n",
        "EfFrnt.add_constraint(lambda w: w[0] >= 0.23)\n",
        "EfFrnt.add_constraint(lambda w: w[2] == 0.18)\n",
        "EfFrnt.add_constraint(lambda w: w[3] <= 0.14)\n",
        "fig, ax = plt.subplots()\n",
        "plotting.plot_efficient_frontier(EfFrnt, ax=ax, show_assets=True, ef_param_range=None)\n",
        "plt.show()\n"
      ]
    },
    {
      "cell_type": "markdown",
      "metadata": {
        "id": "P2W5-j_rA5b1"
      },
      "source": [
        "##Calculation of sharpe ratio using risk free rate"
      ]
    },
    {
      "cell_type": "markdown",
      "metadata": {
        "id": "sTdebeUiEppV"
      },
      "source": [
        "###Here we have written out own code for finding sharpe ratio for all the stocks."
      ]
    },
    {
      "cell_type": "code",
      "execution_count": 74,
      "metadata": {
        "id": "HaK-WOS0AZ5f"
      },
      "outputs": [],
      "source": [
        "risk_free_rate = 0.01 #We are asked to use this rate\n",
        "ratios={}\n",
        "def sharpe(stocks, risk_free_rate, assets_count):\n",
        "    for i,j in zip(stocks, range(assets_count)):\n",
        "        ratios[i] = round((returns.iloc[:, j].mean()* 252 - risk_free_rate) / (returns.iloc[:, j].std() * np.sqrt(252)), 4)\n",
        "    return ratios"
      ]
    },
    {
      "cell_type": "code",
      "execution_count": 75,
      "metadata": {
        "colab": {
          "base_uri": "https://localhost:8080/"
        },
        "id": "352xi_ZcBXEN",
        "outputId": "eaef9a26-13ce-44d7-8971-8019b20fc0aa"
      },
      "outputs": [
        {
          "data": {
            "text/plain": [
              "{'AAPL': 1.1969, 'AMZN': 1.3797, 'MMM': -0.1048, 'XOM': -1.0418}"
            ]
          },
          "execution_count": 75,
          "metadata": {},
          "output_type": "execute_result"
        }
      ],
      "source": [
        "stocks = returns.columns[:4]\n",
        "ratios = sharpe(stocks, risk_free_rate, 4)\n",
        "ratios"
      ]
    },
    {
      "cell_type": "markdown",
      "metadata": {
        "id": "pw1_vnnKByvi"
      },
      "source": [
        "###Interpretation of above results:\n",
        "\n",
        "We can see that the sharpe ratio of Amazon is higher which also means that returns are higher for this stock. i.e. Amazon\n",
        "\n",
        "We can see that the sharpe ratio of XOM is higher which also means that returns are higher for this stock. i.e. XOM"
      ]
    },
    {
      "cell_type": "markdown",
      "metadata": {
        "id": "g-CM4zYVFSgG"
      },
      "source": [
        "###Here we are using the max_sharpe() function of EfficientFrontier Library to find out the sharpe ratio of the portfolio."
      ]
    },
    {
      "cell_type": "code",
      "execution_count": 76,
      "metadata": {
        "colab": {
          "base_uri": "https://localhost:8080/"
        },
        "id": "0JVSyoOTC2JU",
        "outputId": "7d41e002-fc73-401b-e273-a4a9065c8850"
      },
      "outputs": [
        {
          "data": {
            "text/plain": [
              "OrderedDict([('AAPL', 0.28810501790724),\n",
              "             ('AMZN', 0.7118949820927601),\n",
              "             ('MMM', 0.0),\n",
              "             ('XOM', 0.0)])"
            ]
          },
          "execution_count": 76,
          "metadata": {},
          "output_type": "execute_result"
        }
      ],
      "source": [
        "efFrnt = EfficientFrontier(mu, S)\n",
        "efFrnt.max_sharpe()"
      ]
    },
    {
      "cell_type": "markdown",
      "metadata": {
        "id": "T_F7q1tvF2E-"
      },
      "source": [
        "\n",
        "###Interpretation:\n",
        "\n",
        "So, here we can see that the weight of amazon is highest in the portfolio\n",
        "\n",
        "\n"
      ]
    },
    {
      "cell_type": "code",
      "execution_count": 67,
      "metadata": {
        "id": "GnZHfn6WFv2F"
      },
      "outputs": [],
      "source": []
    }
  ],
  "metadata": {
    "colab": {
      "collapsed_sections": [],
      "provenance": []
    },
    "kernelspec": {
      "display_name": "Python 3 (ipykernel)",
      "language": "python",
      "name": "python3"
    },
    "language_info": {
      "codemirror_mode": {
        "name": "ipython",
        "version": 3
      },
      "file_extension": ".py",
      "mimetype": "text/x-python",
      "name": "python",
      "nbconvert_exporter": "python",
      "pygments_lexer": "ipython3",
      "version": "3.9.7"
    },
    "latex_envs": {
      "LaTeX_envs_menu_present": true,
      "autoclose": false,
      "autocomplete": true,
      "bibliofile": "biblio.bib",
      "cite_by": "apalike",
      "current_citInitial": 1,
      "eqLabelWithNumbers": true,
      "eqNumInitial": 1,
      "hotkeys": {
        "equation": "Ctrl-E",
        "itemize": "Ctrl-I"
      },
      "labels_anchors": false,
      "latex_user_defs": false,
      "report_style_numbering": false,
      "user_envs_cfg": false
    },
    "toc": {
      "base_numbering": 1,
      "nav_menu": {},
      "number_sections": false,
      "sideBar": true,
      "skip_h1_title": false,
      "title_cell": "Table of Contents",
      "title_sidebar": "Contents",
      "toc_cell": false,
      "toc_position": {},
      "toc_section_display": true,
      "toc_window_display": false
    }
  },
  "nbformat": 4,
  "nbformat_minor": 0
}
